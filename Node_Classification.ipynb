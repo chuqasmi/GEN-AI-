{
  "nbformat": 4,
  "nbformat_minor": 0,
  "metadata": {
    "colab": {
      "provenance": [],
      "include_colab_link": true
    },
    "kernelspec": {
      "name": "python3",
      "display_name": "Python 3"
    },
    "accelerator": "GPU",
    "gpuClass": "standard"
  },
  "cells": [
    {
      "cell_type": "markdown",
      "metadata": {
        "id": "view-in-github",
        "colab_type": "text"
      },
      "source": [
        "<a href=\"https://colab.research.google.com/github/chuqasmi/GEN-AI-/blob/main/Node_Classification.ipynb\" target=\"_parent\"><img src=\"https://colab.research.google.com/assets/colab-badge.svg\" alt=\"Open In Colab\"/></a>"
      ]
    },
    {
      "cell_type": "code",
      "metadata": {
        "id": "F1op-CbyLuN4",
        "colab": {
          "base_uri": "https://localhost:8080/"
        },
        "outputId": "77161ee9-d6f7-4544-e129-b418b8aed3e6"
      },
      "source": [
        "# Install required packages.\n",
        "import os\n",
        "import torch\n",
        "os.environ['TORCH'] = torch.__version__\n",
        "print(torch.__version__)\n",
        "\n",
        "!pip install -q torch-scatter -f https://data.pyg.org/whl/torch-${TORCH}.html\n",
        "!pip install -q torch-sparse -f https://data.pyg.org/whl/torch-${TORCH}.html\n",
        "!pip install torch-geometric\n",
        "\n",
        "import torch_geometric\n",
        "print(torch_geometric.__version__)"
      ],
      "execution_count": 1,
      "outputs": [
        {
          "output_type": "stream",
          "name": "stdout",
          "text": [
            "2.1.0+cu121\n",
            "\u001b[2K     \u001b[90m━━━━━━━━━━━━━━━━━━━━━━━━━━━━━━━━━━━━━━━━\u001b[0m \u001b[32m10.8/10.8 MB\u001b[0m \u001b[31m87.2 MB/s\u001b[0m eta \u001b[36m0:00:00\u001b[0m\n",
            "\u001b[2K     \u001b[90m━━━━━━━━━━━━━━━━━━━━━━━━━━━━━━━━━━━━━━━━\u001b[0m \u001b[32m5.0/5.0 MB\u001b[0m \u001b[31m18.0 MB/s\u001b[0m eta \u001b[36m0:00:00\u001b[0m\n",
            "\u001b[?25hCollecting torch-geometric\n",
            "  Downloading torch_geometric-2.5.0-py3-none-any.whl (1.1 MB)\n",
            "\u001b[2K     \u001b[90m━━━━━━━━━━━━━━━━━━━━━━━━━━━━━━━━━━━━━━━━\u001b[0m \u001b[32m1.1/1.1 MB\u001b[0m \u001b[31m22.8 MB/s\u001b[0m eta \u001b[36m0:00:00\u001b[0m\n",
            "\u001b[?25hRequirement already satisfied: tqdm in /usr/local/lib/python3.10/dist-packages (from torch-geometric) (4.66.2)\n",
            "Requirement already satisfied: numpy in /usr/local/lib/python3.10/dist-packages (from torch-geometric) (1.25.2)\n",
            "Requirement already satisfied: scipy in /usr/local/lib/python3.10/dist-packages (from torch-geometric) (1.11.4)\n",
            "Requirement already satisfied: fsspec in /usr/local/lib/python3.10/dist-packages (from torch-geometric) (2023.6.0)\n",
            "Requirement already satisfied: jinja2 in /usr/local/lib/python3.10/dist-packages (from torch-geometric) (3.1.3)\n",
            "Requirement already satisfied: aiohttp in /usr/local/lib/python3.10/dist-packages (from torch-geometric) (3.9.3)\n",
            "Requirement already satisfied: requests in /usr/local/lib/python3.10/dist-packages (from torch-geometric) (2.31.0)\n",
            "Requirement already satisfied: pyparsing in /usr/local/lib/python3.10/dist-packages (from torch-geometric) (3.1.1)\n",
            "Requirement already satisfied: scikit-learn in /usr/local/lib/python3.10/dist-packages (from torch-geometric) (1.2.2)\n",
            "Requirement already satisfied: psutil>=5.8.0 in /usr/local/lib/python3.10/dist-packages (from torch-geometric) (5.9.5)\n",
            "Requirement already satisfied: aiosignal>=1.1.2 in /usr/local/lib/python3.10/dist-packages (from aiohttp->torch-geometric) (1.3.1)\n",
            "Requirement already satisfied: attrs>=17.3.0 in /usr/local/lib/python3.10/dist-packages (from aiohttp->torch-geometric) (23.2.0)\n",
            "Requirement already satisfied: frozenlist>=1.1.1 in /usr/local/lib/python3.10/dist-packages (from aiohttp->torch-geometric) (1.4.1)\n",
            "Requirement already satisfied: multidict<7.0,>=4.5 in /usr/local/lib/python3.10/dist-packages (from aiohttp->torch-geometric) (6.0.5)\n",
            "Requirement already satisfied: yarl<2.0,>=1.0 in /usr/local/lib/python3.10/dist-packages (from aiohttp->torch-geometric) (1.9.4)\n",
            "Requirement already satisfied: async-timeout<5.0,>=4.0 in /usr/local/lib/python3.10/dist-packages (from aiohttp->torch-geometric) (4.0.3)\n",
            "Requirement already satisfied: MarkupSafe>=2.0 in /usr/local/lib/python3.10/dist-packages (from jinja2->torch-geometric) (2.1.5)\n",
            "Requirement already satisfied: charset-normalizer<4,>=2 in /usr/local/lib/python3.10/dist-packages (from requests->torch-geometric) (3.3.2)\n",
            "Requirement already satisfied: idna<4,>=2.5 in /usr/local/lib/python3.10/dist-packages (from requests->torch-geometric) (3.6)\n",
            "Requirement already satisfied: urllib3<3,>=1.21.1 in /usr/local/lib/python3.10/dist-packages (from requests->torch-geometric) (2.0.7)\n",
            "Requirement already satisfied: certifi>=2017.4.17 in /usr/local/lib/python3.10/dist-packages (from requests->torch-geometric) (2024.2.2)\n",
            "Requirement already satisfied: joblib>=1.1.1 in /usr/local/lib/python3.10/dist-packages (from scikit-learn->torch-geometric) (1.3.2)\n",
            "Requirement already satisfied: threadpoolctl>=2.0.0 in /usr/local/lib/python3.10/dist-packages (from scikit-learn->torch-geometric) (3.3.0)\n",
            "Installing collected packages: torch-geometric\n",
            "Successfully installed torch-geometric-2.5.0\n",
            "2.5.0\n"
          ]
        }
      ]
    },
    {
      "cell_type": "markdown",
      "metadata": {
        "id": "dszt2RUHE7lW"
      },
      "source": [
        "# Node Classification with Graph Neural Networks\n",
        "\n",
        "This tutorial will teach you how to apply **Graph Neural Networks (GNNs) to the task of node classification**.\n",
        "Here, we are given the ground-truth labels of only a small subset of nodes, and want to infer the labels for all the remaining nodes (*transductive learning*).\n",
        "\n",
        "To demonstrate, we make use of the `Cora` dataset, which is a **citation network** where nodes represent documents.\n",
        "Each node is described by a 1433-dimensional bag-of-words feature vector.\n",
        "Two documents are connected if there exists a citation link between them.\n",
        "The task is to infer the category of each document (7 in total)."
      ]
    },
    {
      "cell_type": "code",
      "metadata": {
        "id": "imGrKO5YH11-",
        "colab": {
          "base_uri": "https://localhost:8080/"
        },
        "outputId": "8fdfd89b-736b-490c-8d37-fed5a6bed3f5"
      },
      "source": [
        "from torch_geometric.datasets import Planetoid\n",
        "from torch_geometric.transforms import NormalizeFeatures\n",
        "\n",
        "dataset = Planetoid(root='data/Planetoid', name='Cora', transform=NormalizeFeatures())\n",
        "\n",
        "print()\n",
        "print(f'Dataset: {dataset}:')\n",
        "print(f'Number of graphs: {len(dataset)}')\n",
        "print(f'Number of features: {dataset.num_features}')\n",
        "print(f'Number of classes: {dataset.num_classes}')\n",
        "\n",
        "data = dataset[0]  # Get the first graph object.\n",
        "print(data.y)\n",
        "uni, count = torch.unique(data.y, return_counts=True)\n",
        "print(uni, count)\n",
        "\n",
        "# Gather some statistics about the graph.\n",
        "print(f'Number of nodes: {data.num_nodes}')\n",
        "print(f'Number of edges: {data.num_edges}')\n",
        "print(f'Average node degree: {data.num_edges / data.num_nodes:.2f}')\n",
        "print(f'Number of training nodes: {data.train_mask.sum()}')\n",
        "print(f'Number of validation nodes: {data.val_mask.sum()}')\n",
        "print(f'Number of test nodes: {data.test_mask.sum()}')\n",
        "print(f'Training node label rate: {int(data.train_mask.sum()) / data.num_nodes:.2f}')\n",
        "print(f'Has isolated nodes: {data.has_isolated_nodes()}')\n",
        "print(f'Has self-loops: {data.has_self_loops()}')\n",
        "print(f'Is undirected: {data.is_undirected()}')"
      ],
      "execution_count": null,
      "outputs": [
        {
          "output_type": "stream",
          "name": "stderr",
          "text": [
            "Downloading https://github.com/kimiyoung/planetoid/raw/master/data/ind.cora.x\n",
            "Downloading https://github.com/kimiyoung/planetoid/raw/master/data/ind.cora.tx\n",
            "Downloading https://github.com/kimiyoung/planetoid/raw/master/data/ind.cora.allx\n",
            "Downloading https://github.com/kimiyoung/planetoid/raw/master/data/ind.cora.y\n",
            "Downloading https://github.com/kimiyoung/planetoid/raw/master/data/ind.cora.ty\n",
            "Downloading https://github.com/kimiyoung/planetoid/raw/master/data/ind.cora.ally\n",
            "Downloading https://github.com/kimiyoung/planetoid/raw/master/data/ind.cora.graph\n",
            "Downloading https://github.com/kimiyoung/planetoid/raw/master/data/ind.cora.test.index\n",
            "Processing...\n"
          ]
        },
        {
          "output_type": "stream",
          "name": "stdout",
          "text": [
            "\n",
            "Dataset: Cora():\n",
            "Number of graphs: 1\n",
            "Number of features: 1433\n",
            "Number of classes: 7\n",
            "tensor([3, 4, 4,  ..., 3, 3, 3])\n",
            "tensor([0, 1, 2, 3, 4, 5, 6]) tensor([351, 217, 418, 818, 426, 298, 180])\n",
            "Number of nodes: 2708\n",
            "Number of edges: 10556\n",
            "Average node degree: 3.90\n",
            "Number of training nodes: 140\n",
            "Number of validation nodes: 500\n",
            "Number of test nodes: 1000\n",
            "Training node label rate: 0.05\n",
            "Has isolated nodes: False\n",
            "Has self-loops: False\n",
            "Is undirected: True\n"
          ]
        },
        {
          "output_type": "stream",
          "name": "stderr",
          "text": [
            "Done!\n"
          ]
        }
      ]
    },
    {
      "cell_type": "markdown",
      "metadata": {
        "id": "eqWR0j_kIx67"
      },
      "source": [
        "We can see that the `Cora` network holds 2,708 nodes and 10,556 edges, resulting in an average node degree of 3.9.\n",
        "For training this dataset, we are given the ground-truth categories of 140 nodes (20 for each class).\n",
        "This results in a training node label rate of only 5%.\n",
        "\n",
        "This graph holds the additional attributes `val_mask` and `test_mask`, which denotes which nodes should be used for validation and testing.\n",
        "\n",
        "We can further see that this network is undirected, and that there exists no isolated nodes (each document has at least one citation)."
      ]
    },
    {
      "cell_type": "markdown",
      "metadata": {
        "id": "5IRdAELVKOl6"
      },
      "source": [
        "## Training a Multi-layer Perception Network (MLP)\n",
        "\n",
        "In theory, we should be able to infer the category of a document solely based on its content, *i.e.* its bag-of-words feature representation, without taking any relational information into account.\n",
        "\n",
        "Let's verify that by constructing a simple MLP that solely operates on input node features (using shared weights across all nodes):"
      ]
    },
    {
      "cell_type": "code",
      "metadata": {
        "id": "afXwPCA3KNoC",
        "colab": {
          "base_uri": "https://localhost:8080/"
        },
        "outputId": "fd617b1f-1e0c-4efe-9ff2-2194fbf4b985"
      },
      "source": [
        "import torch\n",
        "from torch.nn import Linear\n",
        "import torch.nn.functional as F\n",
        "\n",
        "class MLP(torch.nn.Module):\n",
        "    def __init__(self, hidden_channels):\n",
        "        super().__init__()\n",
        "        torch.manual_seed(12345)\n",
        "        self.lin1 = Linear(dataset.num_features, hidden_channels)\n",
        "        self.lin2 = Linear(hidden_channels, dataset.num_classes)\n",
        "\n",
        "    def forward(self, x):\n",
        "        x = self.lin1(x)\n",
        "        x = x.relu()\n",
        "        #x = F.dropout(x, p=0.5, training=self.training)\n",
        "        x = self.lin2(x)\n",
        "        return x\n",
        "\n",
        "model = MLP(hidden_channels=16)\n",
        "print(model)"
      ],
      "execution_count": null,
      "outputs": [
        {
          "output_type": "stream",
          "name": "stdout",
          "text": [
            "MLP(\n",
            "  (lin1): Linear(in_features=1433, out_features=16, bias=True)\n",
            "  (lin2): Linear(in_features=16, out_features=7, bias=True)\n",
            ")\n"
          ]
        }
      ]
    },
    {
      "cell_type": "markdown",
      "metadata": {
        "id": "L_PO9EEHL7J6"
      },
      "source": [
        "Our MLP is defined by two linear layers and enhanced by [ReLU](https://pytorch.org/docs/stable/generated/torch.nn.ReLU.html?highlight=relu#torch.nn.ReLU) non-linearity and [dropout](https://pytorch.org/docs/stable/generated/torch.nn.Dropout.html?highlight=dropout#torch.nn.Dropout).\n",
        "Here, we first reduce the 1433-dimensional feature vector to a low-dimensional embedding (`hidden_channels=16`), while the second linear layer acts as a classifier that should map each low-dimensional node embedding to one of the 7 classes.\n",
        "\n",
        "Let's train our simple MLP by following a similar procedure as described in [the first part of this tutorial](https://colab.research.google.com/drive/1h3-vJGRVloF5zStxL5I0rSy4ZUPNsjy8).\n",
        "We again make use of the **cross entropy loss** and **Adam optimizer**.\n",
        "This time, we also define a **`test` function** to evaluate how well our final model performs on the test node set (which labels have not been observed during training)."
      ]
    },
    {
      "cell_type": "code",
      "metadata": {
        "id": "0YgHcLXMLk4o",
        "colab": {
          "base_uri": "https://localhost:8080/",
          "height": 300
        },
        "outputId": "44e0cbe3-a416-46f5-9c47-449e7384162f"
      },
      "source": [
        "from IPython.display import Javascript  # Restrict height of output cell.\n",
        "display(Javascript('''google.colab.output.setIframeHeight(0, true, {maxHeight: 300})'''))\n",
        "\n",
        "model = MLP(hidden_channels=16)\n",
        "criterion = torch.nn.CrossEntropyLoss()  # Define loss criterion.\n",
        "optimizer = torch.optim.Adam(model.parameters(), lr=0.01, weight_decay=5e-4)  # Define optimizer.\n",
        "\n",
        "def train():\n",
        "      model.train()\n",
        "      optimizer.zero_grad()  # Clear gradients.\n",
        "      out = model(data.x)  # Perform a single forward pass.\n",
        "      loss = criterion(out[data.train_mask], data.y[data.train_mask])  # Compute the loss solely based on the training nodes.\n",
        "      val_loss = criterion(out[data.val_mask], data.y[data.val_mask])\n",
        "      loss.backward()  # Derive gradients.\n",
        "      optimizer.step()  # Update parameters based on gradients.\n",
        "      return loss, val_loss\n",
        "\n",
        "def test():\n",
        "      model.eval()\n",
        "      out = model(data.x)\n",
        "      pred = out.argmax(dim=1)  # Use the class with highest probability.\n",
        "      test_correct = pred[data.test_mask] == data.y[data.test_mask]  # Check against ground-truth labels.\n",
        "      test_acc = int(test_correct.sum()) / int(data.test_mask.sum())  # Derive ratio of correct predictions.\n",
        "      return test_acc\n",
        "\n",
        "for epoch in range(1, 201):\n",
        "    loss, val_loss = train()\n",
        "    print(f'Epoch: {epoch:03d}, Loss: {loss:.4f}, Validation loss: {val_loss:.4f}')"
      ],
      "execution_count": null,
      "outputs": [
        {
          "output_type": "display_data",
          "data": {
            "text/plain": [
              "<IPython.core.display.Javascript object>"
            ],
            "application/javascript": [
              "google.colab.output.setIframeHeight(0, true, {maxHeight: 300})"
            ]
          },
          "metadata": {}
        },
        {
          "output_type": "stream",
          "name": "stdout",
          "text": [
            "Epoch: 001, Loss: 1.9615, Validation loss: 2.0364\n",
            "Epoch: 002, Loss: 1.9538, Validation loss: 2.0268\n",
            "Epoch: 003, Loss: 1.9452, Validation loss: 2.0164\n",
            "Epoch: 004, Loss: 1.9357, Validation loss: 2.0056\n",
            "Epoch: 005, Loss: 1.9250, Validation loss: 1.9948\n",
            "Epoch: 006, Loss: 1.9136, Validation loss: 1.9837\n",
            "Epoch: 007, Loss: 1.9011, Validation loss: 1.9725\n",
            "Epoch: 008, Loss: 1.8877, Validation loss: 1.9612\n",
            "Epoch: 009, Loss: 1.8735, Validation loss: 1.9498\n",
            "Epoch: 010, Loss: 1.8583, Validation loss: 1.9387\n",
            "Epoch: 011, Loss: 1.8421, Validation loss: 1.9278\n",
            "Epoch: 012, Loss: 1.8250, Validation loss: 1.9171\n",
            "Epoch: 013, Loss: 1.8068, Validation loss: 1.9068\n",
            "Epoch: 014, Loss: 1.7875, Validation loss: 1.8970\n",
            "Epoch: 015, Loss: 1.7672, Validation loss: 1.8875\n",
            "Epoch: 016, Loss: 1.7457, Validation loss: 1.8783\n",
            "Epoch: 017, Loss: 1.7232, Validation loss: 1.8694\n",
            "Epoch: 018, Loss: 1.6996, Validation loss: 1.8609\n",
            "Epoch: 019, Loss: 1.6749, Validation loss: 1.8526\n",
            "Epoch: 020, Loss: 1.6492, Validation loss: 1.8445\n",
            "Epoch: 021, Loss: 1.6225, Validation loss: 1.8366\n",
            "Epoch: 022, Loss: 1.5948, Validation loss: 1.8288\n",
            "Epoch: 023, Loss: 1.5663, Validation loss: 1.8205\n",
            "Epoch: 024, Loss: 1.5369, Validation loss: 1.8117\n",
            "Epoch: 025, Loss: 1.5065, Validation loss: 1.8025\n",
            "Epoch: 026, Loss: 1.4754, Validation loss: 1.7926\n",
            "Epoch: 027, Loss: 1.4435, Validation loss: 1.7825\n",
            "Epoch: 028, Loss: 1.4110, Validation loss: 1.7722\n",
            "Epoch: 029, Loss: 1.3780, Validation loss: 1.7619\n",
            "Epoch: 030, Loss: 1.3445, Validation loss: 1.7521\n",
            "Epoch: 031, Loss: 1.3106, Validation loss: 1.7429\n",
            "Epoch: 032, Loss: 1.2764, Validation loss: 1.7341\n",
            "Epoch: 033, Loss: 1.2420, Validation loss: 1.7253\n",
            "Epoch: 034, Loss: 1.2075, Validation loss: 1.7158\n",
            "Epoch: 035, Loss: 1.1730, Validation loss: 1.7058\n",
            "Epoch: 036, Loss: 1.1386, Validation loss: 1.6966\n",
            "Epoch: 037, Loss: 1.1044, Validation loss: 1.6876\n",
            "Epoch: 038, Loss: 1.0706, Validation loss: 1.6786\n",
            "Epoch: 039, Loss: 1.0371, Validation loss: 1.6696\n",
            "Epoch: 040, Loss: 1.0040, Validation loss: 1.6605\n",
            "Epoch: 041, Loss: 0.9715, Validation loss: 1.6515\n",
            "Epoch: 042, Loss: 0.9395, Validation loss: 1.6428\n",
            "Epoch: 043, Loss: 0.9081, Validation loss: 1.6342\n",
            "Epoch: 044, Loss: 0.8773, Validation loss: 1.6259\n",
            "Epoch: 045, Loss: 0.8474, Validation loss: 1.6172\n",
            "Epoch: 046, Loss: 0.8183, Validation loss: 1.6087\n",
            "Epoch: 047, Loss: 0.7900, Validation loss: 1.6007\n",
            "Epoch: 048, Loss: 0.7626, Validation loss: 1.5924\n",
            "Epoch: 049, Loss: 0.7361, Validation loss: 1.5839\n",
            "Epoch: 050, Loss: 0.7104, Validation loss: 1.5760\n",
            "Epoch: 051, Loss: 0.6857, Validation loss: 1.5684\n",
            "Epoch: 052, Loss: 0.6619, Validation loss: 1.5607\n",
            "Epoch: 053, Loss: 0.6391, Validation loss: 1.5529\n",
            "Epoch: 054, Loss: 0.6171, Validation loss: 1.5455\n",
            "Epoch: 055, Loss: 0.5961, Validation loss: 1.5393\n",
            "Epoch: 056, Loss: 0.5760, Validation loss: 1.5326\n",
            "Epoch: 057, Loss: 0.5568, Validation loss: 1.5258\n",
            "Epoch: 058, Loss: 0.5385, Validation loss: 1.5192\n",
            "Epoch: 059, Loss: 0.5211, Validation loss: 1.5130\n",
            "Epoch: 060, Loss: 0.5044, Validation loss: 1.5075\n",
            "Epoch: 061, Loss: 0.4886, Validation loss: 1.5018\n",
            "Epoch: 062, Loss: 0.4736, Validation loss: 1.4961\n",
            "Epoch: 063, Loss: 0.4593, Validation loss: 1.4908\n",
            "Epoch: 064, Loss: 0.4457, Validation loss: 1.4861\n",
            "Epoch: 065, Loss: 0.4328, Validation loss: 1.4810\n",
            "Epoch: 066, Loss: 0.4206, Validation loss: 1.4766\n",
            "Epoch: 067, Loss: 0.4091, Validation loss: 1.4721\n",
            "Epoch: 068, Loss: 0.3981, Validation loss: 1.4676\n",
            "Epoch: 069, Loss: 0.3877, Validation loss: 1.4639\n",
            "Epoch: 070, Loss: 0.3778, Validation loss: 1.4602\n",
            "Epoch: 071, Loss: 0.3684, Validation loss: 1.4558\n",
            "Epoch: 072, Loss: 0.3595, Validation loss: 1.4521\n",
            "Epoch: 073, Loss: 0.3511, Validation loss: 1.4488\n",
            "Epoch: 074, Loss: 0.3430, Validation loss: 1.4451\n",
            "Epoch: 075, Loss: 0.3354, Validation loss: 1.4415\n",
            "Epoch: 076, Loss: 0.3282, Validation loss: 1.4384\n",
            "Epoch: 077, Loss: 0.3213, Validation loss: 1.4356\n",
            "Epoch: 078, Loss: 0.3148, Validation loss: 1.4322\n",
            "Epoch: 079, Loss: 0.3085, Validation loss: 1.4288\n",
            "Epoch: 080, Loss: 0.3026, Validation loss: 1.4258\n",
            "Epoch: 081, Loss: 0.2970, Validation loss: 1.4231\n",
            "Epoch: 082, Loss: 0.2916, Validation loss: 1.4203\n",
            "Epoch: 083, Loss: 0.2864, Validation loss: 1.4172\n",
            "Epoch: 084, Loss: 0.2815, Validation loss: 1.4145\n",
            "Epoch: 085, Loss: 0.2768, Validation loss: 1.4119\n",
            "Epoch: 086, Loss: 0.2724, Validation loss: 1.4097\n",
            "Epoch: 087, Loss: 0.2680, Validation loss: 1.4070\n",
            "Epoch: 088, Loss: 0.2639, Validation loss: 1.4042\n",
            "Epoch: 089, Loss: 0.2600, Validation loss: 1.4018\n",
            "Epoch: 090, Loss: 0.2562, Validation loss: 1.4002\n",
            "Epoch: 091, Loss: 0.2525, Validation loss: 1.3980\n",
            "Epoch: 092, Loss: 0.2490, Validation loss: 1.3956\n",
            "Epoch: 093, Loss: 0.2456, Validation loss: 1.3935\n",
            "Epoch: 094, Loss: 0.2424, Validation loss: 1.3921\n",
            "Epoch: 095, Loss: 0.2392, Validation loss: 1.3903\n",
            "Epoch: 096, Loss: 0.2362, Validation loss: 1.3881\n",
            "Epoch: 097, Loss: 0.2332, Validation loss: 1.3865\n",
            "Epoch: 098, Loss: 0.2304, Validation loss: 1.3851\n",
            "Epoch: 099, Loss: 0.2276, Validation loss: 1.3835\n",
            "Epoch: 100, Loss: 0.2249, Validation loss: 1.3817\n",
            "Epoch: 101, Loss: 0.2223, Validation loss: 1.3795\n",
            "Epoch: 102, Loss: 0.2198, Validation loss: 1.3780\n",
            "Epoch: 103, Loss: 0.2174, Validation loss: 1.3769\n",
            "Epoch: 104, Loss: 0.2150, Validation loss: 1.3755\n",
            "Epoch: 105, Loss: 0.2127, Validation loss: 1.3740\n",
            "Epoch: 106, Loss: 0.2104, Validation loss: 1.3726\n",
            "Epoch: 107, Loss: 0.2082, Validation loss: 1.3710\n",
            "Epoch: 108, Loss: 0.2061, Validation loss: 1.3692\n",
            "Epoch: 109, Loss: 0.2041, Validation loss: 1.3680\n",
            "Epoch: 110, Loss: 0.2020, Validation loss: 1.3666\n",
            "Epoch: 111, Loss: 0.2001, Validation loss: 1.3651\n",
            "Epoch: 112, Loss: 0.1982, Validation loss: 1.3640\n",
            "Epoch: 113, Loss: 0.1963, Validation loss: 1.3629\n",
            "Epoch: 114, Loss: 0.1945, Validation loss: 1.3617\n",
            "Epoch: 115, Loss: 0.1927, Validation loss: 1.3602\n",
            "Epoch: 116, Loss: 0.1910, Validation loss: 1.3585\n",
            "Epoch: 117, Loss: 0.1893, Validation loss: 1.3574\n",
            "Epoch: 118, Loss: 0.1876, Validation loss: 1.3565\n",
            "Epoch: 119, Loss: 0.1860, Validation loss: 1.3555\n",
            "Epoch: 120, Loss: 0.1844, Validation loss: 1.3547\n",
            "Epoch: 121, Loss: 0.1828, Validation loss: 1.3541\n",
            "Epoch: 122, Loss: 0.1813, Validation loss: 1.3532\n",
            "Epoch: 123, Loss: 0.1798, Validation loss: 1.3520\n",
            "Epoch: 124, Loss: 0.1783, Validation loss: 1.3505\n",
            "Epoch: 125, Loss: 0.1769, Validation loss: 1.3494\n",
            "Epoch: 126, Loss: 0.1755, Validation loss: 1.3490\n",
            "Epoch: 127, Loss: 0.1741, Validation loss: 1.3484\n",
            "Epoch: 128, Loss: 0.1728, Validation loss: 1.3469\n",
            "Epoch: 129, Loss: 0.1715, Validation loss: 1.3458\n",
            "Epoch: 130, Loss: 0.1702, Validation loss: 1.3453\n",
            "Epoch: 131, Loss: 0.1689, Validation loss: 1.3444\n",
            "Epoch: 132, Loss: 0.1677, Validation loss: 1.3434\n",
            "Epoch: 133, Loss: 0.1665, Validation loss: 1.3425\n",
            "Epoch: 134, Loss: 0.1653, Validation loss: 1.3417\n",
            "Epoch: 135, Loss: 0.1641, Validation loss: 1.3412\n",
            "Epoch: 136, Loss: 0.1630, Validation loss: 1.3402\n",
            "Epoch: 137, Loss: 0.1618, Validation loss: 1.3394\n",
            "Epoch: 138, Loss: 0.1607, Validation loss: 1.3386\n",
            "Epoch: 139, Loss: 0.1596, Validation loss: 1.3377\n",
            "Epoch: 140, Loss: 0.1586, Validation loss: 1.3370\n",
            "Epoch: 141, Loss: 0.1575, Validation loss: 1.3368\n",
            "Epoch: 142, Loss: 0.1565, Validation loss: 1.3364\n",
            "Epoch: 143, Loss: 0.1555, Validation loss: 1.3356\n",
            "Epoch: 144, Loss: 0.1545, Validation loss: 1.3344\n",
            "Epoch: 145, Loss: 0.1535, Validation loss: 1.3339\n",
            "Epoch: 146, Loss: 0.1525, Validation loss: 1.3336\n",
            "Epoch: 147, Loss: 0.1516, Validation loss: 1.3330\n",
            "Epoch: 148, Loss: 0.1507, Validation loss: 1.3320\n",
            "Epoch: 149, Loss: 0.1497, Validation loss: 1.3312\n",
            "Epoch: 150, Loss: 0.1488, Validation loss: 1.3306\n",
            "Epoch: 151, Loss: 0.1480, Validation loss: 1.3303\n",
            "Epoch: 152, Loss: 0.1471, Validation loss: 1.3298\n",
            "Epoch: 153, Loss: 0.1462, Validation loss: 1.3288\n",
            "Epoch: 154, Loss: 0.1454, Validation loss: 1.3282\n",
            "Epoch: 155, Loss: 0.1446, Validation loss: 1.3274\n",
            "Epoch: 156, Loss: 0.1438, Validation loss: 1.3270\n",
            "Epoch: 157, Loss: 0.1430, Validation loss: 1.3271\n",
            "Epoch: 158, Loss: 0.1422, Validation loss: 1.3269\n",
            "Epoch: 159, Loss: 0.1414, Validation loss: 1.3260\n",
            "Epoch: 160, Loss: 0.1406, Validation loss: 1.3254\n",
            "Epoch: 161, Loss: 0.1398, Validation loss: 1.3252\n",
            "Epoch: 162, Loss: 0.1390, Validation loss: 1.3246\n",
            "Epoch: 163, Loss: 0.1382, Validation loss: 1.3238\n",
            "Epoch: 164, Loss: 0.1374, Validation loss: 1.3235\n",
            "Epoch: 165, Loss: 0.1366, Validation loss: 1.3238\n",
            "Epoch: 166, Loss: 0.1358, Validation loss: 1.3239\n",
            "Epoch: 167, Loss: 0.1350, Validation loss: 1.3233\n",
            "Epoch: 168, Loss: 0.1342, Validation loss: 1.3229\n",
            "Epoch: 169, Loss: 0.1333, Validation loss: 1.3232\n",
            "Epoch: 170, Loss: 0.1325, Validation loss: 1.3231\n",
            "Epoch: 171, Loss: 0.1317, Validation loss: 1.3224\n",
            "Epoch: 172, Loss: 0.1309, Validation loss: 1.3217\n",
            "Epoch: 173, Loss: 0.1301, Validation loss: 1.3214\n",
            "Epoch: 174, Loss: 0.1293, Validation loss: 1.3213\n",
            "Epoch: 175, Loss: 0.1286, Validation loss: 1.3206\n",
            "Epoch: 176, Loss: 0.1278, Validation loss: 1.3202\n",
            "Epoch: 177, Loss: 0.1270, Validation loss: 1.3198\n",
            "Epoch: 178, Loss: 0.1262, Validation loss: 1.3191\n",
            "Epoch: 179, Loss: 0.1254, Validation loss: 1.3183\n",
            "Epoch: 180, Loss: 0.1246, Validation loss: 1.3177\n",
            "Epoch: 181, Loss: 0.1238, Validation loss: 1.3175\n",
            "Epoch: 182, Loss: 0.1231, Validation loss: 1.3174\n",
            "Epoch: 183, Loss: 0.1223, Validation loss: 1.3168\n",
            "Epoch: 184, Loss: 0.1215, Validation loss: 1.3162\n",
            "Epoch: 185, Loss: 0.1208, Validation loss: 1.3154\n",
            "Epoch: 186, Loss: 0.1200, Validation loss: 1.3150\n",
            "Epoch: 187, Loss: 0.1193, Validation loss: 1.3150\n",
            "Epoch: 188, Loss: 0.1186, Validation loss: 1.3144\n",
            "Epoch: 189, Loss: 0.1178, Validation loss: 1.3138\n",
            "Epoch: 190, Loss: 0.1171, Validation loss: 1.3132\n",
            "Epoch: 191, Loss: 0.1164, Validation loss: 1.3127\n",
            "Epoch: 192, Loss: 0.1157, Validation loss: 1.3123\n",
            "Epoch: 193, Loss: 0.1150, Validation loss: 1.3115\n",
            "Epoch: 194, Loss: 0.1144, Validation loss: 1.3117\n",
            "Epoch: 195, Loss: 0.1137, Validation loss: 1.3111\n",
            "Epoch: 196, Loss: 0.1130, Validation loss: 1.3110\n",
            "Epoch: 197, Loss: 0.1124, Validation loss: 1.3107\n",
            "Epoch: 198, Loss: 0.1117, Validation loss: 1.3096\n",
            "Epoch: 199, Loss: 0.1111, Validation loss: 1.3104\n",
            "Epoch: 200, Loss: 0.1105, Validation loss: 1.3089\n"
          ]
        }
      ]
    },
    {
      "cell_type": "markdown",
      "metadata": {
        "id": "kG4IKy9YOLGF"
      },
      "source": [
        "After training the model, we can call the `test` function to see how well our model performs on unseen labels.\n",
        "Here, we are interested in the accuracy of the model, *i.e.*, the ratio of correctly classified nodes:"
      ]
    },
    {
      "cell_type": "code",
      "metadata": {
        "id": "dBBCeLlAL0oL",
        "colab": {
          "base_uri": "https://localhost:8080/"
        },
        "outputId": "8146944f-a308-4942-c2f4-150329d8945a"
      },
      "source": [
        "test_acc = test()\n",
        "print(f'Test Accuracy: {test_acc:.4f}')"
      ],
      "execution_count": null,
      "outputs": [
        {
          "output_type": "stream",
          "name": "stdout",
          "text": [
            "Test Accuracy: 0.5930\n"
          ]
        }
      ]
    },
    {
      "cell_type": "markdown",
      "metadata": {
        "id": "_jjJOB-VO-cw"
      },
      "source": [
        "As one can see, our MLP performs rather bad with only about 59% test accuracy.\n",
        "But why does the MLP do not perform better?\n",
        "The main reason for that is that this model suffers from heavy overfitting due to only having access to a **small amount of training nodes**, and therefore generalizes poorly to unseen node representations.\n",
        "\n",
        "It also fails to incorporate an important bias into the model: **Cited papers are very likely related to the category of a document**.\n",
        "That is exactly where Graph Neural Networks come into play and can help to boost the performance of our model.\n",
        "\n"
      ]
    },
    {
      "cell_type": "markdown",
      "metadata": {
        "id": "_OWGw54wRd98"
      },
      "source": [
        "## Training a Graph Neural Network (GNN)\n",
        "\n",
        "### Training with GCN(Graph Convolutional Network)\n",
        "We can easily convert our MLP to a GNN by swapping the `torch.nn.Linear` layers with PyG's GNN operators.\n",
        "\n",
        "We replace the linear layers by the [`GCNConv`](https://pytorch-geometric.readthedocs.io/en/latest/modules/nn.html#torch_geometric.nn.conv.GCNConv) module."
      ]
    },
    {
      "cell_type": "code",
      "metadata": {
        "id": "fmXWs1dKIzD8",
        "colab": {
          "base_uri": "https://localhost:8080/"
        },
        "outputId": "7abc3bad-9411-4c33-a55c-016974a5c6f8"
      },
      "source": [
        "from torch_geometric.nn import GCNConv\n",
        "\n",
        "class GCN(torch.nn.Module):\n",
        "    def __init__(self, hidden_channels):\n",
        "        super().__init__()\n",
        "        torch.manual_seed(1234567)\n",
        "        self.conv1 = GCNConv(dataset.num_features, hidden_channels)\n",
        "        self.conv2 = GCNConv(hidden_channels, dataset.num_classes)\n",
        "\n",
        "    def forward(self, x, edge_index):\n",
        "        x = self.conv1(x, edge_index)\n",
        "        x = x.relu()\n",
        "        #x = F.dropout(x, p=0.5, training=self.training)\n",
        "        x = self.conv2(x, edge_index)\n",
        "        return x\n",
        "\n",
        "model = GCN(hidden_channels=16)\n",
        "print(model)"
      ],
      "execution_count": null,
      "outputs": [
        {
          "output_type": "stream",
          "name": "stdout",
          "text": [
            "GCN(\n",
            "  (conv1): GCNConv(1433, 16)\n",
            "  (conv2): GCNConv(16, 7)\n",
            ")\n"
          ]
        }
      ]
    },
    {
      "cell_type": "code",
      "metadata": {
        "id": "p3TAi69zI1bO",
        "colab": {
          "base_uri": "https://localhost:8080/",
          "height": 300
        },
        "outputId": "ffa7aae3-b64b-4586-c868-81a6c75261f4"
      },
      "source": [
        "from IPython.display import Javascript  # Restrict height of output cell.\n",
        "display(Javascript('''google.colab.output.setIframeHeight(0, true, {maxHeight: 300})'''))\n",
        "\n",
        "model = GCN(hidden_channels=16)\n",
        "optimizer = torch.optim.Adam(model.parameters(), lr=0.01, weight_decay=5e-4)\n",
        "criterion = torch.nn.CrossEntropyLoss()\n",
        "\n",
        "def train():\n",
        "      model.train()\n",
        "      optimizer.zero_grad()  # Clear gradients.\n",
        "      out = model(data.x, data.edge_index)  # Perform a single forward pass.\n",
        "      loss = criterion(out[data.train_mask], data.y[data.train_mask])  # Compute the loss solely based on the training nodes.\n",
        "      val_loss = criterion(out[data.val_mask], data.y[data.val_mask])\n",
        "      loss.backward()  # Derive gradients.\n",
        "      optimizer.step()  # Update parameters based on gradients.\n",
        "      return loss, val_loss\n",
        "\n",
        "def test():\n",
        "      model.eval()\n",
        "      out = model(data.x, data.edge_index)\n",
        "      pred = out.argmax(dim=1)  # Use the class with highest probability.\n",
        "      test_correct = pred[data.test_mask] == data.y[data.test_mask]  # Check against ground-truth labels.\n",
        "      test_acc = int(test_correct.sum()) / int(data.test_mask.sum())  # Derive ratio of correct predictions.\n",
        "      return test_acc\n",
        "\n",
        "\n",
        "for epoch in range(1, 100):\n",
        "    loss, val_loss = train()\n",
        "    print(f'Epoch: {epoch:03d}, Loss: {loss:.4f}, Validation loss: {val_loss:.4f}')"
      ],
      "execution_count": null,
      "outputs": [
        {
          "output_type": "display_data",
          "data": {
            "text/plain": [
              "<IPython.core.display.Javascript object>"
            ],
            "application/javascript": [
              "google.colab.output.setIframeHeight(0, true, {maxHeight: 300})"
            ]
          },
          "metadata": {}
        },
        {
          "output_type": "stream",
          "name": "stdout",
          "text": [
            "Epoch: 001, Loss: 1.9464, Validation loss: 1.9468\n",
            "Epoch: 002, Loss: 1.9400, Validation loss: 1.9419\n",
            "Epoch: 003, Loss: 1.9330, Validation loss: 1.9409\n",
            "Epoch: 004, Loss: 1.9239, Validation loss: 1.9368\n",
            "Epoch: 005, Loss: 1.9139, Validation loss: 1.9328\n",
            "Epoch: 006, Loss: 1.9038, Validation loss: 1.9283\n",
            "Epoch: 007, Loss: 1.8928, Validation loss: 1.9234\n",
            "Epoch: 008, Loss: 1.8810, Validation loss: 1.9179\n",
            "Epoch: 009, Loss: 1.8686, Validation loss: 1.9118\n",
            "Epoch: 010, Loss: 1.8557, Validation loss: 1.9051\n",
            "Epoch: 011, Loss: 1.8422, Validation loss: 1.8980\n",
            "Epoch: 012, Loss: 1.8281, Validation loss: 1.8907\n",
            "Epoch: 013, Loss: 1.8135, Validation loss: 1.8833\n",
            "Epoch: 014, Loss: 1.7983, Validation loss: 1.8761\n",
            "Epoch: 015, Loss: 1.7826, Validation loss: 1.8689\n",
            "Epoch: 016, Loss: 1.7663, Validation loss: 1.8613\n",
            "Epoch: 017, Loss: 1.7495, Validation loss: 1.8534\n",
            "Epoch: 018, Loss: 1.7322, Validation loss: 1.8452\n",
            "Epoch: 019, Loss: 1.7144, Validation loss: 1.8368\n",
            "Epoch: 020, Loss: 1.6959, Validation loss: 1.8281\n",
            "Epoch: 021, Loss: 1.6769, Validation loss: 1.8195\n",
            "Epoch: 022, Loss: 1.6574, Validation loss: 1.8109\n",
            "Epoch: 023, Loss: 1.6374, Validation loss: 1.8019\n",
            "Epoch: 024, Loss: 1.6169, Validation loss: 1.7924\n",
            "Epoch: 025, Loss: 1.5958, Validation loss: 1.7825\n",
            "Epoch: 026, Loss: 1.5742, Validation loss: 1.7719\n",
            "Epoch: 027, Loss: 1.5521, Validation loss: 1.7608\n",
            "Epoch: 028, Loss: 1.5296, Validation loss: 1.7492\n",
            "Epoch: 029, Loss: 1.5066, Validation loss: 1.7372\n",
            "Epoch: 030, Loss: 1.4831, Validation loss: 1.7251\n",
            "Epoch: 031, Loss: 1.4593, Validation loss: 1.7129\n",
            "Epoch: 032, Loss: 1.4351, Validation loss: 1.6997\n",
            "Epoch: 033, Loss: 1.4107, Validation loss: 1.6858\n",
            "Epoch: 034, Loss: 1.3859, Validation loss: 1.6712\n",
            "Epoch: 035, Loss: 1.3610, Validation loss: 1.6565\n",
            "Epoch: 036, Loss: 1.3358, Validation loss: 1.6423\n",
            "Epoch: 037, Loss: 1.3106, Validation loss: 1.6281\n",
            "Epoch: 038, Loss: 1.2852, Validation loss: 1.6135\n",
            "Epoch: 039, Loss: 1.2598, Validation loss: 1.5986\n",
            "Epoch: 040, Loss: 1.2343, Validation loss: 1.5833\n",
            "Epoch: 041, Loss: 1.2090, Validation loss: 1.5673\n",
            "Epoch: 042, Loss: 1.1837, Validation loss: 1.5513\n",
            "Epoch: 043, Loss: 1.1587, Validation loss: 1.5361\n",
            "Epoch: 044, Loss: 1.1338, Validation loss: 1.5212\n",
            "Epoch: 045, Loss: 1.1092, Validation loss: 1.5062\n",
            "Epoch: 046, Loss: 1.0849, Validation loss: 1.4908\n",
            "Epoch: 047, Loss: 1.0609, Validation loss: 1.4751\n",
            "Epoch: 048, Loss: 1.0373, Validation loss: 1.4590\n",
            "Epoch: 049, Loss: 1.0141, Validation loss: 1.4434\n",
            "Epoch: 050, Loss: 0.9913, Validation loss: 1.4288\n",
            "Epoch: 051, Loss: 0.9690, Validation loss: 1.4143\n",
            "Epoch: 052, Loss: 0.9472, Validation loss: 1.3997\n",
            "Epoch: 053, Loss: 0.9258, Validation loss: 1.3848\n",
            "Epoch: 054, Loss: 0.9050, Validation loss: 1.3699\n",
            "Epoch: 055, Loss: 0.8847, Validation loss: 1.3550\n",
            "Epoch: 056, Loss: 0.8650, Validation loss: 1.3405\n",
            "Epoch: 057, Loss: 0.8458, Validation loss: 1.3273\n",
            "Epoch: 058, Loss: 0.8272, Validation loss: 1.3143\n",
            "Epoch: 059, Loss: 0.8090, Validation loss: 1.3011\n",
            "Epoch: 060, Loss: 0.7914, Validation loss: 1.2879\n",
            "Epoch: 061, Loss: 0.7744, Validation loss: 1.2751\n",
            "Epoch: 062, Loss: 0.7579, Validation loss: 1.2630\n",
            "Epoch: 063, Loss: 0.7419, Validation loss: 1.2511\n",
            "Epoch: 064, Loss: 0.7265, Validation loss: 1.2395\n",
            "Epoch: 065, Loss: 0.7115, Validation loss: 1.2282\n",
            "Epoch: 066, Loss: 0.6971, Validation loss: 1.2174\n",
            "Epoch: 067, Loss: 0.6831, Validation loss: 1.2065\n",
            "Epoch: 068, Loss: 0.6697, Validation loss: 1.1957\n",
            "Epoch: 069, Loss: 0.6566, Validation loss: 1.1857\n",
            "Epoch: 070, Loss: 0.6441, Validation loss: 1.1758\n",
            "Epoch: 071, Loss: 0.6319, Validation loss: 1.1657\n",
            "Epoch: 072, Loss: 0.6202, Validation loss: 1.1560\n",
            "Epoch: 073, Loss: 0.6089, Validation loss: 1.1470\n",
            "Epoch: 074, Loss: 0.5980, Validation loss: 1.1386\n",
            "Epoch: 075, Loss: 0.5874, Validation loss: 1.1308\n",
            "Epoch: 076, Loss: 0.5773, Validation loss: 1.1226\n",
            "Epoch: 077, Loss: 0.5674, Validation loss: 1.1140\n",
            "Epoch: 078, Loss: 0.5579, Validation loss: 1.1055\n",
            "Epoch: 079, Loss: 0.5487, Validation loss: 1.0975\n",
            "Epoch: 080, Loss: 0.5399, Validation loss: 1.0904\n",
            "Epoch: 081, Loss: 0.5313, Validation loss: 1.0835\n",
            "Epoch: 082, Loss: 0.5230, Validation loss: 1.0767\n",
            "Epoch: 083, Loss: 0.5150, Validation loss: 1.0701\n",
            "Epoch: 084, Loss: 0.5073, Validation loss: 1.0631\n",
            "Epoch: 085, Loss: 0.4998, Validation loss: 1.0564\n",
            "Epoch: 086, Loss: 0.4925, Validation loss: 1.0499\n",
            "Epoch: 087, Loss: 0.4855, Validation loss: 1.0440\n",
            "Epoch: 088, Loss: 0.4787, Validation loss: 1.0388\n",
            "Epoch: 089, Loss: 0.4721, Validation loss: 1.0333\n",
            "Epoch: 090, Loss: 0.4657, Validation loss: 1.0272\n",
            "Epoch: 091, Loss: 0.4595, Validation loss: 1.0214\n",
            "Epoch: 092, Loss: 0.4535, Validation loss: 1.0160\n",
            "Epoch: 093, Loss: 0.4477, Validation loss: 1.0110\n",
            "Epoch: 094, Loss: 0.4421, Validation loss: 1.0062\n",
            "Epoch: 095, Loss: 0.4366, Validation loss: 1.0015\n",
            "Epoch: 096, Loss: 0.4313, Validation loss: 0.9965\n",
            "Epoch: 097, Loss: 0.4261, Validation loss: 0.9913\n",
            "Epoch: 098, Loss: 0.4210, Validation loss: 0.9865\n",
            "Epoch: 099, Loss: 0.4161, Validation loss: 0.9822\n"
          ]
        }
      ]
    },
    {
      "cell_type": "markdown",
      "metadata": {
        "id": "opBBGQHqg5ZO"
      },
      "source": [
        "After training the model, we can check its test accuracy:"
      ]
    },
    {
      "cell_type": "code",
      "metadata": {
        "id": "8zOh6IIeI3Op",
        "colab": {
          "base_uri": "https://localhost:8080/"
        },
        "outputId": "e8d75b75-5a4e-4bab-cccb-f26af0ac65aa"
      },
      "source": [
        "test_acc = test()\n",
        "print(f'Test Accuracy: {test_acc:.4f}')"
      ],
      "execution_count": null,
      "outputs": [
        {
          "output_type": "stream",
          "name": "stdout",
          "text": [
            "Test Accuracy: 0.8090\n"
          ]
        }
      ]
    },
    {
      "cell_type": "markdown",
      "metadata": {
        "id": "yhofzjaqhfY2"
      },
      "source": [
        "**There it is!**\n",
        "By simply swapping the linear layers with GNN layers, we can reach over **80% of test accuracy**!\n",
        "This is in stark contrast to the 59% of test accuracy obtained by our MLP, indicating that relational information plays a crucial role in obtaining better performance.\n"
      ]
    },
    {
      "cell_type": "markdown",
      "source": [
        "### Training with GAT(Graph Attention Network)\n",
        "\n",
        "![GCN vs GAT.JPG](data:image/jpeg;base64,/9j/4AAQSkZJRgABAQEAkACQAAD/4RDgRXhpZgAATU0AKgAAAAgABAE7AAIAAAAHAAAISodpAAQAAAABAAAIUpydAAEAAAAOAAAQyuocAAcAAAgMAAAAPgAAAAAc6gAAAAgAAAAAAAAAAAAAAAAAAAAAAAAAAAAAAAAAAAAAAAAAAAAAAAAAAAAAAAAAAAAAAAAAAAAAAAAAAAAAAAAAAAAAAAAAAAAAAAAAAAAAAAAAAAAAAAAAAAAAAAAAAAAAAAAAAAAAAAAAAAAAAAAAAAAAAAAAAAAAAAAAAAAAAAAAAAAAAAAAAAAAAAAAAAAAAAAAAAAAAAAAAAAAAAAAAAAAAAAAAAAAAAAAAAAAAAAAAAAAAAAAAAAAAAAAAAAAAAAAAAAAAAAAAAAAAAAAAAAAAAAAAAAAAAAAAAAAAAAAAAAAAAAAAAAAAAAAAAAAAAAAAAAAAAAAAAAAAAAAAAAAAAAAAAAAAAAAAAAAAAAAAAAAAAAAAAAAAAAAAAAAAAAAAAAAAAAAAAAAAAAAAAAAAAAAAAAAAAAAAAAAAAAAAAAAAAAAAAAAAAAAAAAAAAAAAAAAAAAAAAAAAAAAAAAAAAAAAAAAAAAAAAAAAAAAAAAAAAAAAAAAAAAAAAAAAAAAAAAAAAAAAAAAAAAAAAAAAAAAAAAAAAAAAAAAAAAAAAAAAAAAAAAAAAAAAAAAAAAAAAAAAAAAAAAAAAAAAAAAAAAAAAAAAAAAAAAAAAAAAAAAAAAAAAAAAAAAAAAAAAAAAAAAAAAAAAAAAAAAAAAAAAAAAAAAAAAAAAAAAAAAAAAAAAAAAAAAAAAAAAAAAAAAAAAAAAAAAAAAAAAAAAAAAAAAAAAAAAAAAAAAAAAAAAAAAAAAAAAAAAAAAAAAAAAAAAAAAAAAAAAAAAAAAAAAAAAAAAAAAAAAAAAAAAAAAAAAAAAAAAAAAAAAAAAAAAAAAAAAAAAAAAAAAAAAAAAAAAAAAAAAAAAAAAAAAAAAAAAAAAAAAAAAAAAAAAAAAAAAAAAAAAAAAAAAAAAAAAAAAAAAAAAAAAAAAAAAAAAAAAAAAAAAAAAAAAAAAAAAAAAAAAAAAAAAAAAAAAAAAAAAAAAAAAAAAAAAAAAAAAAAAAAAAAAAAAAAAAAAAAAAAAAAAAAAAAAAAAAAAAAAAAAAAAAAAAAAAAAAAAAAAAAAAAAAAAAAAAAAAAAAAAAAAAAAAAAAAAAAAAAAAAAAAAAAAAAAAAAAAAAAAAAAAAAAAAAAAAAAAAAAAAAAAAAAAAAAAAAAAAAAAAAAAAAAAAAAAAAAAAAAAAAAAAAAAAAAAAAAAAAAAAAAAAAAAAAAAAAAAAAAAAAAAAAAAAAAAAAAAAAAAAAAAAAAAAAAAAAAAAAAAAAAAAAAAAAAAAAAAAAAAAAAAAAAAAAAAAAAAAAAAAAAAAAAAAAAAAAAAAAAAAAAAAAAAAAAAAAAAAAAAAAAAAAAAAAAAAAAAAAAAAAAAAAAAAAAAAAAAAAAAAAAAAAAAAAAAAAAAAAAAAAAAAAAAAAAAAAAAAAAAAAAAAAAAAAAAAAAAAAAAAAAAAAAAAAAAAAAAAAAAAAAAAAAAAAAAAAAAAAAAAAAAAAAAAAAAAAAAAAAAAAAAAAAAAAAAAAAAAAAAAAAAAAAAAAAAAAAAAAAAAAAAAAAAAAAAAAAAAAAAAAAAAAAAAAAAAAAAAAAAAAAAAAAAAAAAAAAAAAAAAAAAAAAAAAAAAAAAAAAAAAAAAAAAAAAAAAAAAAAAAAAAAAAAAAAAAAAAAAAAAAAAAAAAAAAAAAAAAAAAAAAAAAAAAAAAAAAAAAAAAAAAAAAAAAAAAAAAAAAAAAAAAAAAAAAAAAAAAAAAAAAAAAAAAAAAAAAAAAAAAAAAAAAAAAAAAAAAAAAAAAAAAAAAAAAAAAAAAAAAAAAAAAAAAAAAAAAAAAAAAAAAAAAAAAAAAAAAAAAAAAAAAAAAAAAAAAAAAAAAAAAAAAAAAAAAAAAAAAAAAAAAAAAAAAAAAAAAAAAAAAAAAAAAAAAAAAAAAAAAAAAAAAAAAAAAAAAAAAAAAAAAAAAAAAAAAAAAAAAAAAAAAAAAAAAAAAAAAAAAAAAAAAAAAAAAAAAAAAAAAAAAAAAAAAAAAAAAAAAAAAAAAAAAAAAAAAAAAAAAAAAAAAAAAAAAAAAAAAAAAAAAAAAAAAAAAAAAAAAAAAAAAAAAAAAAAAAAAAAAAAAAAAAAAAAAAAAAAAAAAAAAAAAAAAAAAAAAAAAAAAAAAAAAAAAAAAAAAAAAAAAAAAAAAAAAAAAAAAAAAAAAAAAAAAAAAAAAAAAAAAAAAAAAAAAAAAAAAAAAAAAAAAAAAAAAAAAAAAAAAAAAAAAAAAAAAAAAAAAAAAAAAAAAAAAAAAAAAAAAAAAAAAAAAAAAAAAAAAAAAAAAAAAAAAAAAAAAAAAAAAAAAAAAAAAAAAAAAAAAAAAAAAAAAAAAAAAAAAAAAAAAAAAAAAAAAAAAAAAAAAAAAAAAAAAAAAAAAAAAAAAAAAAAAAAAAAAAAAAAAAAAAAAAAAAAAAAAAAAAAAAAAAAAAAAAAAAAAAAAAAAAAAAAAAAAAAAAAAAAAAAAAAAAAAAAAAAAAAAAAAAAAAAAAAAAAAAAAAAAAAAAAAAAAAAAAAAAAAAAAAAAAAAAAAAAAAAAAAAAAAAAAAAAAAAAAAAAAAAAAAAAAAAAAAAAAAAAAAAAAAAAAAAAAAAAAAAAAAAAAAAAAAAAAAAAAAAAAAAAAAAAAAAAAAAAAAAAAAAAAAAAAAAAAAAAAAAAAAAAAAAAAAAAAAAAAAAAAAAAAAAAAAAAAAAAAAAAAAAAAAAAAAAAAAAAAAAAFlhbiBYdQAAAAWQAwACAAAAFAAAEKCQBAACAAAAFAAAELSSkQACAAAAAzQ2AACSkgACAAAAAzQ2AADqHAAHAAAIDAAACJQAAAAAHOoAAAAIAAAAAAAAAAAAAAAAAAAAAAAAAAAAAAAAAAAAAAAAAAAAAAAAAAAAAAAAAAAAAAAAAAAAAAAAAAAAAAAAAAAAAAAAAAAAAAAAAAAAAAAAAAAAAAAAAAAAAAAAAAAAAAAAAAAAAAAAAAAAAAAAAAAAAAAAAAAAAAAAAAAAAAAAAAAAAAAAAAAAAAAAAAAAAAAAAAAAAAAAAAAAAAAAAAAAAAAAAAAAAAAAAAAAAAAAAAAAAAAAAAAAAAAAAAAAAAAAAAAAAAAAAAAAAAAAAAAAAAAAAAAAAAAAAAAAAAAAAAAAAAAAAAAAAAAAAAAAAAAAAAAAAAAAAAAAAAAAAAAAAAAAAAAAAAAAAAAAAAAAAAAAAAAAAAAAAAAAAAAAAAAAAAAAAAAAAAAAAAAAAAAAAAAAAAAAAAAAAAAAAAAAAAAAAAAAAAAAAAAAAAAAAAAAAAAAAAAAAAAAAAAAAAAAAAAAAAAAAAAAAAAAAAAAAAAAAAAAAAAAAAAAAAAAAAAAAAAAAAAAAAAAAAAAAAAAAAAAAAAAAAAAAAAAAAAAAAAAAAAAAAAAAAAAAAAAAAAAAAAAAAAAAAAAAAAAAAAAAAAAAAAAAAAAAAAAAAAAAAAAAAAAAAAAAAAAAAAAAAAAAAAAAAAAAAAAAAAAAAAAAAAAAAAAAAAAAAAAAAAAAAAAAAAAAAAAAAAAAAAAAAAAAAAAAAAAAAAAAAAAAAAAAAAAAAAAAAAAAAAAAAAAAAAAAAAAAAAAAAAAAAAAAAAAAAAAAAAAAAAAAAAAAAAAAAAAAAAAAAAAAAAAAAAAAAAAAAAAAAAAAAAAAAAAAAAAAAAAAAAAAAAAAAAAAAAAAAAAAAAAAAAAAAAAAAAAAAAAAAAAAAAAAAAAAAAAAAAAAAAAAAAAAAAAAAAAAAAAAAAAAAAAAAAAAAAAAAAAAAAAAAAAAAAAAAAAAAAAAAAAAAAAAAAAAAAAAAAAAAAAAAAAAAAAAAAAAAAAAAAAAAAAAAAAAAAAAAAAAAAAAAAAAAAAAAAAAAAAAAAAAAAAAAAAAAAAAAAAAAAAAAAAAAAAAAAAAAAAAAAAAAAAAAAAAAAAAAAAAAAAAAAAAAAAAAAAAAAAAAAAAAAAAAAAAAAAAAAAAAAAAAAAAAAAAAAAAAAAAAAAAAAAAAAAAAAAAAAAAAAAAAAAAAAAAAAAAAAAAAAAAAAAAAAAAAAAAAAAAAAAAAAAAAAAAAAAAAAAAAAAAAAAAAAAAAAAAAAAAAAAAAAAAAAAAAAAAAAAAAAAAAAAAAAAAAAAAAAAAAAAAAAAAAAAAAAAAAAAAAAAAAAAAAAAAAAAAAAAAAAAAAAAAAAAAAAAAAAAAAAAAAAAAAAAAAAAAAAAAAAAAAAAAAAAAAAAAAAAAAAAAAAAAAAAAAAAAAAAAAAAAAAAAAAAAAAAAAAAAAAAAAAAAAAAAAAAAAAAAAAAAAAAAAAAAAAAAAAAAAAAAAAAAAAAAAAAAAAAAAAAAAAAAAAAAAAAAAAAAAAAAAAAAAAAAAAAAAAAAAAAAAAAAAAAAAAAAAAAAAAAAAAAAAAAAAAAAAAAAAAAAAAAAAAAAAAAAAAAAAAAAAAAAAAAAAAAAAAAAAAAAAAAAAAAAAAAAAAAAAAAAAAAAAAAAAAAAAAAAAAAAAAAAAAAAAAAAAAAAAAAAAAAAAAAAAAAAAAAAAAAAAAAAAAAAAAAAAAAAAAAAAAAAAAAAAAAAAAAAAAAAAAAAAAAAAAAAAAAAAAAAAAAAAAAAAAAAAAAAAAAAAAAAAAAAAAAAAAAAAAAAAAAAAAAAAAAAAAAAAAAAAAAAAAAAAAAAAAAAAAAAAAAAAAAAAAAAAAAAAAAAAAAAAAAAAAAAAAAAAAAAAAAAAAAAAAAAAAAAAAAAAAAAAAAAAAAAAAAAAAAAAAAAAAAAAAAAAAAAAAAAAAAAAAAAAAAAAAAAAAAAAAAAAAAAAAAAAAAAAAAAAAAAAAAAAAAAAAAAAAAAAAAAAAAAAAAAAAAAAAAAAAAAAAAAAAAAAAAAAAAAAAAAAAAAAAAAAAAAAAAAAAAAAAAAAAAAAAAAAAAAAAAAAAAAAAAAAAAAAAAAAAAAAAAAAAAAAAAAAAAAAAAAAAAAAAAAAAAAAAAAAAAAAAAAAAAAAAAAAAAAAAAAAAAAAAAAAAAAAAAAAAAAAAAAAAAAAAAAAAAAAAAAAAAAAAAAAAAAAAAAAAAAAAAAAAAAAAAAAAAAAAAAAAAAAAAAAAAAAAAAAAAAAAAAAAAAAAAAAAAAAAAAAAAAAAAAAAAAAAAAAAAAAAAAAAAAAAAAAAAAAAAAAAAAAAAAAAAAAAAAAAAAAAAAAAAAAAAAAAAAAAAAAAAAAAAAAAAAAAAAAAAAAAAAAAAAAAAAAAAAAAAAAAAAAAAAAAAAAAAAAAAAAAAAAAAAAAAAAAAAAAAAAAAAAAAAAAAAAAAAAAAAAAAAAAAAAAAAAAAAAAAAAAAAAAAAAAAAAAAAAAAAAAAAAAAAAAAAAAAAAAAAAAAAAAAAAAAAAAAAAAAAAAAAAAAAAAAAAAAAAAAAAAAAAAAAAAAAAAAAAAAAAAAAAAAAAAAAAAAAAAAAAAAAAAAAAAAAAAAAAAAAAAAAAAAAAAAAAAAAAAAAAAAAAAAAAAAAAAAAAAAAAAAAAAAAAAAAAAAAAAAAAAAAAAAAAAAAAAAAAAAAAAAAAAAAAAAAAAAAAAAAAAAAAAAAAAAAAAyMDIyOjA3OjE1IDIyOjM3OjI5ADIwMjI6MDc6MTUgMjI6Mzc6MjkAAABZAGEAbgAgAFgAdQAAAP/hCxlodHRwOi8vbnMuYWRvYmUuY29tL3hhcC8xLjAvADw/eHBhY2tldCBiZWdpbj0n77u/JyBpZD0nVzVNME1wQ2VoaUh6cmVTek5UY3prYzlkJz8+DQo8eDp4bXBtZXRhIHhtbG5zOng9ImFkb2JlOm5zOm1ldGEvIj48cmRmOlJERiB4bWxuczpyZGY9Imh0dHA6Ly93d3cudzMub3JnLzE5OTkvMDIvMjItcmRmLXN5bnRheC1ucyMiPjxyZGY6RGVzY3JpcHRpb24gcmRmOmFib3V0PSJ1dWlkOmZhZjViZGQ1LWJhM2QtMTFkYS1hZDMxLWQzM2Q3NTE4MmYxYiIgeG1sbnM6ZGM9Imh0dHA6Ly9wdXJsLm9yZy9kYy9lbGVtZW50cy8xLjEvIi8+PHJkZjpEZXNjcmlwdGlvbiByZGY6YWJvdXQ9InV1aWQ6ZmFmNWJkZDUtYmEzZC0xMWRhLWFkMzEtZDMzZDc1MTgyZjFiIiB4bWxuczp4bXA9Imh0dHA6Ly9ucy5hZG9iZS5jb20veGFwLzEuMC8iPjx4bXA6Q3JlYXRlRGF0ZT4yMDIyLTA3LTE1VDIyOjM3OjI5LjQ1NjwveG1wOkNyZWF0ZURhdGU+PC9yZGY6RGVzY3JpcHRpb24+PHJkZjpEZXNjcmlwdGlvbiByZGY6YWJvdXQ9InV1aWQ6ZmFmNWJkZDUtYmEzZC0xMWRhLWFkMzEtZDMzZDc1MTgyZjFiIiB4bWxuczpkYz0iaHR0cDovL3B1cmwub3JnL2RjL2VsZW1lbnRzLzEuMS8iPjxkYzpjcmVhdG9yPjxyZGY6U2VxIHhtbG5zOnJkZj0iaHR0cDovL3d3dy53My5vcmcvMTk5OS8wMi8yMi1yZGYtc3ludGF4LW5zIyI+PHJkZjpsaT5ZYW4gWHU8L3JkZjpsaT48L3JkZjpTZXE+DQoJCQk8L2RjOmNyZWF0b3I+PC9yZGY6RGVzY3JpcHRpb24+PC9yZGY6UkRGPjwveDp4bXBtZXRhPg0KICAgICAgICAgICAgICAgICAgICAgICAgICAgICAgICAgICAgICAgICAgICAgICAgICAgICAgICAgICAgICAgICAgICAgICAgICAgICAgICAgICAgICAgICAgICAgICAgICAgIAogICAgICAgICAgICAgICAgICAgICAgICAgICAgICAgICAgICAgICAgICAgICAgICAgICAgICAgICAgICAgICAgICAgICAgICAgICAgICAgICAgICAgICAgICAgICAgICAgICAgCiAgICAgICAgICAgICAgICAgICAgICAgICAgICAgICAgICAgICAgICAgICAgICAgICAgICAgICAgICAgICAgICAgICAgICAgICAgICAgICAgICAgICAgICAgICAgICAgICAgICAKICAgICAgICAgICAgICAgICAgICAgICAgICAgICAgICAgICAgICAgICAgICAgICAgICAgICAgICAgICAgICAgICAgICAgICAgICAgICAgICAgICAgICAgICAgICAgICAgICAgIAogICAgICAgICAgICAgICAgICAgICAgICAgICAgICAgICAgICAgICAgICAgICAgICAgICAgICAgICAgICAgICAgICAgICAgICAgICAgICAgICAgICAgICAgICAgICAgICAgICAgCiAgICAgICAgICAgICAgICAgICAgICAgICAgICAgICAgICAgICAgICAgICAgICAgICAgICAgICAgICAgICAgICAgICAgICAgICAgICAgICAgICAgICAgICAgICAgICAgICAgICAKICAgICAgICAgICAgICAgICAgICAgICAgICAgICAgICAgICAgICAgICAgICAgICAgICAgICAgICAgICAgICAgICAgICAgICAgICAgICAgICAgICAgICAgICAgICAgICAgICAgIAogICAgICAgICAgICAgICAgICAgICAgICAgICAgICAgICAgICAgICAgICAgICAgICAgICAgICAgICAgICAgICAgICAgICAgICAgICAgICAgICAgICAgICAgICAgICAgICAgICAgCiAgICAgICAgICAgICAgICAgICAgICAgICAgICAgICAgICAgICAgICAgICAgICAgICAgICAgICAgICAgICAgICAgICAgICAgICAgICAgICAgICAgICAgICAgICAgICAgICAgICAKICAgICAgICAgICAgICAgICAgICAgICAgICAgICAgICAgICAgICAgICAgICAgICAgICAgICAgICAgICAgICAgICAgICAgICAgICAgICAgICAgICAgICAgICAgICAgICAgICAgIAogICAgICAgICAgICAgICAgICAgICAgICAgICAgICAgICAgICAgICAgICAgICAgICAgICAgICAgICAgICAgICAgICAgICAgICAgICAgICAgICAgICAgICAgICAgICAgICAgICAgCiAgICAgICAgICAgICAgICAgICAgICAgICAgICAgICAgICAgICAgICAgICAgICAgICAgICAgICAgICAgICAgICAgICAgICAgICAgICAgICAgICAgICAgICAgICAgICAgICAgICAKICAgICAgICAgICAgICAgICAgICAgICAgICAgICAgICAgICAgICAgICAgICAgICAgICAgICAgICAgICAgICAgICAgICAgICAgICAgICAgICAgICAgICAgICAgICAgICAgICAgIAogICAgICAgICAgICAgICAgICAgICAgICAgICAgICAgICAgICAgICAgICAgICAgICAgICAgICAgICAgICAgICAgICAgICAgICAgICAgICAgICAgICAgICAgICAgICAgICAgICAgCiAgICAgICAgICAgICAgICAgICAgICAgICAgICAgICAgICAgICAgICAgICAgICAgICAgICAgICAgICAgICAgICAgICAgICAgICAgICAgICAgICAgICAgICAgICAgICAgICAgICAKICAgICAgICAgICAgICAgICAgICAgICAgICAgICAgICAgICAgICAgICAgICAgICAgICAgICAgICAgICAgICAgICAgICAgICAgICAgICAgICAgICAgICAgICAgICAgICAgICAgIAogICAgICAgICAgICAgICAgICAgICAgICAgICAgICAgICAgICAgICAgICAgICAgICAgICAgICAgICAgICAgICAgICAgICAgICAgICAgICAgICAgICAgICAgICAgICAgICAgICAgCiAgICAgICAgICAgICAgICAgICAgICAgICAgICAgICAgICAgICAgICAgICAgICAgICAgICAgICAgICAgICAgICAgICAgICAgICAgICAgICAgICAgICAgICAgICAgICAgICAgICAKICAgICAgICAgICAgICAgICAgICAgICAgICAgICAgICAgICAgICAgICAgICAgICAgICAgICAgICAgICAgICAgICAgICAgICAgICAgICAgICAgICAgICAgICAgICAgICAgICAgIAogICAgICAgICAgICAgICAgICAgICAgICAgICAgICAgICAgICAgICAgICAgICAgICAgICAgICAgICAgICAgICAgICAgICAgICAgICAgICAgICAgICAgICAgICAgICAgICAgICAgCiAgICAgICAgICAgICAgICAgICAgICAgICAgICA8P3hwYWNrZXQgZW5kPSd3Jz8+/9sAQwAHBQUGBQQHBgUGCAcHCAoRCwoJCQoVDxAMERgVGhkYFRgXGx4nIRsdJR0XGCIuIiUoKSssKxogLzMvKjInKisq/9sAQwEHCAgKCQoUCwsUKhwYHCoqKioqKioqKioqKioqKioqKioqKioqKioqKioqKioqKioqKioqKioqKioqKioqKioq/8AAEQgChQKyAwEiAAIRAQMRAf/EAB8AAAEFAQEBAQEBAAAAAAAAAAABAgMEBQYHCAkKC//EALUQAAIBAwMCBAMFBQQEAAABfQECAwAEEQUSITFBBhNRYQcicRQygZGhCCNCscEVUtHwJDNicoIJChYXGBkaJSYnKCkqNDU2Nzg5OkNERUZHSElKU1RVVldYWVpjZGVmZ2hpanN0dXZ3eHl6g4SFhoeIiYqSk5SVlpeYmZqio6Slpqeoqaqys7S1tre4ubrCw8TFxsfIycrS09TV1tfY2drh4uPk5ebn6Onq8fLz9PX29/j5+v/EAB8BAAMBAQEBAQEBAQEAAAAAAAABAgMEBQYHCAkKC//EALURAAIBAgQEAwQHBQQEAAECdwABAgMRBAUhMQYSQVEHYXETIjKBCBRCkaGxwQkjM1LwFWJy0QoWJDThJfEXGBkaJicoKSo1Njc4OTpDREVGR0hJSlNUVVZXWFlaY2RlZmdoaWpzdHV2d3h5eoKDhIWGh4iJipKTlJWWl5iZmqKjpKWmp6ipqrKztLW2t7i5usLDxMXGx8jJytLT1NXW19jZ2uLj5OXm5+jp6vLz9PX29/j5+v/aAAwDAQACEQMRAD8A+kcUYoooAMUYoooAMUYoooAMUYoooAMUYoooAMUYoooAMUYoooAMUYoooAMUYoooAMUYoooAMUYoooAMUYoooAMUYoooAMUYoooAMUYoooAMUYoqOeeG1t3nuZUhhjUs8kjBVUDqST0FAEmKMVxEnxj8AxXv2VvEcBkzjcsMrJ/32F2/jmuvsb+01OyjvNOuYbq2lGUmhcOrD2Io6XDrYsYoxWP4h8W6D4Vt1m8Qapb2IflFc5d/91Blj+Aqp4d+IPhXxXOYNB1qC6nAJ8kho5CB1IVwCR9BQtdgem50eKMVg+J/G3h7watsfEmofYhdFhD+5kk3bcZ+4px94da2Y7qCazS7hlWSB4xIsinIZSMgj8KOlw62JcUYrE8M+MNC8Y2s9x4cvvtkUDiORvJePaxGcYdRnituizQbhijFFFABijFFFABijFISFUliAAMkntXGX/xe8B6bem1ufEduZVOD5Mckqg/7yKV/WjyA7TFGKo6TrWm69YLe6NfQXtsxx5kDhgD6H0PseaXWNYsNA0ifU9XuBbWduu6WUqW2jOOgBJ5I6Ch6bgtdi7ijFYnhnxjoPjG2nuPDl+L2O3cJKfKeMqSMjhwD+NUPEXxL8JeFNU/s7X9W+yXfliTy/s0r/Kc4OVUjse9D00YLXY6rFGK4H/heHw8/6GH/AMkrj/43XY6Rq9jr2kW+p6TP9os7ld0Uuxl3DOOjAEcjuKdna4rq9i7ijFFFIYYoxRRQAYoxRRQAYoxRRQAYoxRRQAYoxRRQAYoxRRQAYoxRRQAYoxRRQAYoxRRQAYoxRRQAYoxRRQAYoxRRQAYoxRRQAYoxRRQAYoxRRQAYoxRRQAYooooAKKKKACiiigAooooAKKKKACiiigAooooAKKKKACiiigAooooAKKKKACiiigAooooAKKKKACiiigAooooAK8N+OOoX+v8AjLQPAdhOYIb1kknI6MXcquR3ChScf4V7lXhvxz06/wBC8X6B4806AzR2LJHOB0Uo5Zd3oG3Fc/40tOePNtcevLLl3tobd98HPhhoOixx646WjuPLW/vNSMLM+OoywTPfG2nfB3QrTwourWdp4y0vXLeRvOS0splkMIBx5hwxxkbQRjGQOaxPF3j74YfEbw3aReINY1LT2gfzxbW8DeYH2kbS3lsh6+tY37P9jBL468Q3GlQ3Z0f7M0MM1wo3YMgKqxHy7toyQKtczcl5P+vvIfLyp+aIvh/4ag+MXjjXfEXi15ri0t5AsdsshUEMTtTI5Cqo6DGSc56567XvgJYjWNN1HwJef2DNbSh5N7vMBjkMuSTnPYnBH68h8PfEsHwe8b674d8XJNb2k8imO5EZYLtLbXwBkqynqM4I6dcdH4s+N8upa3pWk/C9vt9zPOBJJNbMEkzwECsA3uTxjHXrQvs8nl/TG95c/n/SKf7SsUksPhaIspkZ51zjAJPlj8K0vg14puodP1TwJ4hzFqekLIIFc8tGOq++08j/AGSPSqH7RPmB/B/nFTJ50u8oMAn91nHtVj42+HLzRNRsfiF4bHl3dqVjvdo4K42q5HcYOw+xFRtTaezbX+TK3lG3RX/F3F/Zn/5FfWv+vxP/AECvSfHusat4f8E3+r6BDbz3dmglMdyjMrID8/CsDkDJ69q82/Zn/wCRX1r/AK/E/wDQK9ouII7q2lt50DxSoUdT0ZSMEVda99Oy/Iila2vd/mcZpvxDiu/g+fGc6xLLHaO8sS5C+cuV2jJzgvjHPQisKy+K+pWHwfXxl4msLZri6uDFZWtorRK4yQNxZmP8LnPoBXkF62q6VHqXwpgV2a41yPyXPOUPAz7H92351794u0XwhZ/DiLQ/Fd1HZaRDHHDFIZNrqyD5SnXLcE4wc88UpWcXNdbW/N/nYqOklB9L3/Jf5nKW/jn4uqtvfXPgWxudPuNpRLWX94VbkHIkbHHcrgd69btZZJ7SGWaB7eSRAzQuQWjJHKkgkZHTivmbWLCHwHo39r+AfimlxGjq0emJON7AnvGGIJGckMgr6B8E6te674H0nU9ViEV3dWyySqFwCf72O2Rz+NVpyu3Rka3Vzzv9oXxHe2Hh/TtA012jfWJWEpU4LRrgbPoSwz9Md6sWnwT+H3h3w3HJ4r2SSqoE9/d3zW6Bz2GGVQM9Acn61B+0L4cvNQ8O6dr2mxtJJpErNKEGSsbY+f6AqPwOe1U9R+KfgD4g+Axpfi7UbzSJZdjTxQQuzB1IPysEddpI781Efhdt76+hpL4lfa34ln4W+FtJ8K+ONQOg+ONK1GwvFKw6bBcpLM4HzBmw3VfmGQDkelH7QGqTXVnonhDT2zdavdqzqO6ghVB9izZ/4DXDfCWx0x/jmknhFdQuNGtYpCJ7xRvUGMjLFQAAWPHQ9Kt6hD4j+JHx01O98HXdrbS6HhLe5uhmNAh28DYwJLFyMj+VU1dwT9fkiU7KbX9No1vBFt/wrH48XXhcu39natAv2dnP3mxuQ/mJF/GvUfEXw08JeK9U/tHX9J+13fliPzPtMqfKM4GFYDue1eH/ABK8NfEXRf7P8W+LNW07UZNPnRIZbNArRHduUtiJMjcPfk+9fRWg6vDr/h2x1a1/1V5Asyj0yOR+B4/Ck9YXe60/yFtOy6/0z57+DPgLw34s1TxLDr+m/a0sZo1tx58ibAWkB+6wz90dc9K+h9I0ix0HSLfTNJg+z2dsu2KLezbRnPViSeT3NeM/s7/8hrxl/wBd4f8A0KWvc6bb5V6L8htLnl6hRRRUjCiiigAooooAKKKKACiiigAooooAKKKKACiiigAooooAKKKKACiiigAooooAKKKKACiiigAooooAKKKKACiiigAooooAKKKKACiiigAooooAKKKKACiiigAooooAKKKKACiiigAooooAKKKKACiiigAooooAKKKKACiiigAooooAKZPBFc27wXMSTQyKVeORQysD1BB6in0UAcTL8HfAM199rfw3biTdu2pLIsf/AHwG249sV11jYWmmWcdpp1rDaW0YwkMEYRV+gHFWKKL6WDzMfxB4S0HxVAsXiDS7e9CcIzjDp/uuMMPwNVfDngHwv4TlaXw/o8FrMwwZiWkkx6B3JIHtmuiooWmwPXcw/EngzQPFzWjeIbD7WbNmaD99JHsJxn7jDP3R19K1b6xttS0+exvoVntriMxSxt0ZSMEVPRR0sHW5ieGfB+heDrWe38OWP2OKdxJIvnPJuYDGcuxxxW3RRRdsNjCm8FeHrjxbF4nm05W1iFQqXPmOMYBUfLnaTg4yRn8q09R0yx1ixkstVtIby2k+/DOgdT+Bq1RR0sHW5xVr8HvAVnei6h8OQGRTkCWWSRP++GYr+ldoAFUBQAAMADtS0U7vYAIDKQwyDwQe9cZf/CLwJqd6bq68OW4lJyfIeSFSf91GC/pXZ0UvMCjpeiaZolh9i0exgsbbvHboEBPqcdT79az/AA14K8P+EPtR8O6f9kN2VM7GaSQuRnHLsT3P51vUU7vcOlihrWiaf4i0efS9Zthc2c4AkiLFc4II5UgjkDoaTQ9C07w3o8Wl6Lbm3soSfLiMjPtySTyxJ6k960KKQGF4d8GaB4TmvJtAsPsj3zBrg+dI+8gkj7zHH3j0x1rdoooAKKKKACiiigAooooAKKKKACiiigAooooAKKKKACiiigAooooAKKKKACiiigAooooAKKKKACiiigAooooAKKKKACiiigAooooAKKKKACiiigAooooAKKKKACiiigAooooAKKKKACiiigAooooAKKKoza1plsxWfULZGHVTKufyzQBeoqlBrOm3LBYNQtpGPRVlXP5Zq7QAUUUUAFFFFABRRRQAUUUUAFFFFABRRRQAUUUUAFFFFABRRRQAUUUUAFFFFABRRRQAUUUUAFFFFABRRRQAUUUUAFFFFABRRRQAUUUUAFFFFABRRVe5v7Oz/wCPu6hg/wCukgX+dAFiis5PEGkO21dTtM+8yj+tX0kSVA8bq6noynINADqKKKACiiigAooooAKKKKACiiigAooooAKKKKACiiigAooooAKKKKACiiigAooooAKKKKACiiigAooooAKKKKACiiigAooooAKKKKACqmpajb6XYyXV222NB26sewHvVuvLfH2sveawbKNiIbU7QPV/4j/T8DSbsrnHjcXDB4eVeey/F9Cpr/jC/wBWlaNXMFtniFCRkf7R7/yrnjIx/iP4cU2isW2z8qxmaYvFzcpzaXZaJDg7D+L8+a6Lw/4xv9JkWOV2uLbODE5zgf7JPT6dK5uihNoMHmuKwc1KEm12ezPdtPv7fU7KO6tH3xyDI9Qe4PuKtV5j8P8AWXttU+wyMTDdcAHs+OD+OMflXp1bJ3R+rYPFQxdCNaGz/phRRRTOsKKKKACiiigAooooAKKKKACiiigAooooAKKKKACiiigAooooAKKKKACiiigAooooAKKKKACiiigAooooAKKKKACiiigApCQoJPAFLXJ+PtZaw0lbSFtst1kMR2Qdfz4H50GdSpGlB1JuyWrMjxP46kaR7TRn2RjIacfef/d9B79a4aS4lmkZ5HLM3LEnJP40wsWOSc0lYuTZ+V5jnWJxlR2k4w6Jaff3HeY2fvGtDS9dv9JnD2c7RjPK9Vb6r0NZtFK7ODD5hisNPmpTa/L7j2Tw34lg1+2IwIrqMZkiz1H94e38q3K8O0bUptK1OK6gPzRtnH94dx+Ir223nS5to54jlJUDqfUEZFaxd0fqWVZhHMMOqmzWjXmSUUUVR6oUUUUAFFFFABRRRQAUUUUAFFFFABRRRQAUUUUAFFFFABRRRQAUUUUAFFFFABRRRQAUUUUAFFFFABRRRQAUUUUAFFFFACE14VqMjTX8sshy8jszH1JY17tXiXiCyaw1y6t8YEcjBfoTkfoaiex8xxPGUsBddGrmZRRRWR+YhRRRQBc0mVoNUt5kPzRyqw+oYV6PH4ykPxWvPCk0EMdrbaSuofamfDZMmzae2Mc5rgvDNmb7xBZw4JDSgsP9kcn9BU2p+F9M8VftNXVtrtut3ZQeHY5jbOTskfzsLuHRgNxODxnB7VrDY/UOGYyjgE31bsewxSxzxiSGRZEYZDI2Qfxp9eSeCraTwt8Q/iBonhaxD2VtJp81rpxn8uGF5o/3jgnO0fxHAJwuADwK7zwf4l/4SnSJ71VtykV1JbpNazebFcBcfOjYHGSRj1B5PWrPpTfooooAKKKKACiiigAooooAKKKKACiiigAooooAKKKKACiiigAooooAKKKKACiiigAooooAKKKKACiiigAooooAKKKKACvMPiRKza/GmflSBRj6lj/hXp9ec/EqzYaha3YB2vFs49VJP8m/SplseVnEZSy+qo72OFooorE/HwooooAcn+sX6iu5k8Y3PhrQfBsMVvHcf2xqiabI0jEGNWZvmGOpG2uGTmRceua1fifoYn0D4d6PcPJGtxr9vHMUcqwVwxYAjkHDEZrSB99wlGXJVl0uj2SK5gnLCCaOUocMEcHafQ46VLXkOqeGNI8E/GbwGfCljHpS6kL22vY7YlVuESEMocd8Nzk98egrtNM8W3Vz40bw/fWlpBN9nmuPKivPMmhRJFVDIu3A8xXDDBOMEc9a0PtzqqKKKACiiigAooooAKKKKACiiigAooooAKKKKACiiigAooooAKKKKACiiigAooooAKKKKACiiigAooooAKKKKACiiigArjfHfhx9QgGo2aFpol2yoBksvYj3H8q7KgijcyrUoVqbp1FdM8AYbWwaSvV9c8DWWqSNPaEWs7csAuUY+pHY+4rkbj4f6zC7eXFHMo53JKMfkcGsnFn53jOGcVTm3h/ej9zOWzTlUucD8TXQ6V4K1LVbeK4hEawSZxJJJwcHB4HPau20LwRZaS6z3J+13C8qSuEQ+w7n3NCix4PhnE1Jp4j3Y/eyv4G8OPplu19eIUuJlwiHqie/ueK0ofCVlD48n8WLNcG+nsFsGiLL5QjD78gYzuz749q3cUVqfolKlCjTVOCslojmH8DWg17W9ZtNR1C0vtYNq0rwyKBEbf7m0beQejBsggkVp6Foa6JHeE3Ut3cX1ybq4mlCrucoqcBQAAFRRj25JNalFBoFFFFABRRRQAUUUUAFFFFABRRRQAUUUUAFFFFABRRRQAUUUUAFFFFABRRRQAUUUUAFFFFABRRRQAUUUUAFFFFABRRRQAVma/o8et6TJavgP96Jj/Cw/wA4/GtOigTSaszwi+sZ9PupLe5jMckZwynt/iPeq1e1614dsdciAuk2yqMLMnDD29x7GuGvvh1qULk2jxXKdsNsb8jx+tZuHY+AzHhmqqjnhNU+nb0ONo69K34fBurTX01qsA86EKZAZVG0N05zz07V02kfDlYpFk1adXAwfKhzg/Vuv5VPKzgw/DWOqytUSivW/wCRi+C/Db6nqC3Vyp+yQtliejsOi+/v/wDXruPEfhOy8T3WjT301xG2j36X8AhZQHkTOA2Qcrz2wfetmCCK2hSG3jWONBhUUYAFSVqlZH6Jg8JSwdFUaWy/HzMPVvCllrPibQtcuZZ0udDeZ7dIyoRzKmxt4IJPA4wRUdj4V+zavbX11q19fiz837JFcFT5XmHnLABnwPlGTwOuTzXQUUzrCiiigAooooAKKKKACiiigAooooAKKKKACiiigAooooAKKKKACiiigAooooAKKKKACiiigAooooAKKKKACiiigAooooAKKKKACkf7h+lLSN9xvpQBieDf+RRsfo3/AKG1blYfg3/kUbH6N/6G1blABRRRQAUUUUAFFFFABRRRQAUUUUAFFFFABRRRQAUUUUAFFFFABRRRQAUUUUAFFFFABRRRQAUUUUAFFFFABRRRQAUUUUAFFFFABRRRQAUUUUAFFFFAGLp//I36v/1yg/k1bVYun/8AI36v/wBcoP5NW1QAUUUUAFFFFABRRRQAUUUUAFFFFABRRRQAUUUUAFFFFABRRRQAUUUUAFFFFABRRRQAUUUUAFFFFABRRRQAUUUUAFFFFABRRRQAUUUUAFFFFABSN9xvpS0jfcb6UAYng3/kUbH6N/6G1bKurMyqwJX7wB6VjeDf+RRsfo3/AKG1Gkf8jLrv/XWH/wBFig1hT54yl2V/xS/U3KKKKDIKKKKACiiigAooooAKKKKACiiigAooooAKKKKACiiigAooooAKKKKACiiigAooooAKKKKACiiigAooooAKKKKACiiigAooooAKKKKACiiigDF0/wD5G/V/+uUH8mrarFsP+Rv1f/rlB/JqdqVzNF4k0aGORljmabzFB4bCZGfxoNKdN1JWXZv7lc2KKKKDMKKKKACiiigAooooAKKKKACiiigAooooAKKKKACiiigAooooAKKKKACiiigAooooAKKKKACiiigAooooAKKKKACiiigAooooAKKKKACkf7h+lLSP9w/SgDn/AAjcww+FLFZZo0baxwzAH77UaPdQf8JDrjGePDTRbTvHP7sVwesaOx8IaXq0APCtFNj03ttP9Pyrm41eSQJHksxwAO5rOUrM+py/KaeIwzqRqfErPTazT7+R7+kiyLlGDD1BzTqyfDek/wBjaFBaHmTG+U+rnr/h+Fa1aHzVSMYzcYO6XXuFFFFBmFFFFABRRRQAUUUUAFFFFABRRRQAUUUUAFFFFABRRRQAUUUUAFFFFABRRRQAUUUUAFFFFABRRRQAUUUUAFFFFABRRRQAUUUUAFFFFAGLYf8AI36v/wBcoP5NTNW/5GvQf96f/wBF1j6+L8XuuzaXO8M0EdvKSh5ZQGyPy5/CuCk8RavLcRTyX8zSw58tyeVzwf0qJStoe9leWzxMXVhJdVb1TX6nuOaWuH8AXWr6nJcXmo3ss1sg8tFfGC/BJ/AfzruKpO6ueXi8M8LWdJtNrsFFFFM5QooooAKKKKACiiigAooooAKKKKACiiigAooooAKKKKACiiigAooooAKKKKACiiigAooooAKKKKACiiigAooooAKKKKACiiigApH+4fpS0jfcb6UAc34esotR8AwWk4zHNG6n2+dsGuX8GeF5R4nne+jITTnI5HDv2P0xz+Vdj4N/5FGx+jf+htW3jFS4pu534fHVcPRnRhtL8P6QtFFFUcAUUUUAFFFFABRRRQAUUUUAFFFFABRRRQAUUUUAFFFFABRRRQAUUUUAFFFFABRRRQAUUUUAFFFFABRRRQAUUUUAFFFFABRRRQAUUUUAFFFFAGJZDd4t1gHkGKAfo1eaeIfD8th4pbT7ZNy3DhrcZ6hjwPwPH4V6ZYf8jdq//XKD+TVoy2FtPeQXU0KtNBny3I5XPWplG56eW5hLAzlK101+PQi0fTY9I0mCyi6RLgn+83c/nV6kxS1R505ynJyluwooooJCiiigAooooAKKKKACiiigAooooAKKKKACiiigAooooAKKKKACiiigAooooAKKKKACiiigAooooAKKKKACiiigAooooAKKKKACkb7h+lYuteKtO0VjHK5mnH/LKLkr9T0FclcfEm8dsW1pbxr0/eFnx+IIpXSOSvjcNhnatNL1Os8G/wDIo2P0b/0Nq3K8u0Xx1NpNjDZG1hmiiyAQxVuST15Heu30XxTp2tYSBzFP/wA8ZeCfp2NF0x0cXh67apTTa7M2qKKhF3bteNaCeI3Kp5hhDjeFzjdt64z3pnUTUUUUAFFFFABRRRQAUUUUAFFFFABRRRQAUUUUAFFFFABRRRQAUUUUAFFFFABRRRQAUUUUAFFFFABRRRQAUUUUAFFFFABRRRQAUUUUAFFUtS1Wz0m386+mWNT90dWY+gHeuNvviViQrYWShezztz+S9Pzoukc9fE0cPHmrSUV5nS6f/wAjfq//AFyg/k1bVeV23jq8g1O4vWhtma4VFdQrAALnGOeOtdRpHj7T75ljvVNm54DFtyfn2/H86V0ZUsfha0uWnUTfqdZRSKwZQykEHkEd6inu7e1aJbmeKEzOI4xI4Xex6KM9T7UztJqKKKACiiigAooooAKKKKACiiigAooooAKKKKACiiigAooooAKKKKACiiigAooooAKKKKACiiigAooooAKKKKACiiigAooooAK5fxn4lOjWYtrR8Xcy5yOsa9M/U9B+NdQa8W8T351HX7qYsSvmFU/3RwP5frUydkeVm2NeCwkqsd9l6sy5JWmcvISWJySTnJ9aZRRWJ+R1Kk6s3Obu2FPimeB1eMlWU5BBwQfUUyigdKrOlNTpuzR634O8RnWrIw3TA3cIG49PMX+9j19f/r159rGpazYftKXcXhvS4tRv7nw7GgW4n8qKFBNkyOwBOOgwBklhR4Tv20/xFaSBiFaQI/ptbg5/MH8K6Oz0u9X9ozUdTexuBYt4djgS7MTeUZPPBKB8Y3Y5xnNbp3R+uZVjfruEjWe+z9UaXgnxnfa/qmt6H4g0xNN1nRJIluEgm82GRJF3I6MQDyAeCOOPcDr0kSVA8bK6noynINef6Bo103xe8fzXtpdw2N9Dp6w3A3xLLthYNskGMkHg7TkVufDmzn0/4c6JaXcEtvNDaqjxTIVZCOxB5B+tM9Q6aiiigAooooAKKKKACiiigAooooAKKKKACiiigAooooAKKKKACiiigAooooAKKKKACiiigAooooAKKKKACiiigAooooAKo6vqcOkaZLeT8hBhVzy7dgKvV578S75vPtbFWIVU80j1JOB+gP50nojmxWIjhqE60vsq5yGravdatfPcXcm5m6AdFHoPaqFFFYt3Px3FYqri6rq1XdsKAcHI60UUjmTad0dv4H8UPb3KabeyE28h2xFj/q2PQfQ/oapfHK9k05/BF3b2r3k0PiOBo7eMgNM+1tqAngZOBn3rmImKyDacEn1rrPGsV94ih+Hd7Z2Vxd+Tr9tPdNFEziJVDBnbA+VQR1PFaxd0fqWQZhPG4Zqo7yjp69jR0/xz4jsfHGleHvGmg2lj/bUczWNxYXZnUPGoZo5Nyrg7e4yM49yO+DqXKBgXABK55APQ/ofyrgvGunXt18V/h7d2tncTW1pNfG5njiZkhDQALvYDC5PAz1ra0nSvsHxC166iiuBDeWNkxmld3V5BJc7gpYkDAKfKOACOBmrPojpaKKKACiiigAooooAKKKKACiiigAooooAKKKKACiiigAooooAKKKKACiiigAooooAKKKKACiiigAooooAKKKKACiiigBDXhF+pS8kVxgqxBHocmveK8m8c6S9hr0syqfKuSZVOO/8AEPwPP41Mtj53iPDzrYBuH2Wn8jmKKKKxPywKKKKBlvS0aXUoI0+88iqB77hXuorynwHpL3uupcsP3NtiRjj+L+Efnz+FerVtHY/U+HcPOjgI8/2m3/kFFFFUfQhRRRQAUUUUAFFFFABRRRQAUUUUAFFFFABRRRQAUUUUAFFFFABRRRQAUUUUAFFFFABRRRQAUUUUAFFFFABRRRQAUUUUAFeX/EhWHiBCejQKR+bCvUK4z4iaU1zp8V/EuTb5STH909D+B/nSlqjzs0oSxGCqU47tafmeZUUEYPNFYH4401owooooEKozIo9+texeDlI8JWOfRj/4+1eTabZTX99Fb267nkYKox+v4dfwr2+ytksrGG2j+5CgQfgMVpA/Q+FMPKFGdaW0mrfL/hyfFGKKK0PsgooooAKKKKACiiigAooooAKKKKACiiigAooooAKKKKACiiigAooooAKKKKACiiigAooooAKKKKACiiigAozUdw0i20ht1V5QpKKxwC2OAa8r1Tx34g+0SQMUsmjJVkSPkH6nNS5JHoYLL6uNbVNrTuz1csqqSxAA6k0oOeleKaf/AGh4k1q3s7m7nn81/mLyE7VHJP5V7RHGsUaogwqgAAdhRGVzTMMAsC4xc7yf4D6wPFA0++gi0y63vdTsPJWFdzoc/f8AYDvntmn3usz3d0+n6AqyzrxLctzHB/i3tVvStGg0xXcM091LzNcycu5/oPaqPKaTVmeTa14evtGuilzFhCflkX7j/Q/0NZJGDzx9a99lijmjMcyLIjDlWGQfwrGm8HaFNIXNiFJOTsdlH5A4qOTsfJYzhehWm50Jcl+lrr5djxvBPTmtfRPDl7rVyEt4/wB2D88rfcT8e59hXp0Pg/Q4JA62KuQcjzHZh+ROK2I4khjEcSKiL0VRgD8KFAMHwvQozU60ue3S1l+tznl8MPpVtDLoU5ju4V+YSH5LnuQw7exHT9Rp6VrEWpb4nRre7hOJraQ/Mh9vUe9aNZmq6MmoMlxbyG1vof8AVXCdR7MO49qs+u20NOisjTNZeW5On6rGLbUEGdv8Eo/vIe49utSeIrm8stDuLrTdvnwrvwwyCo+9+lBdODqTUF1NOivO7H4nnhdSsQf9uBv6H/Gun0zxjouqSRxwXYjmkwFjlG0k+noT9DUqSZ3V8sxdDWcHbutfyN2iiiqPOCiiigAooooAKKKKACiiigAooooAKKKKACiiigAooooAKKKKACiiigAooooAKKKKACiiigAozQa4Hxd4s1vRtSe1hhigiYZin27i4/Hj9KTdjrwmEqYup7Ona/md7kUB1bO0g4ODivD7zxDq+oMftN/OwPBQNtX8hxXqvhHSf7I8OQROMTSjzZc/3j2/AYH4VKldndjsqeCpKdSabb2X+f8AwDcqpqV1aWljLJqLotuQQwfndntjv9Kg1TWYdN2RBWuLuXiG2j5Zz/Qe9VbLRprm6XUdeZZrkcxQL/qrf6Du3vVnjHA614WnitxqOn20/wBjlBYJIv7yIejD09/TrXNFSvWvf8VlXnhnSL+TfcWMe/uyZQn67cZqHFM+ZzDh3D4ubqQfJJ79U/keKVZs7C5vrhYbaF5HY8Koyf8A631NesDwToIOTZsfYzP/AI1rWen2mnx+XZW0cC99i4z9T3pchw4fhSnCfNWqcy7JW/zOX0TwLFa6axvZGW8kAKvC2DARyMHufWtSy1W4srtNN17CzNxBdAYS4/wb2/8ArVu1XvrG31G0e2vIhJG3UHsfUHsa0PsadOFKChBWSLFGa56K9uvDsyWurSNPYMdsN6RzH6LJ/wDFf5G+GDKCpBBGQR3oLHUV5y3xB1PStRns9UtIZzDIUYx5Qnn8a3LD4haLd8TvJaN6SrkH8Rn9anmR6lXKsZTjzcl13Wp1VFRwzR3EKSwOskbjKspyCKkqjy7NOzCiiigAooooAKKKKACiiigAooooAKKKKACiiigAooooAKKKKACiiigAooooAKKKKACg0UhoApanqtrpNr512+MnCRqMtI3YKO5rg/EOhXmtSSX0qxQakYvNSwUfOYQcZJ7tyP5V2On6GyXzajqswu705CHHyQr6IO31rM17UIdM8a6bcXG7b9kmXagyzklcAD1Jq6dP2rafZv7kenQxSwU06Gsur/ReXnv2sZPw606O0tLrWbwiNceWjucAKPvH88D8DXQGe88SkrZs9lpWcNcYxJcD0T+6vv8A/XpbfSrnWZUutcQQ26tuh09T8o/2n9T7f/XroAAoAAwB0FZpWVjnxmKli68q0uv4ENlZW+n2qW9nEsUSDhV/mfU+9T0UUzkCiiigAooooAKKKKAKWqaVb6rbiO4DK6HdFKhw8beoNZttqU9pcDS/EIUmTKw3WMR3A9D6N7f5O/Ve9srfULV7e7iWWJxgqR+o9DQB4lrmnNpOt3Vkekch2e6nkfoRXW+AdFtl1B5tSBW/iAaK3kXBCkZD89f6VeuNFi0vxDb3mumS6sowEhuW52HPyiX6Z4P0rpdV0iHVoY5Y5TBdRfNb3UR5T/EH0rNQs7n1OIzqNehGhqrr3n5/5dzUFLWZo91fTRSQ6rbGK4gYK0i/cl/2lP8ATtWnWh8zUg4ScWFFFFBAUUUUAFFFFABRRRQAUUUUAFFFFABRRRQAUUUUAFFFFABRRRQAUUUUAFFFFABRRSGgBssiQxNJK6oijLMxwAK4vXJE8U22WZLPSYnAW8mXmVycAL6Lkjmt/UNGk1XUE+2z50+MBhbLx5j/AO2e46cVn+P0WPwHeqihQvlBQBgD94vStKVNVakYPZtI7qNWOHtODvP8F/m/wXmcV4f8MXDeMlsL+MhbVvMl4yCo6fUE4r0G91mae6bTtCRZ7peJZm/1Vv8AU9z7VXM934jkK6cXs9O+7JeYxJOB2T0HvW5Y2FtptqtvZxLFEvYd/cnuaxjHlLx+PnjZxlJWsrf5sq6Vo0Om75Wdri8m5muZOWf29h7CtKiiqPOCiiigAooooAKKKKAGSwxzwtFMiyRuMMrDIIrnilz4WbMfmXWj55TO6S1+nqv6j+fSUEZFAHlnxCsomvrbV7NhJBeR4LpyNw/+tj8qxvD2lQ32oW76mzwWLybDKVIVm/ubugzXd+IvCp+yP/Zys9o0glmsk6gjq0focZ46H8q2dOh0jUvDyWtpEj2JXYYiOVPcHuG//XWbhd3Pp6OdKlg40deba/ZdGvP/ACNSCKOCFIoECRooVVUYAFSVg6cmo6PfJp8wkvNPfPkXHVof9l/b0NborRHztaHJLe6fUWiiigyCiiigAooooAKKKKACiiigAooooAKKKKACiiigAooooAKKKKACiiigAooooAKKK5+fVbrWJns/D5AjU7Zr8jKp7J/eb9KALWp62LacWOnxfa9QYcQqeEH95z2FYllp80fxAgfUbj7VdDT3lYkfLGS4UBB2GM/5NdJpmk22lQFLZSXc7pJXOXkPqx71k2n7/wCI2oSDpa2MUP4sxaumhpzvyf8Al+pSOjooormJCiiigAooooAKKKKACiiigAooooAbJGksTRyorowwysMgj0rnmiufC7F7dZLrSM5aIcva+6+q+3aujooAitrmC7t0ntpFlicZVlOQalrAuNNudGuXvtCj8yFzuuLHOA3+0no3t3rU07UrbVLQXFo+5c4ZSMMh7gjsaALdFFFABRRRQAUUUUAFFFFABRRRQAUUUUAFFFFABRRRQAUUUUAFFFFABRRRQAUUUUAFFFZWp62tnMtnZxG71CQfJAh+6P7zH+EUAWdS1O10u2868k2jOFUDLOfQDua47xVb6lqmhm41EtaxSTxRwWSnn5nAy57nHbtXS6bojJdf2hq0gur8jhsfJCP7qDt9etVfFz5OjW45M2qQ5HsMsf5V04XSvF9tfuHHc6FVCqFUAKBgAdqWiiuYQUUUUAFFFFABRRRQAUUUUAFFFFABWJqGkTQXTaloZWK7P+thPEdyPQ+je9bdFAGfpWrwapEwVWhuIjia3k4eNvf2960KytV0b7ZKt5ZS/ZdQiH7ucD7w/usO4pNL1k3MxsdQi+y6jGMvCejj+8h7j+VAGtRRRQAUUUUAFFFFABRRRQAUUUUAFFFFABRRRQAUUVxnhzx5BejX28RXen6bHp2uXGmW7yTCISLGqEEl25b5jnH5UAdnRTY5EmiWWF1eNwGV1OQwPQg9xTqACs3V9fsNEiDXsvzsMpEnLt+Hp7mmeItbTQ9Ka4IDSsdkSH+Jv8B1rxy9vri/upJ7mVpJJDlmY9f8+lS5WPHzXNaeXU02ryey/rodle/Eu5aT/QbSGNP+mhLk/kQP51XT4k6oGG+G2YdwY2H/ALNXG0VHMz4iXE2PcrppLtY9W0jx5p+oOsV2ps5DwCzZQ/8AAu3410d1eQWVq9xdyrFEgyWY/wCc/SvBwSpyK7DwfqEF9qtvaaw7zrGMWiSPlEbr07+2fpVRlc+pyjPo46Xsaq5Z/gzrPLvPExDTiSy0k9I87ZLkep/ur7d634LeK1gSG3jWONBhVUYAFSCirPpgrnPDji617xDeqODdrbj/ALZoAf1JroZHWONnc4VRkn0Fc/4IUv4bW7dNj3s8twwP+05x+gFdFPSjOXov1/Qa2OiooornEFFFFABRRRQAUUUUAFFFFABRRRQAUUUUAFYuo6PMl0dS0V1hvcfvI2+5cD0b3962qKAM7S9Yh1NHXY0FzEcTW8n3oz/Ue9W7i8t7OMPdzxwKeA0jhR+tcf4u8Q2mmagpsYkfU41KmfH+qBHT0J9j0rz671C5vp2muZWlkbqznJqXJI8XMc5w2AfJPWXZfr2PYD4r0NZNh1KHP1OPz6Vftr+0vQTZ3MM4Xr5bhsflXhO9v7zfnUlveT2syywysjr0ZWwR+Iqec8elxZQlK1Sm0u97/wCR71RXE+E/GpvZI7HVWAlbiOfpvPo3v6HvXbVadz6yjWp16aqU3dMKK4Xwb8RINW0/VrjxLd6bphtNaudOt98wiEixFcH525bnnH5V3KOsiK8bBlYAhgcgj1pmwtFFFABRRRQAUUUUAFFFcdr/AIxudG+Jfhzw+UtlsNUt7ua5nlyGj8lNwwc4A9cigDsaKp6dq2navC0ulX9rfRqdrPbTLIAfQlSauUAFQXd5b2Ns9xdyrFEgyWY1JNNHbwvLMwSONSzMegA6mvIPE3iOfW78tuKwIf3UXZR6n3NJuxwY/HUsDRdWr8l3Z1Gp/EeONmTTLXfjpJMcA/8AARz+tZP/AAsjVc58q2+nln/4quPPNFZ8zPgq3E+NnK9O0V6XPRtM+JEcjCPU7XZ6yQk4H/AT/ia7O1vIL62W4tJVliYZDKa8GrT0rVJLV/IllmFpKR9ojifb5ijr+NNS7ntZVxJ7eoqOJSTezW3zPTrnVrnVZ3svDxXCnE18RmOP2X+836Vo6ZpNtpcLCAM8sh3SzSHc8h9SamsEtY7CEWCotsUBjCDAweQasVofZBXO6wBceM9Bg6+UJ52HphQFP5muirm7ULd/Ee+mBz9hsY4CPQuxf+Qrow+jlLsn+On6jR0lFFFc4gooooAKKKKACiiigAooooAKKKKACiiigAqhqukwarCokLRTRndDPHw8TeoP9Kv0UAYlhq89rdJpuuhUuW4huBxHcfT0b2rZZ1RC7kKqjJJOABWL4qv9Os9IP9pwi48w4ihzgsw7g9seteYat4ivtYkzcSnyx92JeET6D+ppN2PNx+Z4fAR5qr1eyW7PV5fEujQnD6lb5/2X3fyqa21rTbx1S1vreR26KJBuP4da8P3t/eP50LI4Ock/Wo5z52PFlLm96k7ep77mlryvw542u9NkWC+Zri16EMcsg/2T/Q16fb3EV1bxz27iSKRQysO4q07n1OExlHGU/aUXdfkS0VyGqeMZtM+KFh4en+yxabPpc19Ncykq0ZRgPvE4C465FdLp+qWGrW/2jS723vYd23zbaVZFz6ZUkZpnWWqKKKACiiigAooooAK8h+HvgnQNc8QeOtT13TLfU5T4ju7aNLyMSxxIAjEqrZAYluSOcKPSvXqx/D/hqz8NtqpsZJ5P7U1GXUZvOYHbJIFBC4AwvyjAOT70Aec/CfUNTs/hP9n01rYJZatdWouL5/3VnbozNubkFgPugAj7w6AGvRfCmr3GveGbXUbyFIZZTICI92xwrsokXdztcKHGezCsK3+F2l2fh5NHs9T1KGBNSfUt37iQtK2flZXiZCoJyAVyCqnOQK66wtZbOyjgnvZ76RM5uLgIHfnPIRVXjpwB0/GgDzf4i37Ta4topIW3jAxnu3JP5YFcfXR+O1K+LbrI67CP++FrnKxluflXEVSU8xmpdLJfcn+oUUUVJ8+FS20zwXKSRMVdSGVh2I5BqKnJ98fWg6sJOVPEQnDdNfme7WFyLzT7e5XpNGrj8RmrFZvh5Gj8N6er9fs6H8xmtKug/azH8WXhsvCmoSoCXaIxoB/ef5R+pq9plr9h0m0tDjMEKRnHsAP6Vi+J8XuraHpQYjzrr7RIB3SMbsH2JxXSV0z92hGPe7/Rfkx9AooormEFFFFABRRRQAUUUUAFFFFABRRRQAUUUUAFZ+u6l/ZOi3F4MF0XCA92PA/U1oVyHxGcjQIADjNwD+StSexlWqeypyn2TZ5lcTPPcNJI5dmJLMepJ6mo6KKwPxStVnWqOpN3b1CiiigyHI5jcMCfwr2Pwpqx1fQYpJTumiJilPqR3/EEGvGq9F+GcjNDqEZPyr5RA9yGz/IVcHrY+24UxE1UnQe1rnH/AAo8DeHtei8ZX+vaTa6lNN4hvbZTdRiTyowwOEz90ksTkYPT0qx8MvE9xof7P+nSxhr/AFBTdxWcErk7hHJIfmbsiKuSfQBRyVB9H8LeFLHwlbahBpstxKt/fzX8puGUlZJCCwXAHy8cA5PvWZpfwx8N6b4Qi8Ovai/toROIZ76OOWaLzmLOVbZgckdB2Gc4rU+/Om025a90q0upAFaeFJGC9ASoP9as1W03T7fStMt7CyjWO3to1jjVVAwAMdAAKs0AFFFFABRRRQAV5H8R9EsvEPxy8A6fqsSz2bwXzzQtnbKFQMFI7jIGQeCBivXKw9Q8J2OpeMtI8Szy3C3mkRzRwRoyiNhKu1twIyeOmCPxoA4Oz0uz8L/tET2/hzT4rSC78Ltcy2NooijmlSfarbRhQ2OM+59TXYeFte1bUdY1DTdXFhJJZxQu8unlikUj790DFicuu0HIxwwyBxme/wDBtlf+LJPERu723v30p9LBgdQqRs+/euVJ3g9DnHtU3hnwyPDFitlBql5d2kaKkMFxHbqsQHp5USEk985oApeP702vh4Qq21rmQIf90cn+QrycnLEnqa9J+JkbHT7KUfdV3U/UgY/ka82rKe5+e8WVJOvTh0Sv97/4AUUUVB8YFAOCD3FFFA1oer/D++Nz4fMDEk20hVc/3TyP611NcT8NEYafesRwZFUH3A5/nXbVutj9rws5Tw9Oct2k/wAANc54QIuhqmp7eLy+cxv/AHo0wq/yNaXiHUDpfh2+vFYK8ULFCf72ML+pFJ4esTpnh2xtG4eOFd/+8eW/UmuqPu0JPu0vu1f6HV0NKiiiuYQUUUUAFFFFABRRRQAUUUUAFFFFABRRRQAUUVU1aRodGvZIzh0t3ZSOxCmgDyXxTrD6vrU0obMSnZEPRAf69axKc+d5z602sG7s/HM0xMsTjJ1Jd7L0QUUUUjzQ5B4r0H4c6wzPLpkxypBki9iPvD8eD+defVu+DZWi8VWW0/8ALTb+YINVHc+k4cxMqOOVNbS0f5os+MfD+n+I/wBoXw1aaxbrdWkejzztbycpKVkG0MvRhkg4PBwM1JpNvpPg747a/Dp8MGlaVJ4div7qKFdkQdZSu/aOB8voOfqa7u48K2Vz42s/FDy3AvbSzezjjDL5ZR23EkYznI9fwqK48FaTd+LrnxDeo11Nc6euny2s4R4GjWTzAdpXJOfU49q2P1Ej8G+I73xHHq76hYixay1A20cOcuI/JikUv/t/vOQOB05xk9JWNoHhXSfDM2pSaPax2/8AaNwLiVUjRQpCKgVdoGFG3ODnlmPetmgAooooAKKKKACiiigAoNFFAHBfEfSGlWDUo1yFHlSkDp1Kn9SPyrzw9f5173c28V3bPBcIJIpBtZSOory3xJ4NutKlea2Vp7TqJAMlB6MP61Eo9T4/iDJ54lrEUFeS3Xc5ainGNwehP0pArHopP4Vkfn8qVSMuWUWmJWnoOlSatq0NtGDh2+Zh/Cv8R/KotN0e81S5ENpC0jHrjoo9Segr1bwz4bh0C05xJdSD97IOg/2R7fzq4xPq8iyWrOtHEV42itUnu3/kbUaCOMIowqgAD0pxoqpqt/HpmlXN7MRtgjL4JxkgcD8TxW0YuTSXU/RTH00/2l431K9+Uw2MS2URHOWPzP8AiDgV0dYvhOwksfD0BuMfabkm4nOMZdzuOfccD8K2q3xDTqcq2Wn3f57je4UUUVziCiiigAooooAKKKKACiiigAooooAKKKKACuZ8eWTXfhl3T/l3kEhHqOQf55/CumpksSTwvFKoZHUqynuD1FBM4qcXGWzPAiMEg0Vu+JvD02iagyEFoHOYZP7w9PqKwqwasz8cx+BqYKu6U16PugooopHnhXp/w6smg0me5dSPPkCqf7wUYz+ZP5Vwmg6Jc6zqSQQKQvV3I4jX1P8ASvZbK0isLKG1t12xRKFUVpBdT9C4Yy+dKMsTUVubRencnooorQ+zCiiigAooooAKKKKACiiigAooooAx/FOltq2gTwRDMy/vIh6sO34jI/GvGZEKSEHj2r341w3i7wW13JJf6SgMjfNLAP4j/eX39u9TKNz57PMrePop0/jjt5+R5xRUs1tLBK0ciMrKcFSMEH3FR7G9D+VYn5lVw9ajLkqRafoJTo0MjhR1z2p8VtLNIscaMzscBQMkn2FeheEfBTWkiX+rIBIp3RQnnB7M3v7VSi2ezlWS18ZUUpxtDq318kdD4W0ttI0CCCUYmf8AeSj0Y9vwGB+FbFA6UVsfqiSSsjm/FP8Ap97pOjBd63VyJpgenlR/MQfqcCukrmtIH9qeLtU1VhmK1AsLc59OZD+ZArpa6a/uqNPsvxev+S+RT7BRRRXMIKKKKACiiigAooooAKKKKACiiigAooooAKiuYFurSa3k+7KhRsehGKlooA8GvIHtrqSKUYdGKsPQjg1BXoHjzw0zSNqtohZWH79QM7T/AHvp6/nXAMCpw3BrGSsz8pzzL54TFSnb3ZO6fr0EoooqTwArqPANibnxJFLj5YFaRj+GB+p/Subt7d7iZY4kLsx2qqjJJ9BXr3hPQf7D0wiUD7TPhpcdF9F/D+tXFa3PsOGcvnOv9akvdjt5v/gG9RRRWp+ihRRRQAUUUUAFFFFABRRRQAUUUUAFGKKKAMu78M6NfOXuNPiLsclkyhJ9yuKrx+DdAiYMunqSP70jsPyJrcooFZN3Ire1gtIRFawpDGOiooA/SpaKKBhXNeJP+Jrq2naCvMcj/arsYz+6Q8A/7zYFdFNMlvC80zBI41LMx6ADkmuf8KQvetd6/dKVk1F/3KnOUgXhB7Z6/iK6aHuJ1e23q9vu3+RS7nRiiiiuYkKKKKACiiigAooooAKKKKACiiigAooooAKKKKACiiigCve2NtqFq1veQrLE3VW/n7Vw+qfDd2cvpdyGXPEc/BA/3h1/KvQKKTVzCvhqOIjyVoqS8zyn/hX2tbseTGR6+cK0tN+G05kD6lcpGgOdsXzMR6Z6D9a9EopcqOClk2ApS5401f7/AMynpul2mlWot7GIRp1J6lj6k9zVyiiqPWCiiigAooooAKKKKACiiigAooooAKKKKACjFFFAFO90mw1ED7daRTEDAZl5A9j1rN/4Qrw/uz9g/wDIz/8AxVb1FAmk9ynZaTYadn7DaRQkjBZV5I+vWrlFFAwrL8Rap/ZGhXF0nM23ZCuM7pG4UY781qVzNwf7d8aRWynNno+JpcHhp2HyD/gIyfrW9CKlPmlstX/XnsNGp4f0v+x9CtbI4LomZGH8Tnlj+ZNaVFFZTk5ycpbsQUUUVIBRRRQAUUVFdXMVnayXFy4jijUszHsKAJaK5ZvFGo3Pz6fpsaw/wtcyYZx67QOK0dJ8QpqFy1pcwNaXYG4Rs24Ovqrd6ANiiiigAooooAKKKyNX8QR6bOlrBA11duNwiVtoVfVj2FAGvRXLJ4m1S3Je/wBNjkh7/ZpMso+h6/pXR2l3DfWkdzauJIpV3KwoAlKhhgjIrkdZ8AWV8xl09xaSHkx7coT7Dt+H5V19GKDOpSp1YuFRJp9GeVSfDzWY2wqRSD1WUf1Aqe1+HOpSyj7S8MEf8RL7j+AH+NenUYqeVHlRyPLoy5lSX4mJoXhaw0MB41M1zjBmccj6DsK26KKo9iMVFWirIKKKKBhRRRQAUUUUAFFFFABRRRQAUUUUAFFFFABRRRQAUUVQ1jVoNG0ua8uMsEGEQdZGPRR7k1UYuUlGO7AyfEkrarf23hy1Yjz/AN7euufkgB6Z9WPFdHFGkMaxxqFRAFVR0AHasXw3pU1pbzX2pYbUr9vNuD/c/uoPZRx+dblbVpJWpR2X4vq/0XkhvsFFFFc4gooooAKKKKACiiigAooooAKKKKACiiigAooooAKKKKACiiigAooooAKKKKACiiigAooooAKKKKACiiigAooooAKKKKACiiigAooooAKKKRiFBJOAOpoAzdf1YaNpMlyF8yZiI4Ih1kkPCqKb4d0ltJ0hIp38y7lYzXMhOS8jcsc/p+FZem58TeIP7XfnTrFmjsVPSV+jS/TsK6muqr+6h7Lru/0Xy6+foU9FYKKKK5SQooooAKKKKACuf8YfNp9lE3KS3sauP7wwxx+groK5/wAX/wDHrp3/AF/p/wCgtQBxeo+KZbe9eG2SPYjFcuCSSOp69Kv2Wo/2g+mXiL5c0d6kbFT2bgj6EGs7U/C881881rtdJGLYLY25/pWjZ6b/AGZDp0LMGZr+JmI6ZyBgflUq99TzcO8b9Zqe2t7P7Pc9Foooqj0gooooAK89v9QFjc6teyDzJmvDCuT2UfKPoBmvQq88vtP/ALT/ALVhDbWF/Iyk9M+/50Ez5uV8u/QzbDxXLLdol0kflscFlBG33+ldp4RAS1v4l4RLxto7AFVOB+JriNP8KzpeK92UWJWBIDZ3e30ruPCn+r1L/r8P/oC0lfqcWX/W/Y/7Zbmv07HQUUUUzvCiiigAooooAKKKKACiiigAooooAKKKKACiiigAooooAKKKKACioBe27XzWYmQ3KoJDED8wUnGaldgiFmIVVGSScYptNbgJLKkMTSyuqRoCzMxwFHqTXM6dG/ijV01i5UjTbViLCJhjzG7zEf8AoP58d45Hk8Z3hhhLR6DA/wC8kBwbxgfuj/YHc9/5dXGixxqkahEUAKqjAA9K6n/s8bfbf4L/ADf4flWw6iiiuQkKKKKACiiigAooooAKKKKACiiigAooooAKKKKACiiigAooooAKKKKACiiigAooooAKKKKACiiigAooooAKKKKACiiigAooooAKKKKACiq91e29kIzdSrEJZFiTcfvMegFT0WdrgLXMa1dS65qJ8P6Y7LGMHULhP+Waf88wf7zfoKn1rWbiS8GjaDtk1GQZllPK2if3m9/Qf5Oho2kW+i6ettb5Y53Syty0rnqzHuTXXBKhH2kvi6L9X+n+RW2pbtraKztY7e2jEcUShUUdgKloorkd27skKKKKACiiigAooooAK5/xd/x66d/1/p/6C9dATjrXP+L/APj107/r/T/0FqAOfvvEFlYz+S++Rx97YB8vtyRUjXUN4dNmt33I17F+HzdK5DWdPuYtSl3qxDOzK2MhgTnNb2j2k1raWHnqVL6jEwB64yB/Skm7nm4fE4ipialKpT5Yx2fc9Ld0jjLyMqqoyWY4ArjNe+JWmaduh0wfb5xxuU4jU/73f8PzrI8d6H4ou55Zlma907JKQQceWvUZT+I+/PTtXnBBViGBBHBB7V9Pl2VUK0VUnPm8l+vU9iEE9T6E0S/fVNDs76VAjzxB2VegJ9Kv1xPhvT/EUnhqwe01uCGFoVKRtZhio9M55rU/szxT/wBDDb/+AI/xrxquHgqkkppavv8A5GbWp0VcL9oitLjVprhwiLfSZJ/Ctu307xIlzG1xrtvLEGBdBZAbh3Gc8VymtWst3DqiwAsyai7kKOSMY4/OuWpFQ2kn6X/VIzm3GLaV2WbLxDZXtwIU3xuxwu8Dk+nB610PhT7mpf8AX4f/AEBa8x0vTbme+RI0YHcMvj7gz1r07wp9zUv+vw/+gLWabZw5fiK+Io89enySvsdBRRRTPQCiiigAooooAKKKKACiiigAooooAKKKKACiiigAooooAKq6nqEOl6bPe3RxHCm4+/oB7k8VargPF+vJJ4ottJEJuI7UiZ4SwRZZcZRWY8BQDk+vSunC0HXqcq2Wr9Coq7NvQoxpel3Ota9IsFzfHzp2c4ES/wACfgO3qarbL3xmymVZLLQc5CElZbz6/wB1P5/yksdG/tW4S/8AEl5BfSocxWkLZgh/D+I+5rqAV7EVtVqqnNyWsu/Ren+f3dxvQbDDHbwpDAixxooVUUYCgdgKfRRXBvqyAooooAKKKKACiiigAooooAKKKKACiiigAozmuF+J9nqg8PXeqWOuXNlBbQANawDAlJbGS2cjg9Pat3wT/wAiJon/AF5Rf+gigDdooooAKKKKACiiigAooooAKKKKACiiigAooooAKKKKACiiigAooooAKKKKACiiigAoNFc144146LoRSFytzdnyomA+4P4m+oHT3IrWjSlWqKnHdjSu7DLQ/wDCR+KpL5sNp2lMYrfPIkm/if8A4D0H5in32uXOq3T6Z4XKu6nbcX5GY7f1A/vN7f8A18ZGkWkusaZb2TXUem6PGm0W0MwM9wO+9h90HqQPU12dna2lhapbWUccUMYwqJwBXbXcKUtVdrRLovXu+ttvyKehBo2jW2i2fk2wLO53SzOcvK3dmPetCkpa8+UpTk5SepAUUUVIBRRRQAVFc3MNnayXFw4jiiUs7HsBUteW/EvxP5839iWUn7uM5uWH8Tdl/Dv7/SuzB4WWKrKnH5+SKjHmdjo/CXjdfEWqXlpNGsJUl7YDq0foffvx6+1aF94piFy1jokDapfDgpCf3cfP8b9BXh0EpgmWRc8cEBiMjoRkeoyK988Otp0mg20ujQxw2sibgiDoe4PqQeD9K9XM8DRwklUjG6fTpfz6/wBblzio6lC28O3d9cxXviW8+0SxuJIrSAlYImByDjqx9zT/ABd/x66d/wBf6f8AoL10Fc/4u/49dO/6/wBP/QWrwqlWVR+8Z3uZ8k0UWPNkRM9NzAZqG85uNOx/z/Rf+hVw2sTTvqs5kJ3eYV9cc8Ct/QpJJLGwEhJCajEFz2GRx+dZJ3djzcPmEK+JqYdRacOvQ9QrC1zwhpGvhmu7cJOek8Xyv+Pr+NbtFa06k6UuaDsz0k2tippdgul6XbWMbl1t4wgZupx3q3RRUSk5Nt7sQVxVv/x/6p/1/Sf0rta8y16SSO31TyiQG1J1fHpj/HFImUlCLk+hupNFKSI5Ecr1CsDitDwn/q9S/wCvw/8AoC15bpk9xHqETQg+YHAUAYyc9K9S8Kf6vUv+vw/+gJSTucWAx0MdR9rBNK9tToKKKKZ3hRRRQAUUUUAFFFFABRRRQAUUUUAFFFFABRRRQAUUUUAFULvQdKv5zNe6dbTysADI8QLH8alttUsLy4kgtL23nmi/1kcUqsyduQDxVqqjKUXeLsBiP4N8PP10m3H+6uP5VF/wg3h7cGGn7SDkbZpB/Jq6CitfrNf+d/ex3YUUUVgIKKKKACiiigAooooAKKKKACiiigAooooA5P4mzRr8PNWRpFDtEuFLDJ+de1XPAs0cngbR1jkVmSziDBWztO3vVnWPCmia/cRzaxp8d1JGuxGcsMDOccGn6N4a0jw8Zjo1jHaeft8zYSd23OOp9z+dAGpRRRQAUUUUAFFFFABRRRQAUUUUAFFFFABRRRQAUUUUAFFFFABRRRQAUUUUAFFFB4oAKrXmnWeoxrHf2sNyinKrKgYA+vNZx8U2AiW5CzGxaYQC92jydxbaOc52543Y2+9asFxFcozQtuVXZCcY+ZTgj8CCKabTugMtvCHh9+ukWv4R4/lULeB/Drf8w1V/3ZHX+RrfzRWyxFZbTf3sd2VtP0620uyS0sUMcKZ2qXLYycnkkmrNRXN1BZwNPdzJDEv3nkYKB+NcFrPxRgjuFg0OAT/MA08wIUj2HX8Tiro4avipP2av3f8AwRqLZ6FRSD7opc1ykhWReeKNGsJjFc38YkBwVQFyD77QcVh+PvEEljCmnWjlJJU3SsOCF6AA+/NeaF2bqePapcrHz+a55Sy+Sp8vNLe3Y9u0/XdN1U7bC8jlb+5yrfkeay38A+G5JnllsC7uxZi08nJP/Aq8ohuZLeRZI3ZWU5VgcEH1Br1/wprba1oqyTf6+I+XIcY3HGQ34j9c1rSr1IX5JNehvlWcUswi1FcsluhieB/DadNKiP8AvMx/ma17KxttOtVtrGFIIVzhEGAM1Yoqp1qtRWnJv1Z7V2wrH8T2U95pKvaLvmtZVnRP7+3OR+RNbFFZCPPTFo+qnz5FjMn8QLbWHsQDVnToI9T1W0ttOUfZLOUTSyIPlBHKqD3JNdVdaHpl7N5t1YwSyd3KDJ+p71bgt4baIRW8SRRr0VFAA/AUBYkooooAKKKKACuI1SBdM1e7jv1H2O+k82ORh8u4j5lJ7HjIrt6jmgiuYjFcRpLG3VHUEH8DQBwIh0bS/wDSEEaNj5cOWJ+gzXUeF7Oe20ySW7Qxy3UzTmMjlAQAAffAq3baHpdnN5ttYQRyDowQZH09Kv0Ba2wUUUUAFFFFABRRRQAUUUUAFFFFABRRRQAUUUUAFFFFABXI+Pbm7ddH0azdol1a9WG4kRirCEcuAR0yP0zXXVS1TSbTV7dIr2Mt5cglidGKtG46MrDkGgDj/HaDQj4ZudEtoY7mLUo7aFFAQMjqwKfQ4FHja51/wp4Jjm0i+t0W3VFuJniLSySM4yy5O0Akk8g9eK6K58JaVep/pqTXEwZXSeWdmkjZTkFCT8nIz8uAe9YPxE0+/u/CP9g6JpVzeGQIRKsikJtcH5izZJOOvNAFzxVN4im1zT9O0WSWxspYpZLjUI4lcRsoO0HdwBnHuc8dDUnw68QXviXwfDfamAbhZGiaRVwJdv8AFjp+XGQax/GWoeJtW0a2s9K8O3yRXWTer5qJIEBx5YYEgbhzkZ4+pre8DQ6hb+GxFqdiNPKzOILQYPkRZ+Vcj73fk8nPNAGlrhtRpp+3JevFvHFkJvMz/wBsvmx+lc35mgf8+3ij/vnUv8a7WigDn9AfTDeyf2fDrEcnl8m/F2ExkdPO+XP056+9b0m/y28rbvwdu7pn3p1FAHN48b/39A/74m/xox43/v6B/wB8Tf410lFAHN48b/39A/74m/xox43/AL+gf98Tf41f8S60nh/w7d6k43tCn7tP77nhV/EkVl2ieOmsoWubjQ0lMal1a2lJDY5BIfGfpxQBLjxv/f0D/vib/GjHjf8Av6B/3xN/jUcc/iyW4aCLU/DjzIMtGsEpZe3I8zNTeX40/wCfvQf/AAFm/wDjlADceN/7+gf98Tf40Y8b/wB/QP8Avib/ABp3l+NP+fvQf/AWb/45SGPxoBk3eggf9es3/wAcoATHjf8Av6B/3xN/jRjxv/f0D/vib/GqOk6t4n1yGabTb/Q5oYpTCZfsc4V2HXaS/wAw7ZHFaHl+NP8An70H/wABZv8A45QA3Hjf+/oH/fE3+NGPG/8Af0D/AL4m/wAad5fjT/n70H/wFm/+OVnT6x4mtdct9JuNQ0KK6uozJCGs5wsmDyA2/Bb260AX8eN/7+gf98Tf40Y8b/39A/74m/xp3l+NP+fvQf8AwFm/+OVDPP4stSoudS8OQl+F8yCVd30zJQBJjxv/AH9A/wC+Jv8AGjHjf+/oH/fE3+NO8vxp/wA/eg/+As3/AMco8vxp/wA/eg/+As3/AMcoAbjxv/f0D/vib/GjHjf+/oH/AHxN/jTvL8af8/eg/wDgLN/8crOm1fxNDrlvpBv9Da9nRpBGlnO2xB/ExD4UdhnqaAL+PG/9/QP++Jv8aMeN/wC/oH/fE3+NO8vxp/z96D/4Czf/AByjy/Gn/P3oP/gLN/8AHKAG48b/AN/QP++Jv8adGPGnmL5r6DsyN21Js4745qnqt/4s0XTJtQvrvRBbwgGQpZTuVGcZwHzgZ59qv6RL4iupbe5ur3RrjT5F3brSGQM4I4KkuR1x26UAb9FFFABRRRQAUUUUAFFFFABRRRQAUUUUAFUdcs59Q0C/s7STyp57d443JxhipA57VeooA4jVtLv734bLoFjpUqzraRxkSuiqrJtOM5+YkjjHHqRVXxVp0Nsnhe5jjubdxqttb+VJMSCm52yVBILEgHJ59a9BrF1nwrp2v3UU+o/aWaHBjEdy6KrAkhgAQN3J560AcR450cxa9NdQ6kX1W7eKS0JbYNOij+/IzZwEPuBk+pr05cmEbWBbbw2OCfWuYvfh14f1G7NzexXM0rIqMzXLncFAAzz6CuqAwKAPHfGWi+KjcNc6sz31up+V4OUQf7o+79SPxNcaOCCOor6TxXPa14H0XWyZJbf7NOes1vhSfqOh/LNfTYPO4wiqdWFl5f5G0altGRx6F4iZFL+LJCCM/LYRir2naTqVrdrLea7PeRgEGJoURT+QzWtGgjjVByFAAzTq8GWInJNafcl+hndnl/xGjZfECsRw0KFT+JFcfXs/iXw9Hr9gI9wjuIsmKQ9BnqD7GvL73wxq1hMUmspjzwyoWU/QjNccou58DxBlGJrYj6xQjzJpXturGRXpHw0hkSwvZW5RnRR9QCT/AOhCuX0jwdqupTAPbtbxZ+aWZSoA9geTXqGkW9lYafHZWEsbrEMMQwJLdyffNOEXudXDmVV8NOVeurXVkuvzNCiiirPsgoorG8U3k1rpKR2rmOW6mWBZB1TdnJH4A0AT3niHSbCbyrq+iSTOCoO4j646fjV23uoLuES2syTRno0bBh+lcGbrSdJP2ZmRXA+b5CxP1IFT2FxHYatZ3mmsDb3kqwTRocK27gNjsQaBXWx3VFFFAwooooAKjnuIbWIy3MqQxjq8jBQPxNSVw+pzpqGsXlxqDAWli5iijY/KCB8zEdznpQB01p4i0m9m8m2v4XkzgKTtJPtnr+FaVeei70jVP9GBR2YfKChU/gTXT+FrqefS5IbpzJJaTNB5h6uAAQT74NAk09UbdFFFAwooooAKKKKACiiigAooooAKKKKACiiigAooooAKKKKACiiigAooooAKKKKACiiigAorjPiNq/iTStFkm8OwRpFFH5lxdsQzINwG1U9eckngAHvWvY+KLO58FR+IpHVbf7N50gB+6wHzL9QwI+tAGVrGfEXj+w0cfNZaOBf3ny5BlPESZ9ere4ror7WbLT7iK3uJGNxMC0cMUTSOwHU7VBOB69KxvAenzxaG+q6ioGoaxKbyfknaG+4nPYLjjtk1maHeJbeK/GGsay0cT20qW8e/7yQquQB3w2QcDqaAHeCWtNS8V+JdesY4ks5JY7eGRU2biq7pGPA5JYEk10cPifSriSJYJ3dJpfJjnEL+U7+gkxtPTjBwTxXm32i4T4L6jHal3vrqMX146DjZNMQfx2KcjsK7mDTdOsG0qC81Sa7ETKLG12oFBC4DBI1BIUc5OQOvHWgDYvtZstPuIreeR2uJgWjghiaR2A6naoJx79K5Dxz4vtrjwFdN4fuxNLd3C6eropBV2GWXkcHbke2fWnaXf2+meJ/F+s65dJG9vJHCiSNykKpuXaD/AHieg6kVyepWjWnwx8NahPHtafWFvrk+vmFyGP8AwHaKAPSJrzSvAnha1juCUt7dFgiSJMvM+OiqOrE5P5mqr/ETQE03S77zpTDqk3kw4jOVYHDbh2AJAPXrxmofiTBEnhC61TyjJdWMbfZzuOEMn7stjoSAxIz0rlrLTbK80HwV4asXFzJ5qapdsmG8qMAs27HTLPtH0oA9YrkfiZp5uvBdxewEx3mmst3byrwyMp5wfpn9Ky9GguLH4y3llJqV7exf2YZlF1Lv2FpF4UdAK6Txy6x+AtaL9Psci8+pGB+poAs6fr1tP4UtdbvJEtoJLZJ5Gc4CZUEj8+K5TxNfWHiPxP4Z0y1hzc/bRdu09s0brDGC3G9QdrY/MVmwxTz6F8PNOm4sZ5Fmn3j5WKJvjU/Xnjvj2rVOp2l18WJrvzPOi060iskSPk+dNLgkeuBnPpg+lAHW3euWNneCzkkklutnmGCCF5XVfUhQcD69aedYsBo41VrqNbHy/M85jtG38ec+3XPFcR4SsppR4jvtT1eawmfUplugnlqQqgbcuykgAHjBGB0qxr0FrPL4OsbRjDojXe9t2UDmNN0atu5O4g9evWgDpYfFGlTX8Vl9oeK6mQyRwzwPGzqASWAYDjAPPtXNfDZjqkOr+Krz/X6ldsEd+scCcKuewHI/AU6GaLxF8R9VmsmWaLS9L+yLIpyBNIxJwfoMfnTfhbBDf/C2KzmyUZp4ZlBKkZY5GR0ODQBqaf8AETw/qc9/HbXEoFjA1w7vEQskS/edPUD8D6VraBr1n4k0aHU9NL+RKSAJFwykHBBFeZeHLrTtH1/xhqt6UQaYg0+0ti3LRrlVUA9SfLQfifWnf8Ibe6b4XtX1y8a20ez0t5ZIkmaOSO7Yls4HDEEqoye2Mc0AetyxpNE8cqK8bqVZGGQwPUEVw/w2naym13w07O66TeEQM5/5ZOSVH4YJ/wCBVrfD+fUrnwLpsutF2umjJ3SH5mTcdhPvtxWJ4MIl+J3jORPuLJChx64Yf0NAHf0UUUAFFFFABRRRQAUUUUAFFFFABRRRQAUUUUAFFFFABRRRQAUUUUAFFFFABRRRQAV4p480JtC8RNLbgrbXRMsRXjaf4l/A/oRXtdYXi7QV8Q+H5bYAfaE/eQN6OO349Pxr0stxf1aunL4Xo/68i4Sszxq11nWlmjis9Rvd7MFREnbk9hjNe5aHBfW+jW0eq3BuLsLmVyAOTzjjrjpnvivPPBXgV722mv8AVPtFo4O222Eo6MD9/wDPgZ9/aurj1q/8PyrbeJx5tsTti1OJflPoJF/hPv0r0s1nTxEvZULXW/d+nf0LnZ6I6iuf8Xf8eunf9f6f+gtW9FIk0SyROrowyrKcgj1BrB8Xf8eunf8AX+n/AKC1fNmJ5hrNvPHqs4lByXZgT3yetdBokMkVnYGUEb9RiZcjqMjmuhdEbG9VbB4yOlV7z/j407/r+i/9CpJWdzzsPl9OhiamIi3ee/Y7aiiq17f2um27T39xHBEvVpGx/wDrqknJ2R6JZoqG1uob21iubVxJDKoZHHcGpqTTTswCvM9dhlmt9U8kE7NSdmx6Y/8ArivTK4q3/wCP/VP+v6T+lBM4qcXF9Tg9MtriXUI1gzvLAhhzjnOfwr1Hwp/q9S/6/D/6AtUFREzsVVJ64HWr/hP/AFepf9fh/wDQFpJWOLAYGngaPsabbV76nQUUUUzvCiiigAooooAKKKKACiiigAooooAKKKKACiiigAooooAKKKKACiiigAooooAKKKKAIrm3iu7SW2uF3xTIY3U91IwR+VeL+HrLU5NWm+HdyshsbfUDc3EhPW3Xnbj0dth/4FXttVo9Os4tQmv47aNbudQkkwX5nA6AmgCyKqS6VYT6hHfzWVvJeRDEdw0SmRB6BsZHU/nVuigCraaZY2Fu8FjZ29tDIxZ44ogqsT1JAHNMsNG0zSi50vTrWzMn3zbwqm764HNXaKAOGvtL8Q67oz2WoaZZwapMXgk1PCbIbdmIIjwS5JXjBCjmtvxD4Yh1jwXNoMR8tfIVIGP8LJjZn2yBn2reooAwPC97NrHhsW+s2bxXcANpeQzpkOwABPPDKwIPcc1f0zQdK0Xzf7J0+3szLjeYYwpbHTNaFFAHCQ+H/FsfxDfxC39j+TJGLV0Ekm4Q7wcgbfv4HrirPjyK8142nhXT45QL5llvLkJ8kMCtzz/eJAwPb3rsqKAKkulWE+mJp1xZwTWaKqLBJGGQBegweOMCkj0fTYrqG4i0+1Se3j8qGRYVDRp/dU44HJ496uUUAUZtE0q41Bb+4020lvExtuHgUuMdPmIzxWdq41OTVvJbSotT0WS1w8OIyxn3cbt7AbcY6AnPat+igDn/AApoVxpMV9c6iYheahcGaSOHlIVACpGpwMhVAHQVleHbSfwr4w1DSWhlbTdVma8s51UlY5CMvG2BgcDjPYetdrRigDMm8OaPcasupz6ZayXqkMLhogXyOhz6jAwe2K5nxz4c8T+INTs/7Jl03+zrXEnkXZYiSXnllCkEDjA+tdzRQBzNjJqHhXwM02tvJqeoQ73kEBaQyu7nai8Zx8yjpxSeA9BudG0OWfVADqeoztd3Z4yrN/Dn2/mTXT0UAFFFFABRRRQAUUUUAFFFFABRRRQAUUUUAFFFFABRRRQAUUUUAFFFFABRRRQAUUUUAFFFFABTJYkmieOVFdHBVlYZDD0Ip9FAHOw6De6LfI/h+dRYySDz7CcnYgJ5aM9VPt0pfF3/AB66d/1/p/6C9dDXP+Lv+PXTv+v9P/QWrSpUlUact/63G3c8y1q8nn1KXzWPyOyqp6KAcY/St/Rbma5s9P8APZmKajEoLHnGQcfrWheaFZXs5mkRlc/eKHG76097aK0OmQ26BEW9iwB/vVkk7nmYfC16WJqVZ1HKMtl2IvFfxFm0u8m0/TLNlnjO1prhcAe6r3Hof0rzbUdUvdWuvP1G5kuJOgLn7o9AOgHsK971PRtP1m38nUrWOdf4Sw+ZfoeorzvXfhbcQFptBm+0J18iUgOPo3Q/pX1WV4zA00ouPLLu+vz6HsQlFG74b8UQ2nhqwgbTNUkMcKqXis2ZW9we4rU/4TCD/oEaz/4AtV3w1azWfhnT7e5QxyxwKroeqnHStSvDrVKLqyfLfV9TNtXMKDxVDcXEcI0vVkMjBQz2TBRnuT2FcjrdzNbQ6mYCVZ9RdCV64x/9avS64YW8V1catDOgdGvZMg/hXLNxfwqxE1zRajocRpV7cW9/G8BJJYAqP4+eleoeFP8AV6l/1+H/ANAWsC00Cxs7gTRIzODld5zg+tb/AIU/1epf9fh/9AWs0rHBl+GrYaj7OtU53fc6CiiimegFFFFABRRRQAUUUUAFFFFABRRRQAUUUUAFFFFABRRRQAUUUUAFFFFABRRRQAUUUUAFFFFABRRRQAUUUUAFFFFABRRRQAUUUUAFFFFABRRRQAUUUUAFFFFABRRRQAUUUUAFFFFABRRRQAUUUUAFFFFABRRRQAUUUUAFFFFABRRRQAUUUUAFFFFABRRRQAUUUUAFFFFABXP+Lv8Aj107/r/T/wBBaugrn/GHy6dZzN/q4byN3P8AdGGGT+JFAHD6n4nuYr54rXakcbED5clscd60rLUjqcOnSuoV1v4lbHQ8g5/WqepeFXubx5rWWMJI24q+RjPXGB0q9Z6cLCTS7KMmWaS9SVsDsvJP0AFSr3PNw6xqxNR1mvZ/ZtueiUUUVR6QUUUUAFeeX+oHTf7VmVQztqEiKD0z6n8q9Drz6/08X11q1jMfLlF2ZlyOzD5T9CM0Ez5uV8u/QxtP8U3DXirdlXiZsN8uCo9RXdeFP9XqX/X4f/QFri7Dwo8N4sl1LGY1bO1Mnd7cjpXaeED5lpfTL9yS8Yo3ZgFUZH4g0le2pxZesWqP+1tc1+nY6Ciiimd4UUUUAFFFFABRRRQAUUUUAFFFFABRRRQAUUUUAFFFFABRRRQAUUUUAFFFFABRRRQAUUUUAFFFFABRRRQAUUUUAFFFFABRRRQAUUUUAFFFFABRRRQAUUUUAFFFFABRRRQAUUUUAFFFFABRRRQAUUUUAFFFFABRRRQAUUUUAFFFFABRRRQAUUUUAFFFFABRRRQAUUUUAFR3FvFdW7wXCCSKRSrKe4qSigDl28K3tudmn6piDoqTxbyn455rR0jw/Hps7XU8zXd4y7TM4xtHoo7Vr0UAFFFFABRRRQAVk6voEWpyJcRSta3cY2rOgzkejDuK1qKAOXHhW/nOy+1X9x0ZYIQrMPqc4ro7W2hs7WO3toxHFGu1VHYVLRQAUUUUAFFFFABRRRQAUUUUAFFFFABRRRQAUUUUAFFFFABRRRQAUUUUAFFFFABRRRQAUUUUAFFFFABRRRQAUUUUAFFFFABRRRQAUUUUAFFFFABRRRQAUUUUAFFFFABRRRQAUUUUAFFFFABRRRQAUUUUAFFFFABRRRQAUUUUAFFFFABRRRQAUUUUAFFFFABRRRQAUUUUAFFFFABRRRQAUUUUAFFFFABRRRQAUUUUAFFFFABRRRQAUUUUAFFFFABRRRQAUUUUAFFFFABRRRQAUUUUAFFFFABRRRQAUUUUAFFFFABRRRQAUUUUAFFFFABRRRQAUUUUAFFFFABRRRQAUUUUAFFFFABRRRQAUUUUAFFFFABRRRQAUUUUAFFFFABRRRQAUUUUAFFFFABRRRQAUUUUAFFFFABRRRQAUUUUAFFFFABRRRQAUUUUAFFFFABRRRQAUUUUAFFFFABRRRQAUUUUAFFFFABRRRQAUUUUAFFFFABRRRQAUUUUAFFFFABRRRQAUUUUAFFFFABRRXELcS+JviPrWkXlzcQaZodvbkW8EzRefLMGbe7KQxChQAuccknPGADt6K8z1zxC3hXwj4m1DQdei1aQSwJZK10Lg2XmbIhu5JwGJbnJPfNdDdeEpYbG0bTtYv47yO6t5Li4nvZGFyiyKZFZSSo3AHAUDrgYBIoA6uivNIrq88N608Oq399ceHdcuZbSKWW6kZ9PuVdlRRJncEkAABzw47bq7fwzGY/C+mhpZpma2R2knlaR2ZlBJLMSTyaANSiiigAoorH1/wAS2mgSWMNx89xqExht4y6oCQpZmZmOAoAJJ+gAJNAGxRXFP8S7SO3trhtKvjb3ImjjmUxlTcR7gYOG5dipC9m4waut4uvF1e20z/hG74XdxZvdqjTQDaFYKVJDn5vmX1HPXrgA6iivP215dY8Q6VqmjT3xtr7RrxjbrMUO+N4wBsY7FkUlxn17kVd03xpCui6bFaW2oapctpK6jKH2GYQ4wC2OGkYggBRyQelAHZ0V55qnjC70zT/Fd7ZW+ozXNm0BWC6eIJCJIxtZB1A7lW5z7VpXl5er460SXybuJ5tOvDJYfaQVdkMW35Q2zd8x59+tAHY0VzGi+NE106f9l0m8T7Z5/mb2iza+U+xhIA/XdxgZrp6ACiiigAoorlIvH9i2om0ntLmB2iuJI1ZR5jCE/MDH95SRyvGGFAHV0Vxa/ErSzZxXZ8oW0zRIl0LqMwqzhjtkcHCEbeQe5AGc04+KYzr9jc3I1C2tpNMubny1eN4GWNl3MQMsWxgqRwQ1AHZUVxafELzYLqWLQrx1tbBNRcebED5LqzKR82M4RsjPBx161N/wsKzis5ri8sLu2RNPXUYxJtzJCzbcnB+Ug4JzjAOfXAB11FZeh63FrttNPbqhijl8tZYplljlG0HcrLwRzj6g1qUAFFFFABRRRQAUUUUAFFFFABRRRQAUUUUAFFFFABRRRQAUUUUAFFcl4lvrm48aaB4dSeW1s76O4uLmSFyjyiJVxEHHK5L7iQQcLjPWrGkfYrXxRf29nrEkyRWse6wmneRrchny/wA2SA2QOT/DxQB0tFedaDqt3qviLW9NfV2K6zarfaeY35tkB8tlXuCF8pvq5qa00yW78b+JNMh1PUoo7S1s5LTOoTsInfzNxwX+bO1cg5HFAHf0UCsLU76S28WaXbr558+2uSkayhYnZQh+cbSc88EHjJyDQBu0Vx1p48e7s7SdNIkUXenSahGGnXiNMbg3HBO4YxnOecVYbxm7Sy/ZdLkmij0uPVN3nKrNE+75QuPv/KeM49xQB1NFedz66PP1nULW7vmsZf7Lni8q4IZFlf8AhDhgoPy7lAGRnvW/H4mk1SO4Om2E8lqtxPZ/akkClHiDBmII4XepUHk5xxjmgDpaK4rw54ivNRvtFtYld7G50RLtpbmcGZixUZbCgFvpgEk9OKTQfED6Vp1hb3izTQXWo3tqt5PcFvKKSylFYtljlUwDntj0yAdtRVTTLuW+02C6uLZrSSZA5hdgxTPQEjvUGu61FodjFPLG0rz3EVrDGpxvkkYKoz2HOSfQGgDSormNV8YPotlJPqOmtC0aXEjB51AkWEAnyz1YsCSoIHQ5xRdeMHhur1INNeeGz02PU2kWYAvE+/gKR9/923Gce4oA6eiuU0zxXcalqGsvb28MljZ28M1swmIaUPF5gJBXjII+mPrUZ8er/ZpvV05yn9hjWlXzQCY8ZKdOGA/A+1AHX0Vyk3jV7e8jsZ9KeG9ktpbtYZLhMGJCoHzDPzMXwF9jkjgmTR/G9nrOsLp8EZgnYk/Z7ljFOE27g/lsBlTwMgnGecUAdPRRXNpqN7f+INe0y4jEdnbQRKjxTlXy6MSwIAIPTo3GMjrQB0lFef6P49TTPB+nPrcE5lGjW12sjSB2uC5WIAk9GZ2XknHzZJGDXW6PrB1SW9ie2aF7SVULht0coKBgyNgZHODwMEH2NAGnRRRQAUUUUAFFFFABRRRQAUUUUAFFFFABRRRQAUUUUAFFFFABWFe+Gt/iIa7pV41jftCIJ8x+ZFcxgkqHTIOVJOGBBGSORW7WLeeMNB0+9urS91GOG4tEWS4jZWzGh6OeOF4PzdB3NAFKDwNp50/XbXVXfUE16Xzb0OoRc7FTCAcqAFGOSQRnNWrfQL3yba21PV3vra1dXUGAJJKUOU8xgcNggHgLkgZ7irV54i0rT7hobu9jjdEWSTglYlY4VnYDCAkHBbAODVa48ZaBa31zaXGpRxz2m03CsrDyg3RmOMBf9rp70ARHwpHe+HNQ0XXro6la3zSM26JYym9i3y47hjkHqMCtjTrNdO0y1so2Z1toUiVm6sFAGT78UX+oW2l6fNfX8ohtoFLySEEhV9eKoWnivRL5He21KFlS3+1FmJQGHvICcZUf3hwKANiisb/hLdEGnXd818q29kqvcM0bgxKwyrFSM7SOQcYIpieMtAkh82LUY5F8wxARozMzBPMOFAyRsIbIGMHPSgDcrJ1rQItXuNPu1lNveadMZreYKGAypVlYHqpUkEcHoc8UybxdoUEtpG+oxF76D7RaiMF/Pj45TaDu6jpzS2HivQ9TmhjsNSgna4jMsJQnbIoALFW6HG4ZA5GeaAM3VfBT63btb6lq88tv5T7YhGq+XM33ZlI5BT+EduvJ5qjLo+vL430t0uriRLfSp7aXU3gjKu7PGVyuRzhCcgYzj1xWnqPj3QrHQr7U0vBPHZ2rXW1Eb96gyAycfMpIxuGR71LP440CytbafUNQS1FzG0kfmI43BRlscc4FAFG08Bx6bLp503UZYo7CzntkWSNXLmZgzyMeMsWAPYdfWnab4G/shbCTT9Umju7Sw/s5pzEp82EHK5XoGUkkEepyD0q1ZeKbVp9ZmvNSsPsNi8exo94aNWQEb93BJP3dvUY71radqtlqscr2E4l8mTy5VKlWjfAO1lIBU4IOCOhFAHPz+BUu012O61KeSPWY4kf5F3RGNQFYHueBnPU0+bw3d2d/a6zHezX11p8Nzttgir9oaUhmUEn5eVUDnAxzXU0UAc54W0RbG81bVDbS2janc+cLaRgfKAUA4A4G5tzH6888V0dFFABRRRQAEZrhR8M0SC0ig1u7t/shn8uWFFWVvO+8zv1ZunzccD3zXdVkaj4q0TSbyS11HUI7eaKA3DowOVjBwXPHQetAGMPACLei9S+RLkhFm2WiCO6VQ4xMnRyd+SeOgxioJ/Asmm2kU2h3G6Wxs7uKC0ZAiSNOd7DP8A3ABQMAAY963W8XaErsh1GPeqRvs2tuIk+5gYyS2eAOTUP/AAk1vc63pcGn39k9tdpOXRw/msycELxgFSGDBsEUAcvo/hbV4YZNIiuJV06/sHhu5Z9OggeBtoVVXy8bjgsOjKMdex2G8CztPDMuu3Ebw6elgrRwoDtVw4b65GCOhBIxWgfF2kXpNppepRteSoTARCzqeGw3QAqdrYOcHBANZ3hbx7Y6l4P0++1S8i+3yacLueOKNucAeZsHO7BIBAyRkA0AbehaBBof2wwCJWvJ/OkEEIijDbVXhR04UEnua1qyfDOvweJvDtnqtspRbmFJGQg/ISoOMkDOM9a1qACiiigAooooAKKKKACiiigAooooAKKKKACiiigAooooAKKKKAM/VtFtNYFu1yHSe1k822uIW2yQvgjKn3BIIOQR1BqkPCdoWv5Zbq8kutQgW3uLoyhZGjUttA2gKv3m6AdaPEHidfD91axTWUsy3SSlJFdQN0cbSFOT1KqcduKzv+Fg2mLAmzkRdQEQt3eRQpZ4zIVY5+XaqknjuMZzQBrXHhu0uNT02/eW4W501GjgdHC5VgAwYY5yAKWz8O29lr11q8VxctdXiok+9wVdU3bBjHGNx6fjmsJvHFrHNLqM0d+kEWnTTtAAhUmKXY2B1JzjBztIOag8Q+JLi80m6e1t7q2fTdStYmeC4H71jJHlBgjcpWTHPHXNAHd1m32iQX+qWuoSTTxz2sciRGNwAA4AY4xyeB+VYd74wujfWlrY2B8z+1jp9yHkXgiEy/Ke4II54xzXXDoKAOch8EadbwQRRT3ipb2b2MY80cRPjI6ew568VSXwU/8Abjhp3XSf7Ji00KlwRK6qzkhvl6YcDIIbj3rS1PxXbafPqMaW8tyNLthc3rxkARKQTjk8ttBbHoOvIrSs9Vtr6G3ltyxS5DGIlD8wB6+wPUZ65oAybjwVplwtym+4iiuRArRRSBVAhOYwBjgAirMXhmzgknNtLcwRzyPM0UcmEErghnAx1OScdMnOM81qwzpcKzREkKxQ5UjkHB6/zqSgDAtPB+m2Q04W7XCjT7cW0WZM7olYMqtxzgqCD1475NVLnwiJbNNH2R3GlPcC7le4kJlEvm+YcYAGCc9+57cVan8U+Rqt9p39nTNc2xg8tPMQfaFlYqGTJ6Da2c9MGqdr4nW0hvGlW5lZdVmtSbmRAsRC7wAwHCYwBnJyRmgDrMY6VS1XSrXWLL7LeoWVZElRlbayOjBlZT2IIBpNE1aDXtDs9VswwgvIVmjDjDAMM4PvWfrutXmna9olla2wlS/nkWVy4XAWJmxz9Ac+3vQAl34P0++kaS7lupZZIJLaaQy8zRSY3oeMAHaPuhTxWbH4GxrV2HmddIm0yKwKJcN5soWSVnD/AC8A+bjKkEYOMZqvo3iCTTde121vftVxbHXY7SGSSXf5RkgiYKATnbuJ+m7jvjV0TxpZa7dWyWcUnlXaytBLkHIjbHzAfd3dV9QOcHigC4nhfTItSa8ihKFo1QxK2I/lQxqcdiEYr6Y7Vn/8IFpfktF9ovfKOnHTNnnDAtv7g47DjPX1JrpZ5fIt5JdrP5altqDJbAzge9cVqHxB3eGtWutMtCbyxtYZwjSKQolJCkn+8pVsr6j05oA6Kfw/bT3FrdedcR3lrC0CXMbAOY2KllPGCCVU9MjHGKZZ+GLKyuIZI3uHW3meeGKWTesUjhgzAn5ujMMZxz0zzVKfX9Qj8cabpJtFS2uNPnuZj5gJVkkiUfkHP1z7VQ/4WZp76RJqVtZz3Ft9hnv4mjZcvFFjO7+4WU7lB6gHOCMUAdrWTN4etJtWm1APPHPPGEfY/wApIVlV8EfeCuw9OenArF1TxvLAJYLXTpBeRS6eXjlkUDyrqfywcjPzDDAj6c1Jf+J4tH8Q3Qvhd5WytmjtlZGjaSSZo1C9DvLkKSTtxg8c0ATr4E0fyYoZftE0MViLBY5JeBCpyoyBkMCAQwOQQDmtyysvsatuuJ7h2I3STMCTjoMAAD8BXP6n43j0qaW3udPla7hubWB4Y5FPFy/lxOCcZBfKnOCNp7YJ2dI1ZNVjutsTRSWly9tKjHOGXHQ9wQQfxoA0KKKKACiiigAooooAKKKKACiiigAooooAKKKKACiiigAooooAK4PxL4Z1zVL3xUbOCy8rV9Hj0+3eS5ZSrL5uWYbDgfvuxP3ffjvKTI70AcFd+E9bksfEltCtoR4jtUjkaSZj9kfyRC/8PzqFAYdOcjjrVPV/BOvXMHim1so7N49V0i3022lmumDfuxIC7gIevmZwCenvx6VRQBxuuaPHpvhfW9Uu76+WWXTpxJBNfvJBGzIeFU8DngcCsO20DWfFHh7Q9QtXsLZrLQpYLVt/nLNNLEqfOCuNg25IOcntxz6cfegADpQB5nJ4L8RRxa1FYR2axalpEdhtub6SVwyrKM7iuFGZs4AxhMYG7jZ1Hw9rF7H4f/dWyx6fDItxbxXLRt5mwKhSYLuC/eBA2kgjqBg9nRQB5xoPhLxJpMvhhbiHTp4tDtZ7bclwwLBkRVIBT1Qk+gbHOOYbTwPrx0nw/p15FZRR2Md5FdSwXTFgJ1ZQyDYMkbs846V6bRQB50vw/vJ/CMukXEVtDdDRJtLS8N1NNkuoXKq3CKdoJHPOAOmTpvpHiK41zw9fXMFkY9OmleVBcHMavD5YC/J8xyS3OOuK7KigDz/WPB+s6pq2sXSi0iWS8sb2yDTMfMa2bOyQbflDY6jdjrg12GlQzxm6lubS1tGnl37bc5LfKBudsDLcfkBV889DisLwne3V5a6iL25a5a31GeBHcKDsVsKPlAHSgDeooooAKKKKACiiigArlvF3hSXxDfaZNbTLCImeC8Bzma1kX54xjuSq/rXUkgdap3189m1uIrOe686ZYm8nH7oH+NskcD2oA4cfD/Uv7D0sXF2lxqGmags6gTPEs0KI0KKXX5lbyyDn+9nsc1Nc+HL6wutPvbfTbZbSzkvLm6ijuZJZW81CONwJkc9TyOTgetd6CCcZ59KWgDyTwS15p0+nQSWVneTXGmfYrOW31TzmgjRS4V0EK7EzwWy5B2jmtTRfBuvWaeF4LuKxWPStKnsLh47lmJMgQB1GwZHyZ5I6+1dNrHiu203wzqOtWUH22PT5HSZEYIco218E9cH+VdArBhkUAYXg3TtS0fwvZabq3kCSzgit08hyykJGqk5IHUgnHpit6kDBhlTke1LQAUUUUAFFFFABRRRQAUUUUAFFFFABRRRQAUUUUAFFFFABRRRQBQ1bRrPW4IIr9C6wXCXEe04IZTkc+h5BHcEiqEXg3SoLOKC2E0JgvXvoZlfLxSuWzgkEYwxXBBG3jtUur6+dL1bT7BbGW4fUPMETo6hVZF3ENnpwDzWUvxD09NPS+vbW5tbaTT5NQRn2klI2RWGAeDmRcetAEuueEGvbeeWzvLhr1rV7UedKNrI7hn525BOOD0HHGOKq2Pg64ktp9PvLq7h0vdDLBD5kRkSVHLE5VAAuQpxycjt0NqPxxbyX0enpZyNfzSKkUSSKyMCjOTvHGAFIPvjrkVlHxZPp2varqF3aagtnHpUF3LazMAbb55VYhSepCjgdcUAbkngqwladpLq8LzXn23f5i5SXy/LOPl6FOMc/nXQRosUSxoMKoCgewrAuvGFpaeIItLnhkRpZ0t0ckDczqWUhepXjGfWorHxkl5dQwPp1xAZryexVmdSPNiDEjg9CEODQBbvvCtjftqXmSXEceqRiO8jicASjbs64yDt44I6VRn0abS9SivYjcXdlBY/ZDBGSZmyw5AGBgDHTGMHA5qhZePLOy0rTo7lp3nulk8tr6WNHmZZWQoGGFZ8joMcYq8PG6/apITpV0Cmpf2bkOhzLt3Ajn7pHftQA/RtDvoNF0VJppoJred7m4jWcgAPvJjIHDAFwAOgwCOgrp6ztE1eLWtPa5iieIpPLA6PglXjco3I6jK9a0aAM640OyutftNYlRjd2kTxRkNxtfGcjuRjj0yfWs1fBVgl99sW7vRcC6lulfep2vIux8DbjBAHuOx5NdHXO33jGxsPEa6NNtW4JQhZJVRnVurIp++F746YoA0dC0S18PaTFp1g0rW8IwnmvuKjGAM+gAApusaDaa39nN20qNbszRtE2D8yFGHQ8FWIqlpni621GbTB5EsMWrwtNYSOR+9VQG5H8JKncAe2a6CgDm38E2LXE832y+DT38eoOA6Y81FVV/h6YVRj2+taGl6BbaOFjsprhbaMuYrYuPLi3HJwMZxknAJIGeMU/xBqMuj+G9R1KCHz5LS2kmWPdt3bVJ6/hXM3Wr6k2oeDbrZOst8ZUntY5gEk/0dnBbtwQD7UAdhfWUOo6dcWV0GMFzE0MgViCVYEHBHTg1gt4E0uSG4inmu5VubNLKQNIAPLTOzAUAAruOPrzmq938QbG00e11N7WcW01o92zMVXYqEBlHOGccnA6gGr1nrl3c+Nb/SjaYtLa2gkWbzBkl/M5x1/gA/CgCRvClg17Z3bSXBntRIofeP3geRZWDDGOXRTxj06cVC/gvT20O40ZLi8i06aGS3W2jkAWKN/vKvHTGQM5wDxiuhpkztHC7xp5jKpKoDjcfTNAHPv4JsJbq4uJru8klnito2Yuvy/Z38yJhheobJ9DnkUTeCNMuLh5Z5bqQtbR2+DIMDY/mI44yHD/ADZ9ap2Xj5b6xsbmHSLr/T7CS/gQumTHHt35OcA/OuPXParE3jiyW1vLuC3mmtLC0jvLyUYHlRuhcYHVmCDcR6EdScUAS3ngqwv973N1ePPJcwXD3G9Q7NAwaJfu4CqwzgAck56mtHSdGh0hrxoJ55TeXBuJPOYHDkAHGAMDgflWBN8Qra2/tSW4065W00ycW8lyHQqzskbRgDOfn81APQnnFbeia7HrLXaJC0T2kojfkMj5UMCrDgjnH1BoA1aKKKACiiigAooooAKKKKACiiigAooooAKKKKACiiigAooooAK891/TbzUL7xUb+zurqVrZYNEWONmWPMOS6t0V/NJySQQFXtXoVFAHFaTrdzap4fsNUN0t7qG+a4kkxHhgDuXY4zsDMijocsnXJrc0LVX1W91QvHLD9kuFtjC7qyqRGr5GB1IkGRk4I471dv8ATLfUI8yDy7hY3SG5RV82DcMEoSDg9PyFN0nSYNHtHhgaSRpZXmmmlILyyMcljgAe3A4AAoAtygtEwUZJUgfMV/UdPrXHf2DrX/Pmf/CmvP8A43XaUUAVdNhlg06CKddkirhl89psH/fYAt9SKkuopprdkt7g2znGJFUMR+B4qaorlp1tpDaIkk4U+WsjbVLdsnBwPwoAzjp2pqpLa9IABkk28f8AhXOW+peIrzTxqVrdRLp0hJguLieKPzI92FfHlkANwRz0IpsHiSXxd4ZstNCfZdT1CaSz1GGJ+bUQnFyQeuOiqf8Apohqv4vOqXWoPpC2N2dJWazRIbS13pNFv3SlmxwAFCAAjGcnjoAa3leMv+ekP/gQn/xmmTHxdbx+ZPPbRpkDc1ygGScAf6n1qi2s+KYbTVrxlP2qNZkt7JrY+WrebtiIYgbiV5wpbcW7cCo9J1K81W802a/uJbjT/wC254beS4iEbMI4GVSwAH/LVZMcddvegDVMPjIjBeAj/r4T/wCM1SstN1/TZ3t9Pi0+0llHmvHDLEhcZxuIEPPJ61Pa6lr8GqagdRaZrWxuppSDbhEktxCu0Bzwf3hJGCThTmpru/N+vhW/twHu55i4VflyhgcuDyeOnc8gUARlvFouFgNzaiZlLLGbqPcQOpx5PSpPK8Z/34f/AAIT/wCM1zC3fieXUG1Y2t3JqEenRxr5tmVjtnlnXzwg25bYirj7xOCeRVzXfEWvaTo8YF1cFvJmdbgWo8x5jIqQRspX5VJY5YqM7e1AGwT4uFwIDPbeaylwn2lNxUcE48npyKf5XjP+/D/4EJ/8ZqB21OKTxU1s7vq0MUJt9qAl0EIICg8cv5v41atdX1Kz01bm+Ms/2m5gghLwCMrkIjHYcHBfcQDyPpQBNor6/JqR/tCaCS3jJSURzo5VsZwQIwc8jvWtpOqx6vbSyxwT25ineB47hNrAqcZ+h6j61nWuB8QL8QZ2GwhM4HTfvfb+O3P4Y9q24LeK2jKQIEUsWIHck5J/M0Ac/wCO9BbXfC8y2sQe/tCLqzz3kQhgv0bG0/Wua1LRn/srSdUbR5l1S81mC/uUhgZ3gXdyDjOMJgH1Oa9JooA8ntbfWrXxXp+qppN6hOq3X2mFIHZxEwYKXmJw6lgjAAYUY9K9XIDKQwyDwRS0UAeRTaFPp/gHxZpFn4emS5up7wo1vbnMivOTEq4HI2nOQeMc1Lq2l6m91rtt4dsLy2s54NPcoLZ0WZUkYzqM4y5QqCMgt0r1iigDnfCenix/tBovNWG4nWRY2tfs8atsAOyM8gHAJ9TmuioooAKKKKACiiigAooooAKKKKACiiigAooooAKKKKACiiigAooooAytS0GHU9Tsb+S5uYpbHf5QiZQuXXaScg54NZafD/S/s9tbzz3lxBb2ctisUsilWikKlgcKDnKrg9toq1rGpSWXibSYF+0sLhLjbHG6CORlTdh8jPQcEEDnmqFr49F3BaSR6Rcg3mnvqEStIg/doVD554OXXHrntQBpy+GLedraWe8vJLm1kDwXLSLvjIUqQPlxghjnI5/AVUvfA9lqAvxcX2oH+0LUWlxiVfmQEn+7wcs35/SkPjQSfvLPS7i4g/s6PUhIroCYmBONpOdwx0pH8eacbK61C0je406yiimurpSAI0kUOCAeThWDH2Pc8UAOm8C6dPJIz3N6DJdJeOVlUEyqoQNnbnoOnTngCnQeCrO3lt5I7+/3W95LepmRD+8kBDZ+Xp8zce9Zmr+O7yDQtfu7DRZ2OkrOrTPKmzeiqw75IIcHp2IrR1fximg2MU+pWUin7NJcygSL8qpjcAf4mwcgexoAIfAunRWDWRur2W2eNo3jkdWDqzs5/h4OWPIwad/whNkJvMF7fA/2gNQwJE/1oXb/AHemOMVHqHjWPT76+hfTp5IrG1hvJJldcGKQsMgZzkFW49qn8P69e6rruuWlzZ+TBYXYgik8wHcPKjfp1535/SgAs/DB0yW0Gn3935Md7NdzLJKMSeYG3KQAMjc24Z6V0NY+sa82lalplkllJcvqUjxRMjhQrKhfnPbCnmqNt40gv4oTp1lNPK1l9tliLKpiTcVxnoWLKwA/2TzQB01Y954btL+9e4upJpFeaOcwMQUDx42kZGR0GcEZrmPE/jOPVPBerzeGzcP9n09Lo3cT+WYvMTfHjPJOMEj0P4VsP42s01Ga1jglnW3uVtJpIsMwkKg8J1IG5QT6n2NAFvTvCen6ZPYyQmaRdOiaGyilcFbdGwCF4z0AHJPHFblYXhzxTbeJGn+yKu2GONyVmV8Ft3yMByrDbyD60l/4ley8RrpKaZPcEwLcNMkiBVj3hGJyQflzn3GcUAbF7aQ6hYz2d0m+C4jaKRc4yrDBH5GsRfB1okumyJeXok05meFt65LGPy8t8vPycdqoJ8R9PaxivDazeTdRo9mVIYzF5FjRT/cYmRMA9ifQ4nuPGq2t6bCfTZo79VlkMLuFDRoFyysfvZLgD1IPpmgBi/DzSRZG1NzfNG1k9g5Mq5aFmLFc7eOSeRg+ua04PDFnBq0WorLcNPHGiNukBEmwOFZuOv71+mBz04FYbeMRZf2xqX2bULm2hjtbgwuUUQxSJ99RwQBglg3IwTWhdeM4bfVBYC0LTSPIsBM6BJVjC+Y2c8AM6rg87j7E0AdLTJk82F0DshZSNy4yvuM1X0y/j1fSLa+hSWKO6iWRUlXa6gjOCOxFcp4Z8RzLZ2+m3MNzNNPLfpbXEkoJk8mZhtJPI4wAT6fTIBetfAlhZwWcUF9fqljYy2EIMiHbFJt3fw8n5F5/2frTx4G0wWUlp5135Fxax2lynmDFzEgIUPx12kqSMEjjsKyrDx7b2/h3TH8q8vZJNPgunedkEhWR/LUnGAzbuoUcfiAXR+I7jSvEurte2901uBYGSMzBhatMxTC88/NjOPTNAGwvg3TfJ1eGVp5odWlWaeN2GEdVVVZMAFSBGmPTaDWtZWZs1fdcT3DNjLzMCeBjjAAH5Vhp41t57x4bOzkuEFxPao6OvzSxKxYEdVXMbLuPcehBq/4b1yTxDpUeoHTp7KGeOOWAzMpMqOisG4Jx1xg+lAGvRRRQAUUUUAFFFFABRRRQAUUUUAFFFFABRRRQAUUUUAFFFFABTTIgOCyg9OtOry3xfpJudZ8ZS2+k3cs9xocUVnJHbOQ9yPN5UgY3DdF83UevBoA9QMiqwDMAW6AnrSGVASC65HXmvM9WstQu4PEzT6feXN5qNnENElELboj5OAuf+WTCXLEnHUHPHE+maBby+N9Zudf0uafZZ2jrN9mfy5ZkSRZiuBhidyjHO7jrigD0XzY8E71wOvNK0iIoLMoB6EnrXkPhzRxaL4NW90W+AtrS5XUQ1o5BYhdgfj5gCpwOcYGO1OtLHUrrw5oFlfaXegW9leRPJNbySEOWASPy+gJUjDtwMEDFAHot5r7WniRdKNk8hk0+a9jkRxl/KdFKYPQnzFwc4rQtLv7RYW9xNE1q80SyNDKRujJGdpwcZHTivOtL+2yzaCdZ0vUH8nwzcWd20ts8m6U/ZyQ3HJJik+uB6jOZJpst34d8N6be6PqAC6NbJqc5tHaTEK4+zR4GVZ3zub+6OvINAHo+n+HNL0zxLqWs2q4vdTCGYFsgbQBlR23YXPrtHpVmTWrfy9RForXc+njEkERG5n2BwgyQMkEdcda82v7bVn1c6iujXVrcQ6pZTeTBE8jGBUjEjCToFwWXy1GeCSOeNFNLFpqHi5ZvD7btSYzK6W28GNraMEBgCGJlUgr170Ad4Rb6lpsP9o2yqkyo5t7gK21uCAeoyD6dxTms7H7ItoYYBBGRtiwAFIORgdjnkV5xpdhdRWyP4g0u8u7d/D9rbWcX2dnaGdFYTJjGUYnZ8xxnHXisifQNUEesjVtNurvU38KQWonjgdxJegS7iGAwXG6Mb/14NAHtGAQQRkH1rE8Q6lb6Bb296lkLm7llSzto1IQkuwwNx+6vGT9Kv6PI8uiWbyrIshgTeJVKsGxzkHnOa534gWSXsWiBtPkvfJ1WCVwluZdkan5ycA4GPzoA6ayu2uLCCa5i+yzSIC8DOGMbEcrkcEj2pk1lp9zeR3M1vby3MfCSMillwc4B9q8y1fSp7H+1YItGunJ8S2l/bfZ7VmCQDyN7qQOPuuCBz14waTUNNeO48SXVlo98txJrllPaPHZuD5a+T5rJxwDslzjr75FAHqZitvtgnIjFwsZXd/FtznH0zWNdXmnX9rbazaWb6o0M/lwiFx8p37C+CQpxyc9cDiud0TRw9/cL4g027n1P+1p7iO5CsEeB9wj3P0KCNgvlnuOnesSHSJrL4YvpC+H547u1uIiTFanc8guCSRgcgIM7hx82KAPVooreCaTylRJJm3vjq5xjJ9eBUolQnAdSfTNeZXmm6tJZ6rClpcNr9xq6z2F95R2xwb0KHzOiqqAgoT68HNVbfTms7m8uLfSL2Oc+J0uI3SzfItvlDFeOFOHyO+fegD1mq1/dGzsJ50QSvGhZYy+3eQM4z2qyDmuH8QWUzeLL+41Symv9Pl0oRWKxwmURzZfeMD7rEFMMfTGaAOo0TV49Z0Gx1NU8kXlslwI2YEoGUHB/Orvmp/fXpnrXmOkadLb2fhS8utJutkWhS2F0htWLiTbHhGXGcZVsE8e/NV9I0KHU7vwlDrGi3vlQ6NJbXXm20iBJN0e1WYem18Hp37igD0yx1Brt7kTWstqIZzChlZf3wGPnXBPBz3weOlW/MQruDDb65rynVdLM0OsQro96Y38R21zEEtHGYgIvMdSB0+WTJHX8aTVFmtBqNvBY3aQN4igltrT7M4S5jESl1CY+ZdyOSB6Zwe4B6usiPnYytjrg5xTq5H4eQWNto1zDbK6Xa3Lm7SS2aBo2Zi6ptbkqquAp54FddQAUUUUAFFFFABRRRQAUUUUAFFFFABRRRQAUUUUAFFFFABRRRQBl6loUOp6lZ3slzcRS2QfyhEwAy67SSCDng1mweBrK3S1WK+vgLWxksIv3i8ROQWH3eT8q8+1T+IfFA8P3drDLYyTrdJKUkWRVG6NGcpz3KqcfSs8fEG2IsSbGRRqCw/ZmeVQpeSMyFWP8O1FJP4etADI/B0qaotos1wmkx6Wmnh1nHmSKpPysNvTBxkYPFaU3gvSZEmhjSSC0uUjjubWJgI5lQBVDDGfugDgjIGDWUfHFulxJqM8V9HbxabNO0HylSYpdjYHUnOMHOCDmoNe8T3V5pF09ta3Fs+m6jbRM8NwD5jGSPKDHUFZP5+lAG+vhKx/s/WLGaS4nttYZ2uUdxwWXaduAMcAflVe78Dabeq/2ie6ZprWS0nbzBmaNzlgeOPquKqXvjG8+12dtY6aTKdVNhcq0yjBEJl4PfIxz25rsByBQBy83gKwnju0e9vyLu1jtJf3q8xoxYD7vByzfn9K0rHw7aafqs+oRSTNLcENIrMNrPsVN+MdSqKPT2rVJCqSTgAZJriG8RT6r4i8M3unxXEdjem58vM2FuEWJipKdskAgnt6dKAOl1PQ4dU1CwvJLieKXT5Gkh8pgBuZChJyDnhiPxrNtfBFhZW8cVrdXkTJA1sZVkG94mYtsJx2JJB6jJ5qK08bC8sba5i02YC5sZ7tFMi5HlMFZPryDnpVePxTPqF14duDY39lBqM5EA82PbOGtmlXeOTjgjsQy9xQBdu/AekXGn3NjbGextbq1S1nitXCh40XanUHBA4yOo65qynhW1jknZLm6QXRVrlVcATOFC7zgcEgDOMA46VR07xxFeG3Nxp09qlwLrYxYN81u2HGB+OD3x9Kl8PeLx4ivjDb6fJFGLWK6aVpVICyglBgd8A5Hb8aANHStAttKu5bqOSWa4lijhaWUgsUTO0cAZ+8eTzzTn0SF/EQ1gzzecLc25iyPLKZzgjHrz1rSrI8Qa6dCis5Pscl0Lq6S1AjYAqznCnntn8qAKo8F6b/ZX9mO9w1lGFFvCZOLfa4dChxnKsqkE5xipn8MQPdR3n2u6F9GGX7WHG9kYLlCMbcfIpwB1GepOaJ8c226G3W2b7bJLcxGB5VUL5DBXO7pjJUD/e7YOKkfjOCCS/1GZL4wPb2M0EEpUBftDGNMDqh3D5txOMZoA3IfDVlDdX8rPNMt/bpbzQysGUoqlQOmehPU85qNPCenwWemw2jTW8mmIY7e4RwZACAGDEg7t2ATkckA9a5zUvFF1qFxod1ZWtxCq649i8aTjE+1J1dTjgqGjBz6e+RU48STan4h0S602G4/em/tJrUzBU3wuEJPY4ZWwcZ5H4AHZwQCC1SFHchF2hmbLH3JPesC38FWtrJZyRX99vs2neJi6nmY5cn5eeTn2plp42g1LKaXZzXFxFA81xCXVDBskaMoT0Lb45AMcfKeemYrLxlHr999i0zT7me0mtYLkXscqoBDOrlXwSGBGwjHUZFAGZN4DuLKe3j0y4ujbWdlHb2TR3CJJGVZj85ZCCBlcEDscg1sSeC476K4k1LULprq9S3+1NCyqpeE7lKjbwN3NYfhnx0mn+BNKuPEKXBb+xmvjcMwdpxFsV+Ou4mRceue1bl341t9Nu3sdRtZIb/bbmG3DBvN8+QxoA3QHeCD6deaALsXhm3t2uPst1dQx3DvK0SONokcHc446kktjpk5xV3SNNi0bR7XTbZ5JIbWJYozKQW2gYAJA7DArIbxjAl4+nNayf2ot4tmtqHB3M0Xmhg3Tb5YYk9flIxnGV8F3FxPZamLozbotTuI1WaTeUUMMLn09KAOjooooAKKKKACiiigAooooAKKKKACiiigAooooAKKKKACiiigAoory7xdq09lrHjJrfXriBtP0WK7tbdbgAJcfveg/wCAx/L0O4ZHIoA9RqpZalaai1yLOXzDaztbzfKRtkABI569RyOK87vNa1m+17VjFqcNmLZLWTTSZ2CSoyBmYRqp83c+5CO2BjHUw3fiWW0j1QPrL/Y4PEwgmb7SFdbc26sUVyRtHmZ7joQDQB6PeataWGoWFncs6y6hI0VviNirOqFyCwGAdqseeuDSXesWdlq1jp1y7rcX5dbf92xViqliN2MA4BOD6V5rHL5+meDWvPEIuLm61x2knjvBJtX7PcAIrdAdrIpI/ibI5IpI9STVLrw2LvVHeK18Q6hbm5E/zLGqTrGGftkbRnqRjnmgD1qivMLbXdVm1Cys7u8mXQH1m5t11LftaaFIt0amQdB5m9d3G7YBnnmkNVvr7VtIspddu7W1n1m9sobhJ9rXNqsLlH564kG0P32jrnkA9NstZs7/AFK+sLdn+02DIs6PGy7dwypBI5BA6ir9eP69qB0jVPG97aa1Il5p9tYeURMoMkiqQS4H3j2I6cnitTWdfv1tfE95FfyR6pY3CLo9nHL8k8ZRDGQg4kEjM4J56dsUAemVQ1bWLPRLRLnUGdIWlSLckbPhmYKucDgZIGenNcDqevarHZ6/dm6mi1yz1MQ6dpyyYWWPKbB5f8YcFst255G2qPibU3udE1qbXdQktbq11yGGG0MuxFgWaModn8QK5bd+oxQB62KKw/GGp/2b4K1O/hnliKWzGOa3QOykjAYA8dSDk8d688m8W6jp9nr9nJqaobeeykjYXHm7IXZBOFlYD1OCeASeeOAD1+ivJv7bmtfC39q/8JC09vNq6xTbL8O0VruYqm/O1JMbcnPPAznmolvJxpfh6d/FsrS6hrLwzvBqAdVgIlKoecBgvlgkd+e+SAevUV5jNca7Dr2p2L6wYH01rVLGS6nYNPHtUs5jVcSl23qfQjtUGi6zPqvjJLa88QFGt7q7+0263oUy7Jf3KJGDnhQQwI5980Aeq1SudWsbS3huJrhRFNMsMbqCwZ2baBx78V5noPie7udd0uO41K4e01i2uQd0x83f5iiIlBxC2GYYB6DJ6VFouqR6Z8MNGWHUruG6gvLETtJcHHz3Gx4zk/3QxK9uDQB69RXmB17U/sS3gvJv7dOti1OneZ8og87aR5fp5Xz7/wAc1V0zxBNbyWE7eIJZy/iSaxKS3IZfs+XwpHf+Ehjz0oA9ZoqrYalZ6kkzWM6zCCZoJCAfldTgrz6VaoAKqahplpqkKx3sXmBG3owYqyNjG5WBBBwSMg9zVuigCpYaZaaZG6WcWzzG3yOzF2dsYyzEkk4AHJ7VboooAKKKKACiiigAooooAKKKKACiiigAooooAKKKKACiiigAooooAoato9nrUEMV/GXWCdLhMHBDocj8OxHcEiqMXg/SoLOKC3SSIwXr30Mqv88UrlskE9sMVweNvFL4k8Tx+HI43mtzKrRySljIEGEAJUZ6uQeB3weRVG98dQxTLHY2Ul1uW1wWkEeTcEiLAwSRxye3vzgAdrfhD7bazyWV1Mb17V7YNNL8rI7hn5wSCccHtxgYGKrWXg+d7e4sL66uk0wtFLDC04kkWVG3E7tvC5C8c9O3Sp4vGputaXTrLTHkkaWaLLzBcGEgSZGDgZYYPf24zXtviCs2n2VzNpctr/aDiOz86dAsjAOXyRkqFCdcc7lx3wAaUng3T5Wnd5royTXn20v5gysvl+WSOOhTjH49a3o0WKNUQYVQAB7CuQm+IlukAaHTp2dYkkljkYIV3ymJQvXf8wPTtg85Aq3/AMJlHFrsGl3lm0Es0y2+PNVmEhj3j5e6cEbvUdO9AHTHBGDWBB4PsLW602W3muo00t5GtYBINkYcEMuMcjk4z06DFYjeJtQufCl7f39vLaLBqXkBrS4XfsW42Y5XpwAfUE1rHxjAD54tmNgb7+z1ud45n3bPu/3d/wAuc5z2xzQAsfgqwhMXkXN3GkMM0EcayDascpy69PUDnrVhfCtmtvo0InutujMGtfnGQQhjG7jnCMR+PrVbQfF41qW0V9PktVuxOIy0gb5oX2OCB2z0Pf2rpKAOXfwVDb2kf9m3dwt1arctatMwZA82SxYY5G45xUXhfw5qOh30YSeZbD7OVmgnuPPLy5XaynaCAAGz65HAxXW0UAFZ2r6NBrKWy3MkqC2uEuU8tgPnQ5XPHTPatGigDBg8I2VtOtxBPdLcrcTTpNvBZTKcyL0wVJAOCDyAR0FUtc8HC8trg2U85luFtopVefbmKGTeArYJDZLHJznPPqOrooA5HTfCU58ldSu7kW9hdrc6fEZld4mCFTubaMg7mwOcZ69ALtp4NsLEwvbT3aSwT3E8cnmAlXnbdJxjBBJJwQcZ47Y6GigDAj8G6ZbIgsTcWjiB7eSWGUh5kdi7byc5YsWbd1BZsEZNS6f4WsNKvJZ9NaW2ElpFZiJCNkccYYIFGOMbm/OtqigDl0+H+jCwtrGY3M9pbWEunpDJJlTDJt3KcDOfkXnORtFWZvB2mXUks1751zdSLCouZH/eRiFy8e0gADDEtnHJPOa36KAMP/hE9PMr3BMxvWu1vDeb/wB4JVTywRxgDZ8u3GME8cmrWjaLDoqXS2808ourh7l/Pfdh2+9jjgZ7dq0qKACiiigAooooAKKKKACiiigAooooAKKKKACiiigAooooAKKKKACmmNCclFJPtTqKAGGJCVJRSV+7x0+lZ+paJBqM9rcCR7e4s5DJDLEBwSpU5BBBBBPatOigDM0rQrbSmu5EZpp72f7RPLIBln2qnAAAHyoo4HatDyoypUou09RjrT6KAGmNGj8tkUpjG0jjH0o8tOPlX5enHSnUUANMSHOUU568UhiQsrbF3KMKccin0UANMaGQOUUsBgMRyKR4YpGzJGjHGMlQeKfRQAm0FcYGOmKztU0O11W1hhfdCYJUmieLAKOpyOCCCPYitKigDm38FWcmof2jJdXB1ESrKtyAg2lUZANu3bjDt1GeevStDS9BttMmu7gM09zeyCSeWQL8xChRgAADgCtSigBrRI5BZVJHQkciufg8GWcEFna/abh7KxnWe3t22YRlOV+bbuIB9/rmuiooAYsManKooJOSQO/rR5Sc/IvJyeOp9afRQA3y08zfsXdjG7HOKTyk/uL+VPooAAMdKKKKACiiigAooooAKKKKACiiigAooooAKKKKACiiigAooooAKKKKACiiigAooooAyNV8N2Wr3i3Nw8yS/ZpLRjE+N8UhBdTxxnaORg+9ctN4Fv7O8kk0e6uEeGJI7Cb7WAIgBz5ilDu5LHjqCBgYzXoFFAHD2PhXWbTXGvUvHilmvHkuZUnBikhJJCiIoSGxjvwRnJ6VtW3hCwtdKsbGKW4/4l8pltZy4MkLHOcHGCMMRgg9a3qKAOJ1nwjqFzrDXdrc3DNHbqtrKl35bJICxLPlGBGWzwOOmKvr4Hs5UD3tzcNO9yt7MYZNitcbAjOOMgEAjGcDPGK6eigDnZ/BWmz2t3bebdRxXU3nMqSAbW8zzDtyOAX5/wDrVL/wiOneZ96byRc/bBb7x5Yn6+ZjHXPzY6bucZrdooA5+w8HWWmvaNb3d6RaGYxhpR/y2bc+flz159q2bO1FlZw2yyzTCJAgknkLu2O7MeSfep6KACiiigAooooAKKKKACiiigAooooAKKKKACiiigAooooAKKKKACiiigAooooAKKKKACiiigAooooAKKKKACiiigAooooAKKKKACiiigAooooAKKKKACiiigAooooAKKKKACiiigAooooAKKKKACiiigAooooAKKKKACiiigAooooAKKKKACiiigAooooAKKKKACiiigAooooAKKKKACiiigAooooAKKKKACiiigAooooAKKKKACiiigAooooAKKKKACiiigAooooAKKKKACiiigAooooAKKKKACiiigAooooAKKKKACiiigAooooAKKKKACiiigAooooAKKKKACiiigAooooAKKKKACiiigAooooAKKKKACiiigAooooAKKKKACiiigAooooAKKKKACiiigAooooAKKKKACiiigAooooAKKKKACiiigAooooAKKKKACiiigAooooAKKKKACiiigAooooAKKKKACiiigAooooAKKKKACiiigAooooAKKKKACiiigAooooAKKKKACiiigAooooA/9k=)\n",
        "\n"
      ],
      "metadata": {
        "id": "Shv6orpXvwNr"
      }
    },
    {
      "cell_type": "code",
      "source": [
        "from torch_geometric.nn import GATConv\n",
        "\n",
        "class GAT(torch.nn.Module):\n",
        "    def __init__(self, hidden_channels):\n",
        "        super().__init__()\n",
        "        torch.manual_seed(1234567)\n",
        "        self.conv1 = GATConv(dataset.num_features, hidden_channels, heads=8, dropout=0.6)\n",
        "        self.conv2 = GATConv(hidden_channels * 8, dataset.num_classes, heads=1, dropout=0.6)\n",
        "\n",
        "    def forward(self, x, edge_index):\n",
        "        x = self.conv1(x, edge_index)\n",
        "        x = x.relu()\n",
        "        x = self.conv2(x, edge_index)\n",
        "        return x\n",
        "\n",
        "model = GAT(hidden_channels=8)\n",
        "print(model)"
      ],
      "metadata": {
        "colab": {
          "base_uri": "https://localhost:8080/"
        },
        "id": "GiC94feQDrZe",
        "outputId": "18aca09b-0baf-435b-de09-ea649f2c190b"
      },
      "execution_count": null,
      "outputs": [
        {
          "output_type": "stream",
          "name": "stdout",
          "text": [
            "GAT(\n",
            "  (conv1): GATConv(1433, 8, heads=8)\n",
            "  (conv2): GATConv(64, 7, heads=1)\n",
            ")\n"
          ]
        }
      ]
    },
    {
      "cell_type": "code",
      "source": [
        "model = GAT(hidden_channels=8)\n",
        "optimizer = torch.optim.Adam(model.parameters(), lr=0.01, weight_decay=5e-4)\n",
        "criterion = torch.nn.CrossEntropyLoss()\n",
        "for epoch in range(1, 100):\n",
        "    loss, val_loss = train()\n",
        "    print(f'Epoch: {epoch:03d}, Loss: {loss:.4f}, Validation loss: {val_loss:.4f}')"
      ],
      "metadata": {
        "colab": {
          "base_uri": "https://localhost:8080/"
        },
        "id": "TOqA1Y9kEVuP",
        "outputId": "d67c130c-0d09-44b6-974a-dc3f46f591bd"
      },
      "execution_count": null,
      "outputs": [
        {
          "output_type": "stream",
          "name": "stdout",
          "text": [
            "Epoch: 001, Loss: 1.9453, Validation loss: 1.9455\n",
            "Epoch: 002, Loss: 1.9344, Validation loss: 1.9424\n",
            "Epoch: 003, Loss: 1.9202, Validation loss: 1.9341\n",
            "Epoch: 004, Loss: 1.8993, Validation loss: 1.9233\n",
            "Epoch: 005, Loss: 1.8816, Validation loss: 1.9146\n",
            "Epoch: 006, Loss: 1.8625, Validation loss: 1.8991\n",
            "Epoch: 007, Loss: 1.8378, Validation loss: 1.8849\n",
            "Epoch: 008, Loss: 1.8301, Validation loss: 1.8678\n",
            "Epoch: 009, Loss: 1.7998, Validation loss: 1.8549\n",
            "Epoch: 010, Loss: 1.7478, Validation loss: 1.8302\n",
            "Epoch: 011, Loss: 1.7523, Validation loss: 1.8226\n",
            "Epoch: 012, Loss: 1.7314, Validation loss: 1.8054\n",
            "Epoch: 013, Loss: 1.6932, Validation loss: 1.7908\n",
            "Epoch: 014, Loss: 1.6408, Validation loss: 1.7756\n",
            "Epoch: 015, Loss: 1.6218, Validation loss: 1.7625\n",
            "Epoch: 016, Loss: 1.5755, Validation loss: 1.7260\n",
            "Epoch: 017, Loss: 1.5395, Validation loss: 1.7156\n",
            "Epoch: 018, Loss: 1.5233, Validation loss: 1.6952\n",
            "Epoch: 019, Loss: 1.4910, Validation loss: 1.6802\n",
            "Epoch: 020, Loss: 1.4786, Validation loss: 1.6511\n",
            "Epoch: 021, Loss: 1.3594, Validation loss: 1.6285\n",
            "Epoch: 022, Loss: 1.3838, Validation loss: 1.5800\n",
            "Epoch: 023, Loss: 1.3652, Validation loss: 1.5535\n",
            "Epoch: 024, Loss: 1.3208, Validation loss: 1.5301\n",
            "Epoch: 025, Loss: 1.2789, Validation loss: 1.5357\n",
            "Epoch: 026, Loss: 1.2717, Validation loss: 1.5126\n",
            "Epoch: 027, Loss: 1.2515, Validation loss: 1.4945\n",
            "Epoch: 028, Loss: 1.1939, Validation loss: 1.4601\n",
            "Epoch: 029, Loss: 1.1547, Validation loss: 1.4394\n",
            "Epoch: 030, Loss: 1.0519, Validation loss: 1.4368\n",
            "Epoch: 031, Loss: 1.0885, Validation loss: 1.4050\n",
            "Epoch: 032, Loss: 1.1076, Validation loss: 1.3871\n",
            "Epoch: 033, Loss: 1.0212, Validation loss: 1.3304\n",
            "Epoch: 034, Loss: 1.0006, Validation loss: 1.3106\n",
            "Epoch: 035, Loss: 1.0014, Validation loss: 1.2704\n",
            "Epoch: 036, Loss: 1.0385, Validation loss: 1.3216\n",
            "Epoch: 037, Loss: 0.8969, Validation loss: 1.2966\n",
            "Epoch: 038, Loss: 0.9106, Validation loss: 1.2922\n",
            "Epoch: 039, Loss: 0.9730, Validation loss: 1.2612\n",
            "Epoch: 040, Loss: 0.9339, Validation loss: 1.2633\n",
            "Epoch: 041, Loss: 0.8406, Validation loss: 1.2566\n",
            "Epoch: 042, Loss: 0.8396, Validation loss: 1.2072\n",
            "Epoch: 043, Loss: 0.8419, Validation loss: 1.2112\n",
            "Epoch: 044, Loss: 0.8411, Validation loss: 1.1811\n",
            "Epoch: 045, Loss: 0.8087, Validation loss: 1.1529\n",
            "Epoch: 046, Loss: 0.8443, Validation loss: 1.1943\n",
            "Epoch: 047, Loss: 0.7107, Validation loss: 1.1427\n",
            "Epoch: 048, Loss: 0.8436, Validation loss: 1.1532\n",
            "Epoch: 049, Loss: 0.8216, Validation loss: 1.2103\n",
            "Epoch: 050, Loss: 0.7554, Validation loss: 1.2091\n",
            "Epoch: 051, Loss: 0.7305, Validation loss: 1.2062\n",
            "Epoch: 052, Loss: 0.8149, Validation loss: 1.1984\n",
            "Epoch: 053, Loss: 0.7724, Validation loss: 1.1307\n",
            "Epoch: 054, Loss: 0.7207, Validation loss: 1.1377\n",
            "Epoch: 055, Loss: 0.7060, Validation loss: 1.1192\n",
            "Epoch: 056, Loss: 0.7637, Validation loss: 1.0953\n",
            "Epoch: 057, Loss: 0.7458, Validation loss: 1.0748\n",
            "Epoch: 058, Loss: 0.6899, Validation loss: 1.1534\n",
            "Epoch: 059, Loss: 0.7503, Validation loss: 1.0767\n",
            "Epoch: 060, Loss: 0.6606, Validation loss: 1.1269\n",
            "Epoch: 061, Loss: 0.7042, Validation loss: 1.1155\n",
            "Epoch: 062, Loss: 0.7028, Validation loss: 1.1359\n",
            "Epoch: 063, Loss: 0.6925, Validation loss: 1.1131\n",
            "Epoch: 064, Loss: 0.6884, Validation loss: 1.1531\n",
            "Epoch: 065, Loss: 0.5800, Validation loss: 1.1255\n",
            "Epoch: 066, Loss: 0.6379, Validation loss: 1.0809\n",
            "Epoch: 067, Loss: 0.6810, Validation loss: 1.0737\n",
            "Epoch: 068, Loss: 0.5431, Validation loss: 1.0895\n",
            "Epoch: 069, Loss: 0.6958, Validation loss: 1.1017\n",
            "Epoch: 070, Loss: 0.6794, Validation loss: 1.0771\n",
            "Epoch: 071, Loss: 0.6510, Validation loss: 1.0587\n",
            "Epoch: 072, Loss: 0.6992, Validation loss: 1.1401\n",
            "Epoch: 073, Loss: 0.6056, Validation loss: 1.0794\n",
            "Epoch: 074, Loss: 0.6517, Validation loss: 1.1099\n",
            "Epoch: 075, Loss: 0.6840, Validation loss: 1.0867\n",
            "Epoch: 076, Loss: 0.6655, Validation loss: 1.0519\n",
            "Epoch: 077, Loss: 0.5893, Validation loss: 1.0636\n",
            "Epoch: 078, Loss: 0.6309, Validation loss: 1.0963\n",
            "Epoch: 079, Loss: 0.5576, Validation loss: 1.1243\n",
            "Epoch: 080, Loss: 0.7142, Validation loss: 1.0679\n",
            "Epoch: 081, Loss: 0.5456, Validation loss: 1.0536\n",
            "Epoch: 082, Loss: 0.6340, Validation loss: 1.0363\n",
            "Epoch: 083, Loss: 0.6325, Validation loss: 1.0371\n",
            "Epoch: 084, Loss: 0.5440, Validation loss: 1.0507\n",
            "Epoch: 085, Loss: 0.6271, Validation loss: 1.0755\n",
            "Epoch: 086, Loss: 0.6674, Validation loss: 1.0487\n",
            "Epoch: 087, Loss: 0.6279, Validation loss: 1.0581\n",
            "Epoch: 088, Loss: 0.5691, Validation loss: 1.1124\n",
            "Epoch: 089, Loss: 0.6011, Validation loss: 1.0940\n",
            "Epoch: 090, Loss: 0.6360, Validation loss: 1.0951\n",
            "Epoch: 091, Loss: 0.6323, Validation loss: 1.0487\n",
            "Epoch: 092, Loss: 0.5901, Validation loss: 1.0745\n",
            "Epoch: 093, Loss: 0.5811, Validation loss: 1.0331\n",
            "Epoch: 094, Loss: 0.5316, Validation loss: 1.1208\n",
            "Epoch: 095, Loss: 0.5158, Validation loss: 1.0314\n",
            "Epoch: 096, Loss: 0.5740, Validation loss: 1.0436\n",
            "Epoch: 097, Loss: 0.5782, Validation loss: 0.9764\n",
            "Epoch: 098, Loss: 0.5665, Validation loss: 1.0573\n",
            "Epoch: 099, Loss: 0.5572, Validation loss: 1.0385\n"
          ]
        }
      ]
    },
    {
      "cell_type": "code",
      "source": [
        "test_acc = test()\n",
        "print(f'Test Accuracy: {test_acc:.4f}')"
      ],
      "metadata": {
        "colab": {
          "base_uri": "https://localhost:8080/"
        },
        "id": "3nOJnIdTHHcg",
        "outputId": "4b4e3dce-1825-427e-a659-5164db9a4a59"
      },
      "execution_count": null,
      "outputs": [
        {
          "output_type": "stream",
          "name": "stdout",
          "text": [
            "Test Accuracy: 0.8240\n"
          ]
        }
      ]
    },
    {
      "cell_type": "code",
      "source": [],
      "metadata": {
        "id": "-Vu9gvsCUueF"
      },
      "execution_count": null,
      "outputs": []
    },
    {
      "cell_type": "markdown",
      "metadata": {
        "id": "paMH3_7ejSg4"
      },
      "source": [
        "## Conclusion\n",
        "\n",
        "In this chapter, you have seen how to apply GNNs to real-world problems, and, in particular, how they can effectively be used for boosting a model's performance."
      ]
    }
  ]
}