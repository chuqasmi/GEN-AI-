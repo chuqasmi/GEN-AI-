{
  "nbformat": 4,
  "nbformat_minor": 0,
  "metadata": {
    "colab": {
      "provenance": [],
      "collapsed_sections": [
        "i4WcGtt1SP88",
        "V_k5VYXQSUwp",
        "T8oB-KlJSaat",
        "jNsToorfSgS0",
        "i-FXQsBGSk0K"
      ],
      "include_colab_link": true
    },
    "kernelspec": {
      "name": "python3",
      "display_name": "Python 3"
    },
    "accelerator": "GPU"
  },
  "cells": [
    {
      "cell_type": "markdown",
      "metadata": {
        "id": "view-in-github",
        "colab_type": "text"
      },
      "source": [
        "<a href=\"https://colab.research.google.com/github/chuqasmi/GEN-AI-/blob/main/Copy_of_knowledge_graphs_GNN.ipynb\" target=\"_parent\"><img src=\"https://colab.research.google.com/assets/colab-badge.svg\" alt=\"Open In Colab\"/></a>"
      ]
    },
    {
      "cell_type": "markdown",
      "metadata": {
        "id": "-3dnSaQnR6Ci"
      },
      "source": [
        "# Node Classification on large Knowledge Graphs\n",
        "\n",
        "Based on [this exercise](https://colab.research.google.com/drive/14OvFnAXggxB8vM4e8vSURUp1TaKnovzX?usp=sharing#scrollTo=paMH3_7ejSg4)."
      ]
    },
    {
      "cell_type": "markdown",
      "metadata": {
        "id": "z_niiEyFUhdO"
      },
      "source": [
        "![image.png](data:image/png;base64,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)"
      ]
    },
    {
      "cell_type": "markdown",
      "metadata": {
        "id": "i4WcGtt1SP88"
      },
      "source": [
        "## Installing PyTorch Geometric"
      ]
    },
    {
      "cell_type": "code",
      "metadata": {
        "id": "d3r2f7FITB71",
        "outputId": "abe4f68b-33e9-45c9-f013-73c5545ef2d0",
        "colab": {
          "base_uri": "https://localhost:8080/"
        }
      },
      "source": [
        "# Check CUDA Version\n",
        "!python -c \"import torch; print(torch.version.cuda)\"\n",
        "\n",
        "# Install Pytorch Geometric\n",
        "!pip install -q torch-scatter==latest+cu101 -f https://pytorch-geometric.com/whl/torch-1.6.0.html\n",
        "!pip install -q torch-sparse==latest+cu101 -f https://pytorch-geometric.com/whl/torch-1.6.0.html\n",
        "!pip install -q git+https://github.com/rusty1s/pytorch_geometric.git"
      ],
      "execution_count": null,
      "outputs": [
        {
          "output_type": "stream",
          "name": "stdout",
          "text": [
            "12.1\n",
            "\u001b[31mERROR: Could not find a version that satisfies the requirement torch-scatter==latest+cu101 (from versions: 0.3.0, 1.0.2, 1.0.3, 1.0.4, 1.1.0, 1.1.1, 1.1.2, 1.2.0, 1.3.0, 1.3.1, 1.3.2, 1.4.0, 2.0.2, 2.0.3, 2.0.4, 2.0.5, 2.0.6, 2.0.7, 2.0.8, 2.0.9, 2.1.0, 2.1.1, 2.1.2)\u001b[0m\u001b[31m\n",
            "\u001b[0m\u001b[31mERROR: No matching distribution found for torch-scatter==latest+cu101\u001b[0m\u001b[31m\n",
            "\u001b[0m"
          ]
        }
      ]
    },
    {
      "cell_type": "markdown",
      "metadata": {
        "id": "V_k5VYXQSUwp"
      },
      "source": [
        "## Knowledge Graphs and Node Classification"
      ]
    },
    {
      "cell_type": "markdown",
      "metadata": {
        "id": "jEdJScZr_a5H"
      },
      "source": [
        "There are two special properties we are dealing with in this example:\n",
        "1. We have one large graph and not many individual graphs (like molecules)\n",
        "2. We infere on unlabeled nodes in this large graph and hence perform node-level predictions --> We have to use different nodes of the graph depending on what we want to do"
      ]
    },
    {
      "cell_type": "markdown",
      "metadata": {
        "id": "T8oB-KlJSaat"
      },
      "source": [
        "## Dataset Introduction"
      ]
    },
    {
      "cell_type": "markdown",
      "metadata": {
        "id": "GnREblkZTe02"
      },
      "source": [
        "There exists different datasets in PyTorch Geometric that can be used to perform Node Classification on large Knowledge Graphs e.g. Karate Network or Cora. We will use Cora to showcase the use of binary masks for node-level predictions."
      ]
    },
    {
      "cell_type": "markdown",
      "metadata": {
        "id": "ITnwYh-a3Hyj"
      },
      "source": [
        "#### What is the Cora Dataset?\n",
        "The Cora dataset consists of 2708 scientific publications classified into one of seven classes. Each publication in the dataset is described by a 0/1-valued word vector indicating the absence/presence of the corresponding word from the dictionary. The dictionary consists of 1433 unique words.\n",
        "\n",
        "- Nodes = Publications (Papers, Books ...)\n",
        "- Edges = Citations\n",
        "- Node Features = word vectors\n",
        "- 7 Labels = Pubilcation type e.g. Neural_Networks, Rule_Learning, Reinforcement_Learning, \tProbabilistic_Methods...\n",
        "\n",
        "We normalize the features using torch geometric's transform functions."
      ]
    },
    {
      "cell_type": "code",
      "metadata": {
        "id": "s96RfvA1z5xQ"
      },
      "source": [
        "from torch_geometric.datasets import Planetoid\n",
        "from torch_geometric.transforms import NormalizeFeatures\n",
        "\n",
        "dataset = Planetoid(root='data/Planetoid', name='Cora', transform=NormalizeFeatures())"
      ],
      "execution_count": null,
      "outputs": []
    },
    {
      "cell_type": "markdown",
      "metadata": {
        "id": "AvzKbxnI0vsN"
      },
      "source": [
        "PyTorch Geometric provides different functions to investigate the dataset (e.g. node degrees, self-loops ect.) - You can find more of them in the documentation or in [this notebook](https://colab.research.google.com/drive/14OvFnAXggxB8vM4e8vSURUp1TaKnovzX?usp=sharing#scrollTo=eqWR0j_kIx67)."
      ]
    },
    {
      "cell_type": "code",
      "metadata": {
        "id": "hxlhrODKz_W5"
      },
      "source": [
        "# Get some basic info about the dataset\n",
        "print(f'Number of graphs: {len(dataset)}')\n",
        "print(f'Number of features: {dataset.num_features}')\n",
        "print(f'Number of classes: {dataset.num_classes}')\n",
        "print(50*'=')\n",
        "\n",
        "# There is only one graph in the dataset, use it as new data object\n",
        "data = dataset[0]\n",
        "\n",
        "# Gather some statistics about the graph.\n",
        "print(data)\n",
        "print(f'Number of nodes: {data.num_nodes}')\n",
        "print(f'Number of edges: {data.num_edges}')\n",
        "print(f'Number of training nodes: {data.train_mask.sum()}')\n",
        "print(f'Training node label rate: {int(data.train_mask.sum()) / data.num_nodes:.2f}')\n",
        "print(f'Is undirected: {data.is_undirected()}')"
      ],
      "execution_count": null,
      "outputs": []
    },
    {
      "cell_type": "markdown",
      "metadata": {
        "id": "DHJgiYySxqwL"
      },
      "source": [
        "Observations:\n",
        "- We only have a relatively small set of training nodes (20 nodes per class)\n",
        "- There are binary test, train and validation masks of the size #nodes (they tell use which node can be used for which task)"
      ]
    },
    {
      "cell_type": "code",
      "metadata": {
        "id": "Mhuqocpv2bwd"
      },
      "source": [
        "print(data.x.shape) # [No. Nodes x Features]\n",
        "\n",
        "# Print some of the normalized word counts of the first datapoint\n",
        "data.x[0][:50]"
      ],
      "execution_count": null,
      "outputs": []
    },
    {
      "cell_type": "markdown",
      "metadata": {
        "id": "pmmVhxn_Any8"
      },
      "source": [
        "Why do we even use the graph structure - aren't the features enough?\n",
        "\n",
        "- Apparently, simple MLP models perform a lot worse than GNNs on this type of task, as the citation information is crucial for a correct classification"
      ]
    },
    {
      "cell_type": "markdown",
      "metadata": {
        "id": "b2MMb7HFycnG"
      },
      "source": [
        "How do the labels look like?\n",
        "- They are encoded as numeric value between 0-6"
      ]
    },
    {
      "cell_type": "code",
      "metadata": {
        "id": "0EsnHlkX7cZs"
      },
      "source": [
        "data.y"
      ],
      "execution_count": null,
      "outputs": []
    },
    {
      "cell_type": "markdown",
      "metadata": {
        "id": "iPHFpD-ahP88"
      },
      "source": [
        "Example for the binary masks"
      ]
    },
    {
      "cell_type": "code",
      "metadata": {
        "id": "Xt7M5rt_hPfZ"
      },
      "source": [
        "print(len(data.test_mask) == data.num_nodes)\n",
        "data.test_mask"
      ],
      "execution_count": null,
      "outputs": []
    },
    {
      "cell_type": "markdown",
      "metadata": {
        "id": "r6ydlu3-jjqV"
      },
      "source": [
        "Example for the edge connections"
      ]
    },
    {
      "cell_type": "code",
      "metadata": {
        "id": "SAqU7XerjnKx"
      },
      "source": [
        "data.edge_index.t()"
      ],
      "execution_count": null,
      "outputs": []
    },
    {
      "cell_type": "markdown",
      "metadata": {
        "id": "jNsToorfSgS0"
      },
      "source": [
        "## Graph Neural Network for Node Classification"
      ]
    },
    {
      "cell_type": "code",
      "metadata": {
        "id": "lcffG3rQy79R"
      },
      "source": [
        "import torch\n",
        "from torch.nn import Linear\n",
        "import torch.nn.functional as F\n",
        "from torch_geometric.nn import GCNConv #GATConv\n",
        "\n",
        "class GCN(torch.nn.Module):\n",
        "    def __init__(self, hidden_channels):\n",
        "        super(GCN, self).__init__()\n",
        "        torch.manual_seed(42)\n",
        "\n",
        "        # Initialize the layers\n",
        "        self.conv1 = GCNConv(dataset.num_features, hidden_channels)\n",
        "        self.conv2 = GCNConv(hidden_channels, hidden_channels)\n",
        "        self.out = Linear(hidden_channels, dataset.num_classes)\n",
        "\n",
        "    def forward(self, x, edge_index):\n",
        "        # First Message Passing Layer (Transformation)\n",
        "        x = self.conv1(x, edge_index)\n",
        "        x = x.relu()\n",
        "        x = F.dropout(x, p=0.5, training=self.training)\n",
        "\n",
        "        # Second Message Passing Layer\n",
        "        x = self.conv2(x, edge_index)\n",
        "        x = x.relu()\n",
        "        x = F.dropout(x, p=0.5, training=self.training)\n",
        "\n",
        "        # Output layer\n",
        "        x = F.softmax(self.out(x), dim=1)\n",
        "        return x\n",
        "\n",
        "model = GCN(hidden_channels=16)\n",
        "print(model)"
      ],
      "execution_count": null,
      "outputs": []
    },
    {
      "cell_type": "markdown",
      "metadata": {
        "id": "0e5Tl6J2j5S-"
      },
      "source": [
        "Observations:\n",
        "- Dropout is only applied in the training step, but not for predictions\n",
        "- We have 2 Message Passing Layers and one Linear output layer\n",
        "- We use the softmax function for the classification problem\n",
        "- The output of the model are 7 probabilities, one for each class"
      ]
    },
    {
      "cell_type": "markdown",
      "metadata": {
        "id": "i-FXQsBGSk0K"
      },
      "source": [
        "## Training and Evaluation"
      ]
    },
    {
      "cell_type": "code",
      "metadata": {
        "id": "CY77lILlzPXO"
      },
      "source": [
        "# Initialize model\n",
        "model = GCN(hidden_channels=16)\n",
        "\n",
        "# Use GPU\n",
        "device = torch.device(\"cuda:0\" if torch.cuda.is_available() else \"cpu\")\n",
        "model = model.to(device)\n",
        "data = data.to(device)\n",
        "\n",
        "# Initialize Optimizer\n",
        "learning_rate = 0.01\n",
        "decay = 5e-4\n",
        "optimizer = torch.optim.Adam(model.parameters(),\n",
        "                             lr=learning_rate,\n",
        "                             weight_decay=decay)\n",
        "# Define loss function (CrossEntropyLoss for Classification Problems with\n",
        "# probability distributions)\n",
        "criterion = torch.nn.CrossEntropyLoss()\n",
        "\n",
        "def train():\n",
        "      model.train()\n",
        "      optimizer.zero_grad()\n",
        "      # Use all data as input, because all nodes have node features\n",
        "      out = model(data.x, data.edge_index)\n",
        "      # Only use nodes with labels available for loss calculation --> mask\n",
        "      loss = criterion(out[data.train_mask], data.y[data.train_mask])\n",
        "      loss.backward()\n",
        "      optimizer.step()\n",
        "      return loss\n",
        "\n",
        "def test():\n",
        "      model.eval()\n",
        "      out = model(data.x, data.edge_index)\n",
        "      # Use the class with highest probability.\n",
        "      pred = out.argmax(dim=1)\n",
        "      # Check against ground-truth labels.\n",
        "      test_correct = pred[data.test_mask] == data.y[data.test_mask]\n",
        "      # Derive ratio of correct predictions.\n",
        "      test_acc = int(test_correct.sum()) / int(data.test_mask.sum())\n",
        "      return test_acc\n",
        "\n",
        "losses = []\n",
        "for epoch in range(0, 1001):\n",
        "    loss = train()\n",
        "    losses.append(loss)\n",
        "    if epoch % 100 == 0:\n",
        "      print(f'Epoch: {epoch:03d}, Loss: {loss:.4f}')"
      ],
      "execution_count": null,
      "outputs": []
    },
    {
      "cell_type": "markdown",
      "metadata": {
        "id": "5zsXPVNEly8I"
      },
      "source": [
        "Visualize the training loss"
      ]
    },
    {
      "cell_type": "code",
      "metadata": {
        "id": "oO3VDUwmlrmT"
      },
      "source": [
        "import seaborn as sns\n",
        "losses_float = [float(loss.cpu().detach().numpy()) for loss in losses]\n",
        "loss_indices = [i for i,l in enumerate(losses_float)]\n",
        "plt = sns.lineplot(loss_indices, losses_float)\n",
        "plt"
      ],
      "execution_count": null,
      "outputs": []
    },
    {
      "cell_type": "markdown",
      "metadata": {
        "id": "n-c68XAAl5c-"
      },
      "source": [
        "Calculate test metric"
      ]
    },
    {
      "cell_type": "code",
      "metadata": {
        "id": "E9oH4zpQzS0S"
      },
      "source": [
        "test_acc = test()\n",
        "print(f'Test Accuracy: {test_acc:.4f}')"
      ],
      "execution_count": null,
      "outputs": []
    },
    {
      "cell_type": "code",
      "metadata": {
        "id": "4S3shZpQrYGm"
      },
      "source": [
        "import seaborn as sns\n",
        "import numpy as np\n",
        "sample = 9\n",
        "sns.set_theme(style=\"whitegrid\")\n",
        "print(model(data.x, data.edge_index).shape)\n",
        "pred = model(data.x, data.edge_index)\n",
        "sns.barplot(x=np.array(range(7)), y=pred[sample].detach().cpu().numpy())"
      ],
      "execution_count": null,
      "outputs": []
    },
    {
      "cell_type": "markdown",
      "metadata": {
        "id": "BdSdcLrS0x2H"
      },
      "source": [
        "### Visualizing the embeddings"
      ]
    },
    {
      "cell_type": "code",
      "metadata": {
        "id": "uYgHw6M9mIxG"
      },
      "source": [
        "import matplotlib.pyplot as plt\n",
        "from sklearn.manifold import TSNE\n",
        "import numpy as np\n",
        "\n",
        "def plt2arr(fig):\n",
        "    rgb_str = fig.canvas.tostring_rgb()\n",
        "    (w,h) = fig.canvas.get_width_height()\n",
        "    rgba_arr = np.fromstring(rgb_str, dtype=np.uint8, sep='').reshape((w,h,-1))\n",
        "    return rgba_arr\n",
        "\n",
        "\n",
        "def visualize(h, color, epoch):\n",
        "    fig = plt.figure(figsize=(5,5), frameon=False)\n",
        "    fig.suptitle(f'Epoch = {epoch}')\n",
        "    # Fit TSNE with 2 components\n",
        "    z = TSNE(n_components=2).fit_transform(out.detach().cpu().numpy())\n",
        "\n",
        "    # Create scatterplot from embeddings\n",
        "    plt.xticks([])\n",
        "    plt.yticks([])\n",
        "    plt.scatter(z[:, 0],\n",
        "                z[:, 1],\n",
        "                s=70,\n",
        "                c=color.detach().cpu().numpy(),\n",
        "                cmap=\"Set2\")\n",
        "    fig.canvas.draw()\n",
        "\n",
        "    # Convert to numpy\n",
        "    return plt2arr(fig)\n",
        "\n",
        "\n",
        "# Reset the previously trained model weights\n",
        "for layer in model.children():\n",
        "   if hasattr(layer, 'reset_parameters'):\n",
        "       layer.reset_parameters()"
      ],
      "execution_count": null,
      "outputs": []
    },
    {
      "cell_type": "code",
      "metadata": {
        "id": "hmJFwjEDzZW1"
      },
      "source": [
        "# Ignore deprecation warnings here\n",
        "import warnings\n",
        "warnings.filterwarnings('ignore')\n",
        "\n",
        "# Train the model and save visualizations\n",
        "images = []\n",
        "for epoch in range(0, 2000):\n",
        "    loss = train()\n",
        "    if epoch % 50 == 0:\n",
        "      out = model(data.x, data.edge_index)\n",
        "      images.append(visualize(out, color=data.y, epoch=epoch))\n",
        "print(\"TSNE Visualization finished.\")"
      ],
      "execution_count": null,
      "outputs": []
    },
    {
      "cell_type": "markdown",
      "metadata": {
        "id": "gBDNctNyyT0_"
      },
      "source": [
        "Building a GIF from this"
      ]
    },
    {
      "cell_type": "code",
      "metadata": {
        "id": "lTnr2Er9yVl4"
      },
      "source": [
        "!pip install moviepy"
      ],
      "execution_count": null,
      "outputs": []
    },
    {
      "cell_type": "code",
      "metadata": {
        "id": "yhHftVS1y-mM"
      },
      "source": [
        "from moviepy.editor import ImageSequenceClip\n",
        "fps = 1\n",
        "filename = \"/content/embeddings.gif\"\n",
        "clip = ImageSequenceClip(images, fps=fps)\n",
        "clip.write_gif(filename, fps=fps)"
      ],
      "execution_count": null,
      "outputs": []
    },
    {
      "cell_type": "code",
      "metadata": {
        "id": "MgpdOAUdSXFb"
      },
      "source": [
        "from IPython.display import Image\n",
        "with open('/content/embeddings.gif','rb') as f:\n",
        "    display(Image(data=f.read(), format='png'))"
      ],
      "execution_count": null,
      "outputs": []
    },
    {
      "cell_type": "markdown",
      "metadata": {
        "id": "m9B1m72J0gK5"
      },
      "source": [
        "## Improving the model\n",
        "- Cross-Validation\n",
        "- Hyperparameter Optimization\n",
        "- Different layer types GCN, GAT... ([here](hhttps://pytorch-geometric.readthedocs.io/en/latest/modules/nn.html))\n",
        "- Including edge features ([here](https://wiki.tum.de/display/dlma/Exploiting+Edge+Features+in+Graph+Neural+Networks))  \n",
        "--> The best performance is currently [at around 0.9](https://paperswithcode.com/sota/node-classification-on-cora)"
      ]
    }
  ]
}